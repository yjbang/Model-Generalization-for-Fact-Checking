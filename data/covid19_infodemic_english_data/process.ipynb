{
 "cells": [
  {
   "cell_type": "code",
   "execution_count": 11,
   "metadata": {},
   "outputs": [],
   "source": [
    "import pandas as pd"
   ]
  },
  {
   "cell_type": "code",
   "execution_count": 17,
   "metadata": {},
   "outputs": [],
   "source": [
    "path = 'covid19_infodemic_english_data.tsv'\n",
    "df = pd.read_csv(path, sep='\\t')\n",
    "\n",
    "data = []\n",
    "for index, row in df.iterrows():\n",
    "    if type(row['q2_label']) == str:\n",
    "        if row['q2_label'].startswith('1') or row['q2_label'].startswith('2'):\n",
    "            data.append({'tweet': row['text'], 'label' :'real'})\n",
    "        elif row['q2_label'].startswith('4') or row['q2_label'].startswith('5'):\n",
    "            data.append({'tweet': row['text'], 'label' :'fake'})\n",
    "\n",
    "            \n",
    "df_new = pd.DataFrame(data)\n",
    "# df_new.index.name = 'id' \n",
    "df_new['id'] = df_new.index+1\n",
    "df_new = df_new[['id', 'tweet', 'label']]"
   ]
  },
  {
   "cell_type": "code",
   "execution_count": 18,
   "metadata": {},
   "outputs": [
    {
     "data": {
      "text/html": [
       "<div>\n",
       "<style scoped>\n",
       "    .dataframe tbody tr th:only-of-type {\n",
       "        vertical-align: middle;\n",
       "    }\n",
       "\n",
       "    .dataframe tbody tr th {\n",
       "        vertical-align: top;\n",
       "    }\n",
       "\n",
       "    .dataframe thead th {\n",
       "        text-align: right;\n",
       "    }\n",
       "</style>\n",
       "<table border=\"1\" class=\"dataframe\">\n",
       "  <thead>\n",
       "    <tr style=\"text-align: right;\">\n",
       "      <th></th>\n",
       "      <th>id</th>\n",
       "      <th>tweet</th>\n",
       "      <th>label</th>\n",
       "    </tr>\n",
       "  </thead>\n",
       "  <tbody>\n",
       "    <tr>\n",
       "      <th>0</th>\n",
       "      <td>1</td>\n",
       "      <td>This is the face of someone who just spent 9 h...</td>\n",
       "      <td>real</td>\n",
       "    </tr>\n",
       "    <tr>\n",
       "      <th>1</th>\n",
       "      <td>2</td>\n",
       "      <td>Yesterday I knocked on my Tennant's door and t...</td>\n",
       "      <td>real</td>\n",
       "    </tr>\n",
       "    <tr>\n",
       "      <th>2</th>\n",
       "      <td>3</td>\n",
       "      <td>This is Dr. Usama Riaz. He spent past weeks sc...</td>\n",
       "      <td>real</td>\n",
       "    </tr>\n",
       "    <tr>\n",
       "      <th>3</th>\n",
       "      <td>4</td>\n",
       "      <td>fun fact: its tradition for europeans to sprea...</td>\n",
       "      <td>fake</td>\n",
       "    </tr>\n",
       "    <tr>\n",
       "      <th>4</th>\n",
       "      <td>5</td>\n",
       "      <td>So, the last week I have been battling COVID-1...</td>\n",
       "      <td>real</td>\n",
       "    </tr>\n",
       "    <tr>\n",
       "      <th>...</th>\n",
       "      <td>...</td>\n",
       "      <td>...</td>\n",
       "      <td>...</td>\n",
       "    </tr>\n",
       "    <tr>\n",
       "      <th>255</th>\n",
       "      <td>256</td>\n",
       "      <td>Trump: Corona-flu is not serious, go to work i...</td>\n",
       "      <td>real</td>\n",
       "    </tr>\n",
       "    <tr>\n",
       "      <th>256</th>\n",
       "      <td>257</td>\n",
       "      <td>But, but...Trump didn’t prepare for the corona...</td>\n",
       "      <td>fake</td>\n",
       "    </tr>\n",
       "    <tr>\n",
       "      <th>257</th>\n",
       "      <td>258</td>\n",
       "      <td>President Trump's comments about the coronavir...</td>\n",
       "      <td>fake</td>\n",
       "    </tr>\n",
       "    <tr>\n",
       "      <th>258</th>\n",
       "      <td>259</td>\n",
       "      <td>Drug companies reportedly killed a provision i...</td>\n",
       "      <td>real</td>\n",
       "    </tr>\n",
       "    <tr>\n",
       "      <th>259</th>\n",
       "      <td>260</td>\n",
       "      <td>#FOX to cause PANDEMIC  #FoxNews is spreading ...</td>\n",
       "      <td>real</td>\n",
       "    </tr>\n",
       "  </tbody>\n",
       "</table>\n",
       "<p>260 rows × 3 columns</p>\n",
       "</div>"
      ],
      "text/plain": [
       "      id                                              tweet label\n",
       "0      1  This is the face of someone who just spent 9 h...  real\n",
       "1      2  Yesterday I knocked on my Tennant's door and t...  real\n",
       "2      3  This is Dr. Usama Riaz. He spent past weeks sc...  real\n",
       "3      4  fun fact: its tradition for europeans to sprea...  fake\n",
       "4      5  So, the last week I have been battling COVID-1...  real\n",
       "..   ...                                                ...   ...\n",
       "255  256  Trump: Corona-flu is not serious, go to work i...  real\n",
       "256  257  But, but...Trump didn’t prepare for the corona...  fake\n",
       "257  258  President Trump's comments about the coronavir...  fake\n",
       "258  259  Drug companies reportedly killed a provision i...  real\n",
       "259  260  #FOX to cause PANDEMIC  #FoxNews is spreading ...  real\n",
       "\n",
       "[260 rows x 3 columns]"
      ]
     },
     "execution_count": 18,
     "metadata": {},
     "output_type": "execute_result"
    }
   ],
   "source": [
    "df_new"
   ]
  },
  {
   "cell_type": "code",
   "execution_count": 10,
   "metadata": {},
   "outputs": [],
   "source": [
    "with open('processed_covid19_infodemic_english_data2.tsv', 'w') as f:\n",
    "    df_new.to_csv(f, sep='\\t', index=False)"
   ]
  },
  {
   "cell_type": "code",
   "execution_count": null,
   "metadata": {},
   "outputs": [],
   "source": []
  }
 ],
 "metadata": {
  "kernelspec": {
   "display_name": "Python 3",
   "language": "python",
   "name": "python3"
  },
  "language_info": {
   "codemirror_mode": {
    "name": "ipython",
    "version": 3
   },
   "file_extension": ".py",
   "mimetype": "text/x-python",
   "name": "python",
   "nbconvert_exporter": "python",
   "pygments_lexer": "ipython3",
   "version": "3.6.10"
  }
 },
 "nbformat": 4,
 "nbformat_minor": 4
}
