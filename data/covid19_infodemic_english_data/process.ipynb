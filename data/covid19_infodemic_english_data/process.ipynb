{
 "cells": [
  {
   "cell_type": "code",
   "execution_count": 2,
   "metadata": {},
   "outputs": [],
   "source": [
    "import pandas as pd"
   ]
  },
  {
   "cell_type": "code",
   "execution_count": 7,
   "metadata": {},
   "outputs": [],
   "source": [
    "path = 'covid19_infodemic_english_data.tsv'\n",
    "df = pd.read_csv(path, sep='\\t')\n",
    "\n",
    "data = []\n",
    "for index, row in df.iterrows():\n",
    "    if type(row['q2_label']) == str:\n",
    "        if row['q2_label'].startswith('1') or row['q2_label'].startswith('1'):\n",
    "            data.append({'label' :'real', 'tweet': row['text']})\n",
    "        elif row['q2_label'].startswith('4') or row['q2_label'].startswith('5'):\n",
    "            data.append({'label' :'fake', 'tweet': row['text']})\n",
    "        \n",
    "        \n",
    "df_new = pd.DataFrame(data)\n"
   ]
  },
  {
   "cell_type": "code",
   "execution_count": 8,
   "metadata": {},
   "outputs": [],
   "source": [
    "with open('processed_covid19_infodemic_english_data.tsv', 'w') as f:\n",
    "    df_new.to_csv(f, sep='\\t')"
   ]
  },
  {
   "cell_type": "code",
   "execution_count": null,
   "metadata": {},
   "outputs": [],
   "source": []
  }
 ],
 "metadata": {
  "kernelspec": {
   "display_name": "Python 3",
   "language": "python",
   "name": "python3"
  },
  "language_info": {
   "codemirror_mode": {
    "name": "ipython",
    "version": 3
   },
   "file_extension": ".py",
   "mimetype": "text/x-python",
   "name": "python",
   "nbconvert_exporter": "python",
   "pygments_lexer": "ipython3",
   "version": "3.6.10"
  }
 },
 "nbformat": 4,
 "nbformat_minor": 4
}
