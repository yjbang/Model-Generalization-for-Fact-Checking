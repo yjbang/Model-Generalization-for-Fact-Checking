{
 "cells": [
  {
   "cell_type": "code",
   "execution_count": 1,
   "metadata": {},
   "outputs": [],
   "source": [
    "import pandas as pd\n",
    "from sklearn.model_selection import train_test_split"
   ]
  },
  {
   "cell_type": "code",
   "execution_count": 2,
   "metadata": {},
   "outputs": [],
   "source": [
    "path = 'covid19_infodemic_english_data.tsv'\n",
    "df = pd.read_csv(path, sep='\\t')\n",
    "\n",
    "data = []\n",
    "for index, row in df.iterrows():\n",
    "    if type(row['q2_label']) == str:\n",
    "        if row['q2_label'].startswith('1') or row['q2_label'].startswith('2'):\n",
    "            data.append({'label' :'real', 'tweet': row['text']})\n",
    "        elif row['q2_label'].startswith('4') or row['q2_label'].startswith('5'):\n",
    "            data.append({'label' :'fake', 'tweet': row['text']})\n",
    "        \n",
    "        \n",
    "df_new = pd.DataFrame(data).reset_index()\n",
    "df_new = df_new.rename(columns={'index': 'id'})\n",
    "df_new = df_new[['id','tweet','label']]"
   ]
  },
  {
   "cell_type": "code",
   "execution_count": 3,
   "metadata": {},
   "outputs": [],
   "source": [
    "with open('processed_covid19_infodemic_english_data2.tsv', 'w') as f:\n",
    "    df_new.to_csv(f, sep='\\t', index=False)"
   ]
  },
  {
   "cell_type": "code",
   "execution_count": 4,
   "metadata": {},
   "outputs": [],
   "source": [
    "test_df, valid_df = train_test_split(df_new, test_size=60, stratify=df_new['label'])"
   ]
  },
  {
   "cell_type": "code",
   "execution_count": 5,
   "metadata": {},
   "outputs": [
    {
     "data": {
      "text/plain": [
       "((200, 3), (60, 3))"
      ]
     },
     "execution_count": 5,
     "metadata": {},
     "output_type": "execute_result"
    }
   ],
   "source": [
    "test_df.shape, valid_df.shape"
   ]
  },
  {
   "cell_type": "code",
   "execution_count": 6,
   "metadata": {},
   "outputs": [],
   "source": [
    "test_df.reset_index(drop=True).to_csv('processed_test_data.tsv', sep='\\t', index=False)\n",
    "valid_df.reset_index(drop=True).to_csv('processed_valid_data.tsv', sep='\\t', index=False)"
   ]
  },
  {
   "cell_type": "code",
   "execution_count": null,
   "metadata": {},
   "outputs": [],
   "source": []
  }
 ],
 "metadata": {
  "kernelspec": {
   "display_name": "Python 3",
   "language": "python",
   "name": "python3"
  },
  "language_info": {
   "codemirror_mode": {
    "name": "ipython",
    "version": 3
   },
   "file_extension": ".py",
   "mimetype": "text/x-python",
   "name": "python",
   "nbconvert_exporter": "python",
   "pygments_lexer": "ipython3",
   "version": "3.7.4"
  }
 },
 "nbformat": 4,
 "nbformat_minor": 4
}
