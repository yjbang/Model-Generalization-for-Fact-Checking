{
 "cells": [
  {
   "cell_type": "markdown",
   "metadata": {},
   "source": [
    "# Finetuning FakeNewsAAAI\n",
    "FakeNewsAAAI is a Fake News dataset with 2 possible labels: `real` and `fake`"
   ]
  },
  {
   "cell_type": "code",
   "execution_count": 1,
   "metadata": {},
   "outputs": [],
   "source": [
    "import os, sys\n",
    "os.environ['CUDA_VISIBLE_DEVICES'] = '0'\n",
    "\n",
    "import random\n",
    "import numpy as np\n",
    "import pandas as pd\n",
    "import torch\n",
    "from torch import optim\n",
    "import torch.nn.functional as F\n",
    "from torch.nn import CrossEntropyLoss\n",
    "import torch.nn as nn\n",
    "import torch.multiprocessing as mp\n",
    "from tqdm import tqdm\n",
    "import pickle\n",
    "from copy import deepcopy\n",
    "from multiprocessing import Pool                                                \n",
    "\n",
    "from transformers import BertForSequenceClassification, RobertaForSequenceClassification\n",
    "from transformers import AutoModelForSequenceClassification, AutoConfig, AutoTokenizer\n",
    "from utils.forward_fn import forward_mask_sequence_classification\n",
    "from utils.metrics import classification_metrics_fn\n",
    "from utils.data_utils import FakeNewsDataset, FakeNewsDataLoader\n",
    "from utils.utils import generate_random_mask\n",
    "\n",
    "import matplotlib.pyplot as plt\n",
    "import seaborn as sns"
   ]
  },
  {
   "cell_type": "code",
   "execution_count": 2,
   "metadata": {},
   "outputs": [],
   "source": [
    "###\n",
    "# common functions\n",
    "###\n",
    "def set_seed(seed):\n",
    "    random.seed(seed)\n",
    "    np.random.seed(seed)\n",
    "    torch.manual_seed(seed)\n",
    "    torch.cuda.manual_seed(seed)\n",
    "    \n",
    "def count_param(module, trainable=False):\n",
    "    if trainable:\n",
    "        return sum(p.numel() for p in module.parameters() if p.requires_grad)\n",
    "    else:\n",
    "        return sum(p.numel() for p in module.parameters())\n",
    "    \n",
    "def get_lr(optimizer):\n",
    "    for param_group in optimizer.param_groups:\n",
    "        return param_group['lr']\n",
    "\n",
    "def metrics_to_string(metric_dict):\n",
    "    string_list = []\n",
    "    for key, value in metric_dict.items():\n",
    "        string_list.append('{}:{:.4f}'.format(key, value))\n",
    "    return ' '.join(string_list)"
   ]
  },
  {
   "cell_type": "code",
   "execution_count": 3,
   "metadata": {},
   "outputs": [],
   "source": [
    "def influence_score(model, id, subword, mask, label, device='cpu'):\n",
    "    loss_fct = CrossEntropyLoss(reduction='none')\n",
    "    with torch.no_grad():\n",
    "        # Prepare input & label\n",
    "        subword = torch.LongTensor(subword)\n",
    "        mask = torch.FloatTensor(mask)\n",
    "        label = torch.LongTensor(label)\n",
    "\n",
    "        if device == \"cuda\":\n",
    "            subword = subword.cuda()\n",
    "            mask = mask.cuda()\n",
    "            label = label.cuda()\n",
    "\n",
    "        if isinstance(model, BertForSequenceClassification):\n",
    "            # Apply mask\n",
    "            weight, bias = model.classifier.weight, model.classifier.bias\n",
    "            dropout_mask = generate_random_mask([id], weight.shape[0], weight.shape[1], device=device).repeat(subword.shape[0],1,1)\n",
    "            masked_weight = weight.expand_as(dropout_mask) * dropout_mask\n",
    "\n",
    "            # Calculate latents\n",
    "            latents = model.bert(subword, attention_mask=mask)[1]\n",
    "            latents = model.dropout(latents)            \n",
    "        elif isinstance(model, RobertaForSequenceClassification):\n",
    "            # Apply mask\n",
    "            weight, bias = model.classifier.out_proj.weight, model.classifier.out_proj.bias\n",
    "            dropout_mask = generate_random_mask([id], weight.shape[0], weight.shape[1], device=device).repeat(subword.shape[0],1,1)\n",
    "            masked_weight = weight.expand_as(dropout_mask) * dropout_mask\n",
    "\n",
    "            # Calculate latents\n",
    "            latents = model.roberta(subword, attention_mask=mask)[0][:,0,:]\n",
    "            latents = model.classifier.dense(latents)\n",
    "            latents = model.classifier.dropout(latents)\n",
    "        else:\n",
    "            ValueError(f'Model class `{type(model)}` is not implemented yet')\n",
    "\n",
    "        # Compute loss with mask\n",
    "        logits = torch.einsum('bd,bcd->bc', latents, masked_weight) + bias\n",
    "        mask_loss = loss_fct(logits.view(-1, model.num_labels), label.view(-1))\n",
    "\n",
    "        # Compute loss with flipped mask\n",
    "        logits = torch.einsum('bd,bcd->bc', latents, (masked_weight.max() - masked_weight)) + bias\n",
    "        flipped_mask_loss = loss_fct(logits.view(-1, model.num_labels), label.view(-1))\n",
    "                              \n",
    "        return flipped_mask_loss - mask_loss\n",
    "                              \n",
    "def build_influence_matrix(model, data_loader, train_size, device='cpu'):\n",
    "    test_size, batch_size = len(data_loader.dataset), data_loader.batch_size\n",
    "    influence_mat = torch.zeros(test_size, train_size, device=device)\n",
    "    idx2id = {}\n",
    "    for i, batch_data in enumerate(data_loader):\n",
    "        print(f'Processing batch {i+1}/{len(data_loader)}')\n",
    "        (ids, subword_batch, mask_batch, label_batch, seq_list) = batch_data\n",
    "        token_type_batch = None\n",
    "\n",
    "        for train_idx in tqdm(range(train_size)):\n",
    "            train_id = train_idx + 1\n",
    "            scores = influence_score(model, train_id, subword_batch, mask_batch, label_batch, device=device)\n",
    "            for j, id in enumerate(ids):\n",
    "                idx2id[(i * batch_size) + j] = id\n",
    "                influence_mat[(i * batch_size) + j, train_idx] = scores[j]\n",
    "    return influence_mat, idx2id\n",
    "\n",
    "def get_inference_result(model, data_loader, device='cpu'):\n",
    "    results = {}\n",
    "    with torch.no_grad():\n",
    "        pbar = tqdm(data_loader, leave=True, total=len(data_loader))\n",
    "        for i, batch_data in enumerate(pbar):\n",
    "            batch_id = batch_data[0]\n",
    "            batch_seq = batch_data[-1]\n",
    "            outputs = forward_mask_sequence_classification(model, batch_data[:-1], i2w=i2w, apply_mask=True, device='cuda')\n",
    "            loss, batch_hyp, batch_label, logits, label_batch = outputs\n",
    "\n",
    "            for i, id in enumerate(batch_id):\n",
    "                results[id] = batch_hyp[i] == batch_label[i]\n",
    "    return results\n",
    "\n",
    "def get_filtered_dataloader(data_loader, id_list, inclusive=True, batch_size=8, shuffle=False):\n",
    "    df = data_loader.dataset.data\n",
    "    if inclusive:\n",
    "        filt_df = df[df['id'].isin(id_list)].reset_index(drop=True)\n",
    "    else:\n",
    "        filt_df = df[~df['id'].isin(id_list)].reset_index(drop=True)\n",
    "    dataset = FakeNewsDataset(dataset_path=None, dataset=filt_df, tokenizer=tokenizer, lowercase=False)\n",
    "    data_loader = FakeNewsDataLoader(dataset=dataset, max_seq_len=512, batch_size=batch_size, num_workers=8, shuffle=shuffle)  \n",
    "    return data_loader"
   ]
  },
  {
   "cell_type": "code",
   "execution_count": 4,
   "metadata": {},
   "outputs": [],
   "source": [
    "# Set random seed\n",
    "set_seed(26092020)\n",
    "\n",
    "# Set mp start method\n",
    "mp.set_start_method('spawn')"
   ]
  },
  {
   "cell_type": "markdown",
   "metadata": {},
   "source": [
    "# Load Model"
   ]
  },
  {
   "cell_type": "code",
   "execution_count": 5,
   "metadata": {
    "scrolled": true
   },
   "outputs": [
    {
     "name": "stderr",
     "output_type": "stream",
     "text": [
      "Some weights of the model checkpoint at roberta-base were not used when initializing RobertaForSequenceClassification: ['lm_head.bias', 'lm_head.dense.weight', 'lm_head.dense.bias', 'lm_head.layer_norm.weight', 'lm_head.layer_norm.bias', 'lm_head.decoder.weight', 'roberta.pooler.dense.weight', 'roberta.pooler.dense.bias']\n",
      "- This IS expected if you are initializing RobertaForSequenceClassification from the checkpoint of a model trained on another task or with another architecture (e.g. initializing a BertForSequenceClassification model from a BertForPretraining model).\n",
      "- This IS NOT expected if you are initializing RobertaForSequenceClassification from the checkpoint of a model that you expect to be exactly identical (initializing a BertForSequenceClassification model from a BertForSequenceClassification model).\n",
      "Some weights of RobertaForSequenceClassification were not initialized from the model checkpoint at roberta-base and are newly initialized: ['classifier.dense.weight', 'classifier.dense.bias', 'classifier.out_proj.weight', 'classifier.out_proj.bias']\n",
      "You should probably TRAIN this model on a down-stream task to be able to use it for predictions and inference.\n"
     ]
    }
   ],
   "source": [
    "# Load Tokenizer and Config\n",
    "tokenizer = AutoTokenizer.from_pretrained('roberta-base')\n",
    "config = AutoConfig.from_pretrained('roberta-base')\n",
    "config.num_labels = FakeNewsDataset.NUM_LABELS\n",
    "\n",
    "# Instantiate model\n",
    "model = AutoModelForSequenceClassification.from_pretrained('roberta-base', config=config)"
   ]
  },
  {
   "cell_type": "code",
   "execution_count": 6,
   "metadata": {},
   "outputs": [
    {
     "data": {
      "text/plain": [
       "124647170"
      ]
     },
     "execution_count": 6,
     "metadata": {},
     "output_type": "execute_result"
    }
   ],
   "source": [
    "count_param(model)"
   ]
  },
  {
   "cell_type": "markdown",
   "metadata": {},
   "source": [
    "# Prepare Dataset"
   ]
  },
  {
   "cell_type": "code",
   "execution_count": 7,
   "metadata": {},
   "outputs": [],
   "source": [
    "train_dataset_path = './data/train.tsv'\n",
    "valid_dataset_path = './data/valid.tsv'\n",
    "# test_dataset_path = './dataset/test.tsv'"
   ]
  },
  {
   "cell_type": "code",
   "execution_count": 8,
   "metadata": {},
   "outputs": [],
   "source": [
    "train_dataset = FakeNewsDataset(dataset_path=train_dataset_path, tokenizer=tokenizer, lowercase=False)\n",
    "valid_dataset = FakeNewsDataset(dataset_path=valid_dataset_path, tokenizer=tokenizer, lowercase=False)\n",
    "# test_dataset = FakeNewsDataset(dataset_path=test_dataset_path, tokenizer=tokenizer, lowercase=False)\n",
    "\n",
    "train_loader = FakeNewsDataLoader(dataset=train_dataset, max_seq_len=512, batch_size=8, num_workers=8, shuffle=True)  \n",
    "valid_loader = FakeNewsDataLoader(dataset=valid_dataset, max_seq_len=512, batch_size=8, num_workers=8, shuffle=False)  \n",
    "# test_loader = FakeNewsDataLoader(dataset=test_dataset, max_seq_len=512, batch_size=8, num_workers=8, shuffle=False)"
   ]
  },
  {
   "cell_type": "code",
   "execution_count": 9,
   "metadata": {},
   "outputs": [
    {
     "name": "stdout",
     "output_type": "stream",
     "text": [
      "{'fake': 0, 'real': 1}\n",
      "{0: 'fake', 1: 'real'}\n"
     ]
    }
   ],
   "source": [
    "w2i, i2w = FakeNewsDataset.LABEL2INDEX, FakeNewsDataset.INDEX2LABEL\n",
    "print(w2i)\n",
    "print(i2w)"
   ]
  },
  {
   "cell_type": "markdown",
   "metadata": {},
   "source": [
    "# Fine Tuning & Evaluation"
   ]
  },
  {
   "cell_type": "code",
   "execution_count": 10,
   "metadata": {},
   "outputs": [],
   "source": [
    "optimizer = optim.Adam(model.parameters(), lr=1e-5)\n",
    "model = model.cuda()"
   ]
  },
  {
   "cell_type": "code",
   "execution_count": 11,
   "metadata": {},
   "outputs": [
    {
     "name": "stderr",
     "output_type": "stream",
     "text": [
      "(Epoch 1) TRAIN LOSS:0.2179 LR:0.00001000: 100%|██████████| 788/788 [01:49<00:00,  7.20it/s]\n",
      "  0%|          | 0/268 [00:00<?, ?it/s]"
     ]
    },
    {
     "name": "stdout",
     "output_type": "stream",
     "text": [
      "(Epoch 1) TRAIN LOSS:0.2179 ACC:0.9030 F1:0.9025 REC:0.9016 PRE:0.9045 LR:0.00001000\n"
     ]
    },
    {
     "name": "stderr",
     "output_type": "stream",
     "text": [
      "VALID LOSS:0.0955 ACC:0.9687 F1:0.9685 REC:0.9677 PRE:0.9702: 100%|██████████| 268/268 [00:38<00:00,  6.89it/s]\n",
      "  0%|          | 0/788 [00:00<?, ?it/s]"
     ]
    },
    {
     "name": "stdout",
     "output_type": "stream",
     "text": [
      "(Epoch 1) VALID LOSS:0.0955 ACC:0.9687 F1:0.9685 REC:0.9677 PRE:0.9702\n"
     ]
    },
    {
     "name": "stderr",
     "output_type": "stream",
     "text": [
      "(Epoch 2) TRAIN LOSS:0.0701 LR:0.00001000: 100%|██████████| 788/788 [01:49<00:00,  7.20it/s]\n",
      "  0%|          | 0/268 [00:00<?, ?it/s]"
     ]
    },
    {
     "name": "stdout",
     "output_type": "stream",
     "text": [
      "(Epoch 2) TRAIN LOSS:0.0701 ACC:0.9752 F1:0.9752 REC:0.9750 PRE:0.9754 LR:0.00001000\n"
     ]
    },
    {
     "name": "stderr",
     "output_type": "stream",
     "text": [
      "VALID LOSS:0.0812 ACC:0.9691 F1:0.9690 REC:0.9681 PRE:0.9707: 100%|██████████| 268/268 [00:39<00:00,  6.82it/s]\n",
      "  0%|          | 0/788 [00:00<?, ?it/s]"
     ]
    },
    {
     "name": "stdout",
     "output_type": "stream",
     "text": [
      "(Epoch 2) VALID LOSS:0.0812 ACC:0.9691 F1:0.9690 REC:0.9681 PRE:0.9707\n"
     ]
    },
    {
     "name": "stderr",
     "output_type": "stream",
     "text": [
      "(Epoch 3) TRAIN LOSS:0.0145 LR:0.00001000: 100%|██████████| 788/788 [01:49<00:00,  7.17it/s]\n",
      "  0%|          | 0/268 [00:00<?, ?it/s]"
     ]
    },
    {
     "name": "stdout",
     "output_type": "stream",
     "text": [
      "(Epoch 3) TRAIN LOSS:0.0145 ACC:0.9956 F1:0.9955 REC:0.9955 PRE:0.9956 LR:0.00001000\n"
     ]
    },
    {
     "name": "stderr",
     "output_type": "stream",
     "text": [
      "VALID LOSS:0.0960 ACC:0.9724 F1:0.9723 REC:0.9722 PRE:0.9725: 100%|██████████| 268/268 [00:39<00:00,  6.85it/s]\n",
      "  0%|          | 0/788 [00:00<?, ?it/s]"
     ]
    },
    {
     "name": "stdout",
     "output_type": "stream",
     "text": [
      "(Epoch 3) VALID LOSS:0.0960 ACC:0.9724 F1:0.9723 REC:0.9722 PRE:0.9725\n"
     ]
    },
    {
     "name": "stderr",
     "output_type": "stream",
     "text": [
      "(Epoch 4) TRAIN LOSS:0.0055 LR:0.00001000: 100%|██████████| 788/788 [01:48<00:00,  7.23it/s]\n",
      "  0%|          | 0/268 [00:00<?, ?it/s]"
     ]
    },
    {
     "name": "stdout",
     "output_type": "stream",
     "text": [
      "(Epoch 4) TRAIN LOSS:0.0055 ACC:0.9986 F1:0.9986 REC:0.9985 PRE:0.9986 LR:0.00001000\n"
     ]
    },
    {
     "name": "stderr",
     "output_type": "stream",
     "text": [
      "VALID LOSS:0.1451 ACC:0.9705 F1:0.9705 REC:0.9705 PRE:0.9705: 100%|██████████| 268/268 [00:38<00:00,  6.89it/s]\n",
      "  0%|          | 0/788 [00:00<?, ?it/s]"
     ]
    },
    {
     "name": "stdout",
     "output_type": "stream",
     "text": [
      "(Epoch 4) VALID LOSS:0.1451 ACC:0.9705 F1:0.9705 REC:0.9705 PRE:0.9705\n"
     ]
    },
    {
     "name": "stderr",
     "output_type": "stream",
     "text": [
      "(Epoch 5) TRAIN LOSS:0.0131 LR:0.00001000: 100%|██████████| 788/788 [01:49<00:00,  7.20it/s]\n",
      "  0%|          | 0/268 [00:00<?, ?it/s]"
     ]
    },
    {
     "name": "stdout",
     "output_type": "stream",
     "text": [
      "(Epoch 5) TRAIN LOSS:0.0131 ACC:0.9965 F1:0.9965 REC:0.9964 PRE:0.9966 LR:0.00001000\n"
     ]
    },
    {
     "name": "stderr",
     "output_type": "stream",
     "text": [
      "VALID LOSS:0.1011 ACC:0.9687 F1:0.9686 REC:0.9689 PRE:0.9684: 100%|██████████| 268/268 [00:38<00:00,  6.89it/s]\n",
      "  0%|          | 0/788 [00:00<?, ?it/s]"
     ]
    },
    {
     "name": "stdout",
     "output_type": "stream",
     "text": [
      "(Epoch 5) VALID LOSS:0.1011 ACC:0.9687 F1:0.9686 REC:0.9689 PRE:0.9684\n"
     ]
    },
    {
     "name": "stderr",
     "output_type": "stream",
     "text": [
      "(Epoch 6) TRAIN LOSS:0.0124 LR:0.00001000: 100%|██████████| 788/788 [01:49<00:00,  7.19it/s]\n",
      "  0%|          | 0/268 [00:00<?, ?it/s]"
     ]
    },
    {
     "name": "stdout",
     "output_type": "stream",
     "text": [
      "(Epoch 6) TRAIN LOSS:0.0124 ACC:0.9959 F1:0.9959 REC:0.9958 PRE:0.9959 LR:0.00001000\n"
     ]
    },
    {
     "name": "stderr",
     "output_type": "stream",
     "text": [
      "VALID LOSS:0.1053 ACC:0.9771 F1:0.9770 REC:0.9765 PRE:0.9777: 100%|██████████| 268/268 [00:40<00:00,  6.64it/s]\n",
      "  0%|          | 0/788 [00:00<?, ?it/s]"
     ]
    },
    {
     "name": "stdout",
     "output_type": "stream",
     "text": [
      "(Epoch 6) VALID LOSS:0.1053 ACC:0.9771 F1:0.9770 REC:0.9765 PRE:0.9777\n"
     ]
    },
    {
     "name": "stderr",
     "output_type": "stream",
     "text": [
      "(Epoch 7) TRAIN LOSS:0.0053 LR:0.00001000: 100%|██████████| 788/788 [01:50<00:00,  7.13it/s]\n",
      "  0%|          | 0/268 [00:00<?, ?it/s]"
     ]
    },
    {
     "name": "stdout",
     "output_type": "stream",
     "text": [
      "(Epoch 7) TRAIN LOSS:0.0053 ACC:0.9987 F1:0.9987 REC:0.9987 PRE:0.9987 LR:0.00001000\n"
     ]
    },
    {
     "name": "stderr",
     "output_type": "stream",
     "text": [
      "VALID LOSS:0.1128 ACC:0.9724 F1:0.9724 REC:0.9723 PRE:0.9724: 100%|██████████| 268/268 [00:59<00:00,  4.51it/s] \n",
      "  0%|          | 0/788 [00:00<?, ?it/s]"
     ]
    },
    {
     "name": "stdout",
     "output_type": "stream",
     "text": [
      "(Epoch 7) VALID LOSS:0.1128 ACC:0.9724 F1:0.9724 REC:0.9723 PRE:0.9724\n"
     ]
    },
    {
     "name": "stderr",
     "output_type": "stream",
     "text": [
      "(Epoch 8) TRAIN LOSS:0.0048 LR:0.00001000: 100%|██████████| 788/788 [02:14<00:00,  5.86it/s] \n",
      "  0%|          | 0/268 [00:00<?, ?it/s]"
     ]
    },
    {
     "name": "stdout",
     "output_type": "stream",
     "text": [
      "(Epoch 8) TRAIN LOSS:0.0048 ACC:0.9984 F1:0.9984 REC:0.9984 PRE:0.9984 LR:0.00001000\n"
     ]
    },
    {
     "name": "stderr",
     "output_type": "stream",
     "text": [
      "VALID LOSS:0.1238 ACC:0.9762 F1:0.9761 REC:0.9758 PRE:0.9765: 100%|██████████| 268/268 [00:39<00:00,  6.87it/s]\n",
      "  0%|          | 0/788 [00:00<?, ?it/s]"
     ]
    },
    {
     "name": "stdout",
     "output_type": "stream",
     "text": [
      "(Epoch 8) VALID LOSS:0.1238 ACC:0.9762 F1:0.9761 REC:0.9758 PRE:0.9765\n"
     ]
    },
    {
     "name": "stderr",
     "output_type": "stream",
     "text": [
      "(Epoch 9) TRAIN LOSS:0.0115 LR:0.00001000: 100%|██████████| 788/788 [01:49<00:00,  7.18it/s]\n",
      "  0%|          | 0/268 [00:00<?, ?it/s]"
     ]
    },
    {
     "name": "stdout",
     "output_type": "stream",
     "text": [
      "(Epoch 9) TRAIN LOSS:0.0115 ACC:0.9973 F1:0.9973 REC:0.9973 PRE:0.9973 LR:0.00001000\n"
     ]
    },
    {
     "name": "stderr",
     "output_type": "stream",
     "text": [
      "VALID LOSS:0.1086 ACC:0.9752 F1:0.9751 REC:0.9744 PRE:0.9764: 100%|██████████| 268/268 [00:39<00:00,  6.78it/s]\n"
     ]
    },
    {
     "name": "stdout",
     "output_type": "stream",
     "text": [
      "(Epoch 9) VALID LOSS:0.1086 ACC:0.9752 F1:0.9751 REC:0.9744 PRE:0.9764\n",
      "== BEST METRICS ==\n",
      "ACC:0.9771 F1:0.9770 REC:0.9765 PRE:0.9777\n"
     ]
    },
    {
     "data": {
      "text/plain": [
       "<All keys matched successfully>"
      ]
     },
     "execution_count": 11,
     "metadata": {},
     "output_type": "execute_result"
    }
   ],
   "source": [
    "# Train\n",
    "n_epochs = 10\n",
    "best_val_metric, best_metrics, best_state_dict = 0, None, None\n",
    "early_stop, count_stop = 3, 0\n",
    "for epoch in range(n_epochs):\n",
    "    model.train()\n",
    "    torch.set_grad_enabled(True)\n",
    " \n",
    "    total_train_loss = 0\n",
    "    list_hyp, list_label = [], []\n",
    "\n",
    "    train_pbar = tqdm(train_loader, leave=True, total=len(train_loader))\n",
    "    for i, batch_data in enumerate(train_pbar):\n",
    "        # Forward model\n",
    "        outputs = forward_mask_sequence_classification(model, batch_data[:-1], i2w=i2w, apply_mask=True, device='cuda')\n",
    "        loss, batch_hyp, batch_label, logits, label_batch = outputs\n",
    "\n",
    "        # Update model\n",
    "        optimizer.zero_grad()\n",
    "        loss.backward()\n",
    "        optimizer.step()\n",
    "\n",
    "        tr_loss = loss.item()\n",
    "        total_train_loss = total_train_loss + tr_loss\n",
    "\n",
    "        # Calculate metrics\n",
    "        list_hyp += batch_hyp\n",
    "        list_label += batch_label\n",
    "\n",
    "        train_pbar.set_description(\"(Epoch {}) TRAIN LOSS:{:.4f} LR:{:.8f}\".format((epoch+1),\n",
    "            total_train_loss/(i+1), get_lr(optimizer)))\n",
    "\n",
    "    # Calculate train metric\n",
    "    metrics = classification_metrics_fn(list_hyp, list_label)\n",
    "    print(\"(Epoch {}) TRAIN LOSS:{:.4f} {} LR:{:.8f}\".format((epoch+1),\n",
    "        total_train_loss/(i+1), metrics_to_string(metrics), get_lr(optimizer)))\n",
    "\n",
    "    # Evaluate on validation\n",
    "    model.eval()\n",
    "    torch.set_grad_enabled(False)\n",
    "    \n",
    "    total_loss, total_correct, total_labels = 0, 0, 0\n",
    "    list_hyp, list_label = [], []\n",
    "\n",
    "    pbar = tqdm(valid_loader, leave=True, total=len(valid_loader))\n",
    "    for i, batch_data in enumerate(pbar):\n",
    "        batch_seq = batch_data[-1]        \n",
    "        outputs = forward_mask_sequence_classification(model, batch_data[:-1], i2w=i2w, apply_mask=True, device='cuda')\n",
    "        loss, batch_hyp, batch_label, logits, label_batch = outputs\n",
    "        \n",
    "        # Calculate total loss\n",
    "        valid_loss = loss.item()\n",
    "        total_loss = total_loss + valid_loss\n",
    "\n",
    "        # Calculate evaluation metrics\n",
    "        list_hyp += batch_hyp\n",
    "        list_label += batch_label\n",
    "        metrics = classification_metrics_fn(list_hyp, list_label)\n",
    "\n",
    "        pbar.set_description(\"VALID LOSS:{:.4f} {}\".format(total_loss/(i+1), metrics_to_string(metrics)))\n",
    "        \n",
    "    metrics = classification_metrics_fn(list_hyp, list_label)\n",
    "    print(\"(Epoch {}) VALID LOSS:{:.4f} {}\".format((epoch+1),\n",
    "        total_loss/(i+1), metrics_to_string(metrics)))\n",
    "    \n",
    "    # Early stopping\n",
    "    val_metric = metrics['F1']\n",
    "    if best_val_metric <= val_metric:\n",
    "        best_state_dict = model.state_dict().copy()\n",
    "        best_val_metric = val_metric\n",
    "        best_metrics = metrics\n",
    "        count_stop = 0\n",
    "    else:\n",
    "        count_stop += 1\n",
    "        if count_stop == early_stop:\n",
    "            break\n",
    "            \n",
    "print('== BEST METRICS ==')\n",
    "print(metrics_to_string(best_metrics))\n",
    "\n",
    "# Save best model\n",
    "for k, v in best_state_dict.items():\n",
    "    best_state_dict[k] = v.cpu()\n",
    "torch.save(best_state_dict, './tmp/model_weight.pt')\n",
    "\n",
    "# Load best model\n",
    "model.load_state_dict(best_state_dict)"
   ]
  },
  {
   "cell_type": "code",
   "execution_count": 12,
   "metadata": {},
   "outputs": [],
   "source": [
    "# # Evaluate on test\n",
    "# model.eval()\n",
    "# torch.set_grad_enabled(False)\n",
    "\n",
    "# total_loss, total_correct, total_labels = 0, 0, 0\n",
    "# list_hyp, list_label = [], []\n",
    "\n",
    "# pbar = tqdm(test_loader, leave=True, total=len(test_loader))\n",
    "# for i, batch_data in enumerate(pbar):\n",
    "#     _, batch_hyp, _ = forward_sequence_classification(model, batch_data[:-1], i2w=i2w, device='cuda')\n",
    "#     list_hyp += batch_hyp\n",
    "\n",
    "# # Save prediction\n",
    "# df = pd.DataFrame({'label':list_hyp}).reset_index()\n",
    "# df.index = df.index + 1\n",
    "# df.to_csv('prediction.csv')\n",
    "\n",
    "# print(df)"
   ]
  },
  {
   "cell_type": "markdown",
   "metadata": {},
   "source": [
    "# Calculate Influence"
   ]
  },
  {
   "cell_type": "markdown",
   "metadata": {},
   "source": [
    "# Influence score on incorrectly classified data"
   ]
  },
  {
   "cell_type": "code",
   "execution_count": null,
   "metadata": {},
   "outputs": [],
   "source": [
    "%%time\n",
    "(ids, subword_batch, mask_batch, label_batch, seq_list) = batch_data\n",
    "influence_score(model, ids[0], subword_batch, mask_batch, label_batch, device='cuda')"
   ]
  },
  {
   "cell_type": "code",
   "execution_count": null,
   "metadata": {},
   "outputs": [],
   "source": [
    "%%time\n",
    "results = get_inference_result(model, valid_loader, device='cuda')\n",
    "correct_list = list(map(lambda kv: kv[0], filter(lambda kv: kv[1], results.items())))\n",
    "incorrect_list = list(map(lambda kv: kv[0], filter(lambda kv: not kv[1], results.items())))"
   ]
  },
  {
   "cell_type": "code",
   "execution_count": null,
   "metadata": {},
   "outputs": [],
   "source": [
    "filt_valid_loader = get_filtered_dataloader(valid_loader, incorrect_list, batch_size=16)\n",
    "len(valid_loader), len(filt_valid_loader), len(valid_loader.dataset), len(filt_valid_loader.dataset)"
   ]
  },
  {
   "cell_type": "code",
   "execution_count": null,
   "metadata": {},
   "outputs": [],
   "source": [
    "%%time\n",
    "influence_matrix, idx2id = build_influence_matrix(model, filt_valid_loader, len(train_loader.dataset), device='cuda')"
   ]
  },
  {
   "cell_type": "code",
   "execution_count": null,
   "metadata": {},
   "outputs": [],
   "source": [
    "np.save('influence_matrix.npy', (influence_matrix, idx2id))"
   ]
  },
  {
   "cell_type": "markdown",
   "metadata": {},
   "source": [
    "# Influence score on all validation data"
   ]
  },
  {
   "cell_type": "code",
   "execution_count": 13,
   "metadata": {},
   "outputs": [],
   "source": [
    "# Save data per chunk to file\n",
    "n_chunks = 6\n",
    "chunk_size = (valid_loader.dataset.data.shape[0] // n_chunks) + 1\n",
    "chunk_data, models = [], []\n",
    "\n",
    "df = pd.read_csv('./data/valid.tsv', sep='\\t')\n",
    "for i in range(n_chunks):\n",
    "    df.loc[i * chunk_size:(i+1) * chunk_size,:].to_csv(f'./tmp/chunk_{i}.tsv', sep='\\t', index=False)"
   ]
  },
  {
   "cell_type": "code",
   "execution_count": 14,
   "metadata": {},
   "outputs": [],
   "source": [
    "# # NOT SURE WHY IT IS NOT WORKING\n",
    "# # Process chunk in parallel\n",
    "# processes = (\n",
    "#     'CUDA_VISIBLE_DEVICES=1 /home/samuel/anaconda2/envs/env_py3.7/bin/python build_influence_matrix.py --valid_dataset_path ./tmp/chunk_0.tsv --model_path ./tmp/model_weight.pt --index 0 > log_0.log', \n",
    "#     'CUDA_VISIBLE_DEVICES=2 /home/samuel/anaconda2/envs/env_py3.7/bin/python build_influence_matrix.py --valid_dataset_path ./tmp/chunk_1.tsv --model_path ./tmp/model_weight.pt --index 1 > log_1.log', \n",
    "#     'CUDA_VISIBLE_DEVICES=3 /home/samuel/anaconda2/envs/env_py3.7/bin/python build_influence_matrix.py --valid_dataset_path ./tmp/chunk_2.tsv --model_path ./tmp/model_weight.pt --index 2 > log_2.log', \n",
    "#     'CUDA_VISIBLE_DEVICES=4 /home/samuel/anaconda2/envs/env_py3.7/bin/python build_influence_matrix.py --valid_dataset_path ./tmp/chunk_3.tsv --model_path ./tmp/model_weight.pt --index 3 > log_3.log', \n",
    "#     'CUDA_VISIBLE_DEVICES=5 /home/samuel/anaconda2/envs/env_py3.7/bin/python build_influence_matrix.py --valid_dataset_path ./tmp/chunk_4.tsv --model_path ./tmp/model_weight.pt --index 4 > log_4.log', \n",
    "#     'CUDA_VISIBLE_DEVICES=6 /home/samuel/anaconda2/envs/env_py3.7/bin/python build_influence_matrix.py --valid_dataset_path ./tmp/chunk_5.tsv --model_path ./tmp/model_weight.pt --index 5 > log_5.log'\n",
    "# )\n",
    "\n",
    "# def run_process(process):\n",
    "#     os.system(process)\n",
    "\n",
    "# pool = Pool(processes=6)\n",
    "# pool.map(run_process, processes)"
   ]
  },
  {
   "cell_type": "code",
   "execution_count": 86,
   "metadata": {},
   "outputs": [],
   "source": [
    "# Aggregate result\n",
    "influence_matrices, id_list = [], []\n",
    "for i in range(6):\n",
    "    (influence_matrix, idx2id_chunk) = np.load(f\"./tmp/influence_matrix_{i}.npy\", allow_pickle=True)\n",
    "    influence_matrices.append(influence_matrix.cpu().numpy())\n",
    "    for k in range(len(idx2id_chunk)):\n",
    "        id_list.append(idx2id_chunk[k])"
   ]
  },
  {
   "cell_type": "code",
   "execution_count": 88,
   "metadata": {},
   "outputs": [
    {
     "data": {
      "text/plain": [
       "(2144, 6299)"
      ]
     },
     "execution_count": 88,
     "metadata": {},
     "output_type": "execute_result"
    }
   ],
   "source": [
    "influence_matrix = np.concatenate(influence_matrices, axis=0)\n",
    "influence_matrix.shape"
   ]
  },
  {
   "cell_type": "code",
   "execution_count": 89,
   "metadata": {},
   "outputs": [
    {
     "name": "stderr",
     "output_type": "stream",
     "text": [
      "/home/samuel/anaconda2/envs/env_py3.7/lib/python3.7/site-packages/numpy/core/_asarray.py:136: VisibleDeprecationWarning: Creating an ndarray from ragged nested sequences (which is a list-or-tuple of lists-or-tuples-or ndarrays with different lengths or shapes) is deprecated. If you meant to do this, you must specify 'dtype=object' when creating the ndarray\n",
      "  return array(a, dtype, copy=False, order=order, subok=True)\n"
     ]
    }
   ],
   "source": [
    "np.save('./tmp/influence_matrix_all.npy', (influence_matrix, idx2id))"
   ]
  },
  {
   "cell_type": "markdown",
   "metadata": {},
   "source": [
    "# Qualitative analysis influence"
   ]
  },
  {
   "cell_type": "code",
   "execution_count": 75,
   "metadata": {},
   "outputs": [
    {
     "name": "stderr",
     "output_type": "stream",
     "text": [
      "100%|██████████| 268/268 [00:37<00:00,  7.23it/s]"
     ]
    },
    {
     "name": "stdout",
     "output_type": "stream",
     "text": [
      "CPU times: user 6.72 s, sys: 1.75 s, total: 8.48 s\n",
      "Wall time: 37.1 s\n"
     ]
    },
    {
     "name": "stderr",
     "output_type": "stream",
     "text": [
      "\n"
     ]
    }
   ],
   "source": [
    "%%time\n",
    "model = model.cuda()\n",
    "results = get_inference_result(model, valid_loader, device='cuda')\n",
    "correct_list = list(map(lambda kv: kv[0], filter(lambda kv: kv[1], results.items())))\n",
    "incorrect_list = list(map(lambda kv: kv[0], filter(lambda kv: not kv[1], results.items())))"
   ]
  },
  {
   "cell_type": "code",
   "execution_count": 76,
   "metadata": {},
   "outputs": [
    {
     "data": {
      "text/plain": [
       "(268, 4, 2139, 53)"
      ]
     },
     "execution_count": 76,
     "metadata": {},
     "output_type": "execute_result"
    }
   ],
   "source": [
    "filt_valid_loader = get_filtered_dataloader(valid_loader, incorrect_list, batch_size=16)\n",
    "len(valid_loader), len(filt_valid_loader), len(valid_loader.dataset), len(filt_valid_loader.dataset)"
   ]
  },
  {
   "cell_type": "code",
   "execution_count": 79,
   "metadata": {},
   "outputs": [],
   "source": [
    "train_df = train_loader.dataset.data\n",
    "valid_df = valid_loader.dataset.data\n",
    "filt_valid_df = filt_valid_loader.dataset.data"
   ]
  },
  {
   "cell_type": "code",
   "execution_count": 92,
   "metadata": {},
   "outputs": [],
   "source": [
    "indices = influence_matrix.argmin(axis=-1)\n",
    "for id, tid in zip([i for i in range(len(indices))], indices):\n",
    "    filt_valid_df.loc[filt_valid_df['id'] == id, 'tid'] = tid"
   ]
  },
  {
   "cell_type": "code",
   "execution_count": 97,
   "metadata": {},
   "outputs": [],
   "source": [
    "train_df.columns = ['tid','t_tweet', 't_label']\n",
    "\n",
    "train_df['ts_tweet'] = train_df['t_tweet'].apply(lambda x: tokenizer.tokenize(x))\n",
    "filt_valid_df['s_tweet'] = filt_valid_df['tweet'].apply(lambda x: tokenizer.tokenize(x))\n",
    "\n",
    "merged_df = filt_valid_df.merge(train_df, on='tid', how='inner')"
   ]
  },
  {
   "cell_type": "code",
   "execution_count": 99,
   "metadata": {},
   "outputs": [],
   "source": [
    "merged_df['matched_subwords'] = merged_df.apply(lambda row: list(set(row['s_tweet']).intersection(set(row['ts_tweet']))), axis='columns')"
   ]
  },
  {
   "cell_type": "code",
   "execution_count": 100,
   "metadata": {},
   "outputs": [],
   "source": [
    "import json\n",
    "json.dump(merged_df[['tweet', 't_tweet', 's_tweet', 'ts_tweet', 'matched_subwords']].to_dict(orient='instance'), open('merged_all.json', 'w'))"
   ]
  },
  {
   "cell_type": "code",
   "execution_count": 101,
   "metadata": {},
   "outputs": [
    {
     "data": {
      "text/html": [
       "<div>\n",
       "<style scoped>\n",
       "    .dataframe tbody tr th:only-of-type {\n",
       "        vertical-align: middle;\n",
       "    }\n",
       "\n",
       "    .dataframe tbody tr th {\n",
       "        vertical-align: top;\n",
       "    }\n",
       "\n",
       "    .dataframe thead th {\n",
       "        text-align: right;\n",
       "    }\n",
       "</style>\n",
       "<table border=\"1\" class=\"dataframe\">\n",
       "  <thead>\n",
       "    <tr style=\"text-align: right;\">\n",
       "      <th></th>\n",
       "      <th>id</th>\n",
       "      <th>tweet</th>\n",
       "      <th>label</th>\n",
       "      <th>tid</th>\n",
       "      <th>s_tweet</th>\n",
       "      <th>t_tweet</th>\n",
       "      <th>t_label</th>\n",
       "      <th>ts_tweet</th>\n",
       "      <th>matched_subwords</th>\n",
       "    </tr>\n",
       "  </thead>\n",
       "  <tbody>\n",
       "    <tr>\n",
       "      <th>0</th>\n",
       "      <td>14</td>\n",
       "      <td>Tomorrow April 6 we will pass 10000 coronaviru...</td>\n",
       "      <td>1</td>\n",
       "      <td>638.0</td>\n",
       "      <td>[Tomorrow, ĠApril, Ġ6, Ġwe, Ġwill, Ġpass, Ġ100...</td>\n",
       "      <td>Our total number of confirmed cases is now 116...</td>\n",
       "      <td>1</td>\n",
       "      <td>[Our, Ġtotal, Ġnumber, Ġof, Ġconfirmed, Ġcases...</td>\n",
       "      <td>[Ġdeaths, .]</td>\n",
       "    </tr>\n",
       "    <tr>\n",
       "      <th>1</th>\n",
       "      <td>50</td>\n",
       "      <td>A coronavirus vaccine: Where does it stand? Ex...</td>\n",
       "      <td>0</td>\n",
       "      <td>638.0</td>\n",
       "      <td>[A, Ġcoron, av, irus, Ġvaccine, :, ĠWhere, Ġdo...</td>\n",
       "      <td>Our total number of confirmed cases is now 116...</td>\n",
       "      <td>1</td>\n",
       "      <td>[Our, Ġtotal, Ġnumber, Ġof, Ġconfirmed, Ġcases...</td>\n",
       "      <td>[., Ġof]</td>\n",
       "    </tr>\n",
       "    <tr>\n",
       "      <th>2</th>\n",
       "      <td>1433</td>\n",
       "      <td>More and more as Coronavirus 19 was created by...</td>\n",
       "      <td>0</td>\n",
       "      <td>638.0</td>\n",
       "      <td>[More, Ġand, Ġmore, Ġas, ĠCor, on, av, irus, Ġ...</td>\n",
       "      <td>Our total number of confirmed cases is now 116...</td>\n",
       "      <td>1</td>\n",
       "      <td>[Our, Ġtotal, Ġnumber, Ġof, Ġconfirmed, Ġcases...</td>\n",
       "      <td>[Ġand, Ġis, .]</td>\n",
       "    </tr>\n",
       "    <tr>\n",
       "      <th>3</th>\n",
       "      <td>1508</td>\n",
       "      <td>PM @ScottMorrisonMP recently said a #COVID19 v...</td>\n",
       "      <td>0</td>\n",
       "      <td>638.0</td>\n",
       "      <td>[PM, Ġ@, Scott, Mor, rison, MP, Ġrecently, Ġsa...</td>\n",
       "      <td>Our total number of confirmed cases is now 116...</td>\n",
       "      <td>1</td>\n",
       "      <td>[Our, Ġtotal, Ġnumber, Ġof, Ġconfirmed, Ġcases...</td>\n",
       "      <td>[Ġto, .]</td>\n",
       "    </tr>\n",
       "    <tr>\n",
       "      <th>4</th>\n",
       "      <td>1587</td>\n",
       "      <td>A @Target spokesperson said the company plans ...</td>\n",
       "      <td>0</td>\n",
       "      <td>638.0</td>\n",
       "      <td>[A, Ġ@, Target, Ġspokesperson, Ġsaid, Ġthe, Ġc...</td>\n",
       "      <td>Our total number of confirmed cases is now 116...</td>\n",
       "      <td>1</td>\n",
       "      <td>[Our, Ġtotal, Ġnumber, Ġof, Ġconfirmed, Ġcases...</td>\n",
       "      <td>[ĠThe, Ġto, ., Ġare]</td>\n",
       "    </tr>\n",
       "    <tr>\n",
       "      <th>5</th>\n",
       "      <td>1766</td>\n",
       "      <td>A list of medical exports is causing a lot of ...</td>\n",
       "      <td>0</td>\n",
       "      <td>638.0</td>\n",
       "      <td>[A, Ġlist, Ġof, Ġmedical, Ġexports, Ġis, Ġcaus...</td>\n",
       "      <td>Our total number of confirmed cases is now 116...</td>\n",
       "      <td>1</td>\n",
       "      <td>[Our, Ġtotal, Ġnumber, Ġof, Ġconfirmed, Ġcases...</td>\n",
       "      <td>[Ġis, ., Ġof]</td>\n",
       "    </tr>\n",
       "    <tr>\n",
       "      <th>6</th>\n",
       "      <td>2087</td>\n",
       "      <td>In a presser @VP Pence just gave two important...</td>\n",
       "      <td>1</td>\n",
       "      <td>638.0</td>\n",
       "      <td>[In, Ġa, Ġpress, er, Ġ@, VP, ĠPence, Ġjust, Ġg...</td>\n",
       "      <td>Our total number of confirmed cases is now 116...</td>\n",
       "      <td>1</td>\n",
       "      <td>[Our, Ġtotal, Ġnumber, Ġof, Ġconfirmed, Ġcases...</td>\n",
       "      <td>[., Ġof, Ġto, Ġnow, Ġtotal, Ġnumber, Ġare]</td>\n",
       "    </tr>\n",
       "    <tr>\n",
       "      <th>7</th>\n",
       "      <td>146</td>\n",
       "      <td>There is no evidence that children have died b...</td>\n",
       "      <td>0</td>\n",
       "      <td>3152.0</td>\n",
       "      <td>[There, Ġis, Ġno, Ġevidence, Ġthat, Ġchildren,...</td>\n",
       "      <td>Snap analysis of this: it is a relief that Cal...</td>\n",
       "      <td>1</td>\n",
       "      <td>[Snap, Ġanalysis, Ġof, Ġthis, :, Ġit, Ġis, Ġa,...</td>\n",
       "      <td>[., Ġof, Ġa, Ġis, Ġhas, Ġthat]</td>\n",
       "    </tr>\n",
       "    <tr>\n",
       "      <th>8</th>\n",
       "      <td>231</td>\n",
       "      <td>No one should have to pay for coronavirus trea...</td>\n",
       "      <td>0</td>\n",
       "      <td>3152.0</td>\n",
       "      <td>[No, Ġone, Ġshould, Ġhave, Ġto, Ġpay, Ġfor, Ġc...</td>\n",
       "      <td>Snap analysis of this: it is a relief that Cal...</td>\n",
       "      <td>1</td>\n",
       "      <td>[Snap, Ġanalysis, Ġof, Ġthis, :, Ġit, Ġis, Ġa,...</td>\n",
       "      <td>[.]</td>\n",
       "    </tr>\n",
       "    <tr>\n",
       "      <th>9</th>\n",
       "      <td>306</td>\n",
       "      <td>The Canadian government has not enacted a law ...</td>\n",
       "      <td>0</td>\n",
       "      <td>3152.0</td>\n",
       "      <td>[The, ĠCanadian, Ġgovernment, Ġhas, Ġnot, Ġena...</td>\n",
       "      <td>Snap analysis of this: it is a relief that Cal...</td>\n",
       "      <td>1</td>\n",
       "      <td>[Snap, Ġanalysis, Ġof, Ġthis, :, Ġit, Ġis, Ġa,...</td>\n",
       "      <td>[., Ġof, Ġa, Ġthose, Ġhas, Ġthat]</td>\n",
       "    </tr>\n",
       "    <tr>\n",
       "      <th>10</th>\n",
       "      <td>1062</td>\n",
       "      <td>#ZuckOff #TakeItFromADoctor and a video with f...</td>\n",
       "      <td>1</td>\n",
       "      <td>3152.0</td>\n",
       "      <td>[#, Z, uck, Off, Ġ#, Take, It, From, AD, o, ct...</td>\n",
       "      <td>Snap analysis of this: it is a relief that Cal...</td>\n",
       "      <td>1</td>\n",
       "      <td>[Snap, Ġanalysis, Ġof, Ġthis, :, Ġit, Ġis, Ġa,...</td>\n",
       "      <td>[Ġon, Ġand, ., Ġa]</td>\n",
       "    </tr>\n",
       "    <tr>\n",
       "      <th>11</th>\n",
       "      <td>1219</td>\n",
       "      <td>The U.S. has surpassed over 1 million confirme...</td>\n",
       "      <td>1</td>\n",
       "      <td>3152.0</td>\n",
       "      <td>[The, ĠU, ., S, ., Ġhas, Ġsurpassed, Ġover, Ġ1...</td>\n",
       "      <td>Snap analysis of this: it is a relief that Cal...</td>\n",
       "      <td>1</td>\n",
       "      <td>[Snap, Ġanalysis, Ġof, Ġthis, :, Ġit, Ġis, Ġa,...</td>\n",
       "      <td>[Ġhas, ., Ġof]</td>\n",
       "    </tr>\n",
       "    <tr>\n",
       "      <th>12</th>\n",
       "      <td>1441</td>\n",
       "      <td>Children do contract the coronavirus but curre...</td>\n",
       "      <td>0</td>\n",
       "      <td>3152.0</td>\n",
       "      <td>[Children, Ġdo, Ġcontract, Ġthe, Ġcoron, av, i...</td>\n",
       "      <td>Snap analysis of this: it is a relief that Cal...</td>\n",
       "      <td>1</td>\n",
       "      <td>[Snap, Ġanalysis, Ġof, Ġthis, :, Ġit, Ġis, Ġa,...</td>\n",
       "      <td>[a, ., Ġthan, 4, Ġit, Ġa, Ġis]</td>\n",
       "    </tr>\n",
       "    <tr>\n",
       "      <th>13</th>\n",
       "      <td>1554</td>\n",
       "      <td>India conducts one million COVID-19 tests in t...</td>\n",
       "      <td>1</td>\n",
       "      <td>3152.0</td>\n",
       "      <td>[India, Ġconducts, Ġone, Ġmillion, ĠCO, VID, -...</td>\n",
       "      <td>Snap analysis of this: it is a relief that Cal...</td>\n",
       "      <td>1</td>\n",
       "      <td>[Snap, Ġanalysis, Ġof, Ġthis, :, Ġit, Ġis, Ġa,...</td>\n",
       "      <td>[Ġtests, ., 4]</td>\n",
       "    </tr>\n",
       "    <tr>\n",
       "      <th>14</th>\n",
       "      <td>1666</td>\n",
       "      <td>TTC adequate for first time in 40 years #coron...</td>\n",
       "      <td>0</td>\n",
       "      <td>3152.0</td>\n",
       "      <td>[T, TC, Ġadequate, Ġfor, Ġfirst, Ġtime, Ġin, Ġ...</td>\n",
       "      <td>Snap analysis of this: it is a relief that Cal...</td>\n",
       "      <td>1</td>\n",
       "      <td>[Snap, Ġanalysis, Ġof, Ġthis, :, Ġit, Ġis, Ġa,...</td>\n",
       "      <td>[.]</td>\n",
       "    </tr>\n",
       "    <tr>\n",
       "      <th>15</th>\n",
       "      <td>1736</td>\n",
       "      <td>Commonly used drugs hydroxychloroquine and chl...</td>\n",
       "      <td>0</td>\n",
       "      <td>3152.0</td>\n",
       "      <td>[Comm, only, Ġused, Ġdrugs, Ġhydro, xy, chlor,...</td>\n",
       "      <td>Snap analysis of this: it is a relief that Cal...</td>\n",
       "      <td>1</td>\n",
       "      <td>[Snap, Ġanalysis, Ġof, Ġthis, :, Ġit, Ġis, Ġa,...</td>\n",
       "      <td>[Ġmore, ., 4, :, Ġbe, Ġand, Ġhas, Ġan]</td>\n",
       "    </tr>\n",
       "    <tr>\n",
       "      <th>16</th>\n",
       "      <td>1800</td>\n",
       "      <td>The number of deaths from respiratory illnesse...</td>\n",
       "      <td>0</td>\n",
       "      <td>3152.0</td>\n",
       "      <td>[The, Ġnumber, Ġof, Ġdeaths, Ġfrom, Ġrespirato...</td>\n",
       "      <td>Snap analysis of this: it is a relief that Cal...</td>\n",
       "      <td>1</td>\n",
       "      <td>[Snap, Ġanalysis, Ġof, Ġthis, :, Ġit, Ġis, Ġa,...</td>\n",
       "      <td>[Ġmore, Ġof, Ġthan, Ġprevious, Ġthis, Ġbe, Ġis...</td>\n",
       "    </tr>\n",
       "    <tr>\n",
       "      <th>17</th>\n",
       "      <td>1931</td>\n",
       "      <td>If you maintain social distancing indoors ther...</td>\n",
       "      <td>0</td>\n",
       "      <td>3152.0</td>\n",
       "      <td>[If, Ġyou, Ġmaintain, Ġsocial, Ġdist, ancing, ...</td>\n",
       "      <td>Snap analysis of this: it is a relief that Cal...</td>\n",
       "      <td>1</td>\n",
       "      <td>[Snap, Ġanalysis, Ġof, Ġthis, :, Ġit, Ġis, Ġa,...</td>\n",
       "      <td>[Ġon, ., Ġof, 's, Ġan, Ġthat]</td>\n",
       "    </tr>\n",
       "    <tr>\n",
       "      <th>18</th>\n",
       "      <td>2052</td>\n",
       "      <td>All Missouri businesses can open Monday May 4 ...</td>\n",
       "      <td>0</td>\n",
       "      <td>3152.0</td>\n",
       "      <td>[All, ĠMissouri, Ġbusinesses, Ġcan, Ġopen, ĠMo...</td>\n",
       "      <td>Snap analysis of this: it is a relief that Cal...</td>\n",
       "      <td>1</td>\n",
       "      <td>[Snap, Ġanalysis, Ġof, Ġthis, :, Ġit, Ġis, Ġa,...</td>\n",
       "      <td>[., Ġare]</td>\n",
       "    </tr>\n",
       "    <tr>\n",
       "      <th>19</th>\n",
       "      <td>439</td>\n",
       "      <td>The N95 respirator offers the most protection ...</td>\n",
       "      <td>0</td>\n",
       "      <td>5345.0</td>\n",
       "      <td>[The, ĠN, 95, Ġrespir, ator, Ġoffers, Ġthe, Ġm...</td>\n",
       "      <td>For a breakdown of cases by states in real tim...</td>\n",
       "      <td>1</td>\n",
       "      <td>[For, Ġa, Ġbreakdown, Ġof, Ġcases, Ġby, Ġstate...</td>\n",
       "      <td>[co, -, ., VID, t, Ġof, Ġin, /, ://, 19, Ġhttps]</td>\n",
       "    </tr>\n",
       "    <tr>\n",
       "      <th>20</th>\n",
       "      <td>497</td>\n",
       "      <td>In objection to WA's border closures @CliveFPa...</td>\n",
       "      <td>0</td>\n",
       "      <td>6168.0</td>\n",
       "      <td>[In, Ġobjection, Ġto, ĠWA, 's, Ġborder, Ġclosu...</td>\n",
       "      <td>170 new cases of #COVID19; 39-Lagos 29-Kano 24...</td>\n",
       "      <td>1</td>\n",
       "      <td>[170, Ġnew, Ġcases, Ġof, Ġ#, CO, VID, 19, ;, Ġ...</td>\n",
       "      <td>[Ġ#, co, ., VID, t, Ġof, Ġin, /, Q, 19, :, Ġht...</td>\n",
       "    </tr>\n",
       "    <tr>\n",
       "      <th>21</th>\n",
       "      <td>610</td>\n",
       "      <td>How deadly is the coronavirus #COVID19? Scient...</td>\n",
       "      <td>1</td>\n",
       "      <td>2507.0</td>\n",
       "      <td>[How, Ġdeadly, Ġis, Ġthe, Ġcoron, av, irus, Ġ#...</td>\n",
       "      <td>Latest recommendations for the use of remdesiv...</td>\n",
       "      <td>1</td>\n",
       "      <td>[Latest, Ġrecommendations, Ġfor, Ġthe, Ġuse, Ġ...</td>\n",
       "      <td>[av, co, ., t, Ġcoron, /, Ġthe, X, ://, Ġhttps...</td>\n",
       "    </tr>\n",
       "    <tr>\n",
       "      <th>22</th>\n",
       "      <td>658</td>\n",
       "      <td>Martin stared at his reflection delighting in ...</td>\n",
       "      <td>0</td>\n",
       "      <td>344.0</td>\n",
       "      <td>[Martin, Ġstared, Ġat, Ġhis, Ġreflection, Ġdel...</td>\n",
       "      <td>Texas reported 4k new confirmed cases yesterda...</td>\n",
       "      <td>1</td>\n",
       "      <td>[Texas, Ġreported, Ġ4, k, Ġnew, Ġconfirmed, Ġc...</td>\n",
       "      <td>[co, ., t, /, Ġthe, ://, Ġhttps]</td>\n",
       "    </tr>\n",
       "    <tr>\n",
       "      <th>23</th>\n",
       "      <td>719</td>\n",
       "      <td>Man shouts at ducks for flouting lockdown rule...</td>\n",
       "      <td>0</td>\n",
       "      <td>1970.0</td>\n",
       "      <td>[Man, Ġshouts, Ġat, Ġducks, Ġfor, Ġfl, outing,...</td>\n",
       "      <td>#HCPs: Learn about #COVID19 associated VTE ris...</td>\n",
       "      <td>1</td>\n",
       "      <td>[#, H, CP, s, :, ĠLearn, Ġabout, Ġ#, CO, VID, ...</td>\n",
       "      <td>[co, 0, ., t, /, 4, ://, Ġhttps, Ġfor]</td>\n",
       "    </tr>\n",
       "    <tr>\n",
       "      <th>24</th>\n",
       "      <td>1182</td>\n",
       "      <td>Says if you're refused service at a store for ...</td>\n",
       "      <td>0</td>\n",
       "      <td>1970.0</td>\n",
       "      <td>[S, ays, Ġif, Ġyou, 're, Ġrefused, Ġservice, Ġ...</td>\n",
       "      <td>#HCPs: Learn about #COVID19 associated VTE ris...</td>\n",
       "      <td>1</td>\n",
       "      <td>[#, H, CP, s, :, ĠLearn, Ġabout, Ġ#, CO, VID, ...</td>\n",
       "      <td>[S, Ġand, Ġfor, .]</td>\n",
       "    </tr>\n",
       "    <tr>\n",
       "      <th>25</th>\n",
       "      <td>1299</td>\n",
       "      <td>List of Medicine Shops where Favipiravir table...</td>\n",
       "      <td>0</td>\n",
       "      <td>1970.0</td>\n",
       "      <td>[List, Ġof, ĠMedicine, ĠSh, ops, Ġwhere, ĠFav,...</td>\n",
       "      <td>#HCPs: Learn about #COVID19 associated VTE ris...</td>\n",
       "      <td>1</td>\n",
       "      <td>[#, H, CP, s, :, ĠLearn, Ġabout, Ġ#, CO, VID, ...</td>\n",
       "      <td>[Ġ#, co, ., VID, t, Ġin, /, ://, 19, Ġhttps, d...</td>\n",
       "    </tr>\n",
       "    <tr>\n",
       "      <th>26</th>\n",
       "      <td>1339</td>\n",
       "      <td>“If we stopped testing right now we'd have ver...</td>\n",
       "      <td>0</td>\n",
       "      <td>1970.0</td>\n",
       "      <td>[âĢ, ľ, If, Ġwe, Ġstopped, Ġtesting, Ġright, Ġ...</td>\n",
       "      <td>#HCPs: Learn about #COVID19 associated VTE ris...</td>\n",
       "      <td>1</td>\n",
       "      <td>[#, H, CP, s, :, ĠLearn, Ġabout, Ġ#, CO, VID, ...</td>\n",
       "      <td>[Ġnow, .]</td>\n",
       "    </tr>\n",
       "    <tr>\n",
       "      <th>27</th>\n",
       "      <td>1592</td>\n",
       "      <td>At this Critical Scenario We need full fledged...</td>\n",
       "      <td>0</td>\n",
       "      <td>1970.0</td>\n",
       "      <td>[At, Ġthis, ĠCritical, ĠSc, enario, ĠWe, Ġneed...</td>\n",
       "      <td>#HCPs: Learn about #COVID19 associated VTE ris...</td>\n",
       "      <td>1</td>\n",
       "      <td>[#, H, CP, s, :, ĠLearn, Ġabout, Ġ#, CO, VID, ...</td>\n",
       "      <td>[co, 2, VID, t, ., Ġ2, /, ://, Ġhttps, Y, s]</td>\n",
       "    </tr>\n",
       "    <tr>\n",
       "      <th>28</th>\n",
       "      <td>1909</td>\n",
       "      <td>While uncomfortable there no evidence that get...</td>\n",
       "      <td>0</td>\n",
       "      <td>1970.0</td>\n",
       "      <td>[While, Ġuncomfortable, Ġthere, Ġno, Ġevidence...</td>\n",
       "      <td>#HCPs: Learn about #COVID19 associated VTE ris...</td>\n",
       "      <td>1</td>\n",
       "      <td>[#, H, CP, s, :, ĠLearn, Ġabout, Ġ#, CO, VID, ...</td>\n",
       "      <td>[co, -, ., VID, t, /, ://, 19, Ġhttps]</td>\n",
       "    </tr>\n",
       "    <tr>\n",
       "      <th>29</th>\n",
       "      <td>735</td>\n",
       "      <td>Health officials caution against the use of ch...</td>\n",
       "      <td>0</td>\n",
       "      <td>444.0</td>\n",
       "      <td>[Health, Ġofficials, Ġcaution, Ġagainst, Ġthe,...</td>\n",
       "      <td>API users beware: there is a major caveat in t...</td>\n",
       "      <td>1</td>\n",
       "      <td>[API, Ġusers, Ġbeware, :, Ġthere, Ġis, Ġa, Ġma...</td>\n",
       "      <td>[co, ., t, /, Ġthe, ://, Ġhttps]</td>\n",
       "    </tr>\n",
       "    <tr>\n",
       "      <th>30</th>\n",
       "      <td>922</td>\n",
       "      <td>RT @dpfunke: A data table from the World Bank ...</td>\n",
       "      <td>0</td>\n",
       "      <td>444.0</td>\n",
       "      <td>[RT, Ġ@, dp, fun, ke, :, ĠA, Ġdata, Ġtable, Ġf...</td>\n",
       "      <td>API users beware: there is a major caveat in t...</td>\n",
       "      <td>1</td>\n",
       "      <td>[API, Ġusers, Ġbeware, :, Ġthere, Ġis, Ġa, Ġma...</td>\n",
       "      <td>[Ġfrom, ., Ġdata, Ġthe, Ġa, :, Ġis, Ġtesting]</td>\n",
       "    </tr>\n",
       "    <tr>\n",
       "      <th>31</th>\n",
       "      <td>947</td>\n",
       "      <td>#Coronavirus Update: Continuous screening of p...</td>\n",
       "      <td>0</td>\n",
       "      <td>444.0</td>\n",
       "      <td>[#, Cor, on, av, irus, ĠUpdate, :, ĠContinuous...</td>\n",
       "      <td>API users beware: there is a major caveat in t...</td>\n",
       "      <td>1</td>\n",
       "      <td>[API, Ġusers, Ġbeware, :, Ġthere, Ġis, Ġa, Ġma...</td>\n",
       "      <td>[Ġis, :, Ġfrom, .]</td>\n",
       "    </tr>\n",
       "    <tr>\n",
       "      <th>32</th>\n",
       "      <td>966</td>\n",
       "      <td>We're still a long way away from herd immunity...</td>\n",
       "      <td>0</td>\n",
       "      <td>444.0</td>\n",
       "      <td>[We, 're, Ġstill, Ġa, Ġlong, Ġway, Ġaway, Ġfro...</td>\n",
       "      <td>API users beware: there is a major caveat in t...</td>\n",
       "      <td>1</td>\n",
       "      <td>[API, Ġusers, Ġbeware, :, Ġthere, Ġis, Ġa, Ġma...</td>\n",
       "      <td>[co, Ġfrom, ., t, Ġin, /, k, Ġthe, ://, Ġa, Ġh...</td>\n",
       "    </tr>\n",
       "    <tr>\n",
       "      <th>33</th>\n",
       "      <td>1606</td>\n",
       "      <td>I would do press events in May, I would never ...</td>\n",
       "      <td>1</td>\n",
       "      <td>444.0</td>\n",
       "      <td>[I, Ġwould, Ġdo, Ġpress, Ġevents, Ġin, ĠMay, ,...</td>\n",
       "      <td>API users beware: there is a major caveat in t...</td>\n",
       "      <td>1</td>\n",
       "      <td>[API, Ġusers, Ġbeware, :, Ġthere, Ġis, Ġa, Ġma...</td>\n",
       "      <td>[co, x, Ġfrom, ., t, Ġin, /, Ġthe, X, :, ://, ...</td>\n",
       "    </tr>\n",
       "    <tr>\n",
       "      <th>34</th>\n",
       "      <td>1914</td>\n",
       "      <td>BREAKING: Coleen Rooney confirms she has launc...</td>\n",
       "      <td>0</td>\n",
       "      <td>444.0</td>\n",
       "      <td>[BRE, AKING, :, ĠCole, en, ĠRooney, Ġconfirms,...</td>\n",
       "      <td>API users beware: there is a major caveat in t...</td>\n",
       "      <td>1</td>\n",
       "      <td>[API, Ġusers, Ġbeware, :, Ġthere, Ġis, Ġa, Ġma...</td>\n",
       "      <td>[co, ., t, /, Ġthe, :, ://, Ġhttps]</td>\n",
       "    </tr>\n",
       "    <tr>\n",
       "      <th>35</th>\n",
       "      <td>2108</td>\n",
       "      <td>ICYMI: Deborah Birx 3/8/20 White House Briefin...</td>\n",
       "      <td>1</td>\n",
       "      <td>444.0</td>\n",
       "      <td>[IC, Y, MI, :, ĠDeborah, ĠBir, x, Ġ3, /, 8, /,...</td>\n",
       "      <td>API users beware: there is a major caveat in t...</td>\n",
       "      <td>1</td>\n",
       "      <td>[API, Ġusers, Ġbeware, :, Ġthere, Ġis, Ġa, Ġma...</td>\n",
       "      <td>[co, x, Ġfrom, ., t, /, Ġthe, :, ://, Ġhttps, ...</td>\n",
       "    </tr>\n",
       "    <tr>\n",
       "      <th>36</th>\n",
       "      <td>816</td>\n",
       "      <td>@JohnRentoul The virus is out there, world wid...</td>\n",
       "      <td>0</td>\n",
       "      <td>3129.0</td>\n",
       "      <td>[@, John, R, ent, oul, ĠThe, Ġvirus, Ġis, Ġout...</td>\n",
       "      <td>A whole floor of the main Peruvian hospital is...</td>\n",
       "      <td>0</td>\n",
       "      <td>[A, Ġwhole, Ġfloor, Ġof, Ġthe, Ġmain, ĠPer, uv...</td>\n",
       "      <td>[Ġis, ., Ġof]</td>\n",
       "    </tr>\n",
       "    <tr>\n",
       "      <th>37</th>\n",
       "      <td>887</td>\n",
       "      <td>if we test aggressively test through RT PCR, T...</td>\n",
       "      <td>0</td>\n",
       "      <td>3129.0</td>\n",
       "      <td>[if, Ġwe, Ġtest, Ġaggressively, Ġtest, Ġthroug...</td>\n",
       "      <td>A whole floor of the main Peruvian hospital is...</td>\n",
       "      <td>0</td>\n",
       "      <td>[A, Ġwhole, Ġfloor, Ġof, Ġthe, Ġmain, ĠPer, uv...</td>\n",
       "      <td>[VID, ĠCO, ., A]</td>\n",
       "    </tr>\n",
       "    <tr>\n",
       "      <th>38</th>\n",
       "      <td>2000</td>\n",
       "      <td>BREAKING: Ronan Keating announces he’s banning...</td>\n",
       "      <td>0</td>\n",
       "      <td>3129.0</td>\n",
       "      <td>[BRE, AKING, :, ĠRon, an, ĠKe, ating, Ġannounc...</td>\n",
       "      <td>A whole floor of the main Peruvian hospital is...</td>\n",
       "      <td>0</td>\n",
       "      <td>[A, Ġwhole, Ġfloor, Ġof, Ġthe, Ġmain, ĠPer, uv...</td>\n",
       "      <td>[Ġto, .]</td>\n",
       "    </tr>\n",
       "    <tr>\n",
       "      <th>39</th>\n",
       "      <td>2062</td>\n",
       "      <td>“Per order from @GovWhitmer people in Michigan...</td>\n",
       "      <td>0</td>\n",
       "      <td>3129.0</td>\n",
       "      <td>[âĢ, ľ, Per, Ġorder, Ġfrom, Ġ@, Gov, Whit, mer...</td>\n",
       "      <td>A whole floor of the main Peruvian hospital is...</td>\n",
       "      <td>0</td>\n",
       "      <td>[A, Ġwhole, Ġfloor, Ġof, Ġthe, Ġmain, ĠPer, uv...</td>\n",
       "      <td>[.]</td>\n",
       "    </tr>\n",
       "    <tr>\n",
       "      <th>40</th>\n",
       "      <td>839</td>\n",
       "      <td>#VitaminD is now in focus to prevent #Coronavi...</td>\n",
       "      <td>0</td>\n",
       "      <td>2249.0</td>\n",
       "      <td>[#, V, itamin, D, Ġis, Ġnow, Ġin, Ġfocus, Ġto,...</td>\n",
       "      <td>@cyborgnot @yayitsrob @ScottGottliebMD We're g...</td>\n",
       "      <td>1</td>\n",
       "      <td>[@, cy, borg, not, Ġ@, y, ay, its, rob, Ġ@, Sc...</td>\n",
       "      <td>[., Ġof]</td>\n",
       "    </tr>\n",
       "    <tr>\n",
       "      <th>41</th>\n",
       "      <td>979</td>\n",
       "      <td>Navigating immunosuppression during the pandem...</td>\n",
       "      <td>0</td>\n",
       "      <td>2249.0</td>\n",
       "      <td>[Nav, igating, Ġimmun, os, upp, ression, Ġduri...</td>\n",
       "      <td>@cyborgnot @yayitsrob @ScottGottliebMD We're g...</td>\n",
       "      <td>1</td>\n",
       "      <td>[@, cy, borg, not, Ġ@, y, ay, its, rob, Ġ@, Sc...</td>\n",
       "      <td>[Ġthe, ., Ġof]</td>\n",
       "    </tr>\n",
       "    <tr>\n",
       "      <th>42</th>\n",
       "      <td>1100</td>\n",
       "      <td>#Covaxin, India's indigenous #Covid19 vaccine ...</td>\n",
       "      <td>0</td>\n",
       "      <td>2249.0</td>\n",
       "      <td>[#, C, ov, ax, in, ,, ĠIndia, 's, Ġindigenous,...</td>\n",
       "      <td>@cyborgnot @yayitsrob @ScottGottliebMD We're g...</td>\n",
       "      <td>1</td>\n",
       "      <td>[@, cy, borg, not, Ġ@, y, ay, its, rob, Ġ@, Sc...</td>\n",
       "      <td>[., Ġ@]</td>\n",
       "    </tr>\n",
       "    <tr>\n",
       "      <th>43</th>\n",
       "      <td>1105</td>\n",
       "      <td>Axel Kicillof (Governor of the Province of Bue...</td>\n",
       "      <td>0</td>\n",
       "      <td>2249.0</td>\n",
       "      <td>[Ax, el, ĠK, ic, ill, of, Ġ(, Govern, or, Ġof,...</td>\n",
       "      <td>@cyborgnot @yayitsrob @ScottGottliebMD We're g...</td>\n",
       "      <td>1</td>\n",
       "      <td>[@, cy, borg, not, Ġ@, y, ay, its, rob, Ġ@, Sc...</td>\n",
       "      <td>[Ġthe, ., Ġof]</td>\n",
       "    </tr>\n",
       "    <tr>\n",
       "      <th>44</th>\n",
       "      <td>1186</td>\n",
       "      <td>The Bossle family circus has been hit especial...</td>\n",
       "      <td>1</td>\n",
       "      <td>2249.0</td>\n",
       "      <td>[The, ĠBoss, le, Ġfamily, Ġcircus, Ġhas, Ġbeen...</td>\n",
       "      <td>@cyborgnot @yayitsrob @ScottGottliebMD We're g...</td>\n",
       "      <td>1</td>\n",
       "      <td>[@, cy, borg, not, Ġ@, y, ay, its, rob, Ġ@, Sc...</td>\n",
       "      <td>[Ġthe, Ġof, ., Ġ@]</td>\n",
       "    </tr>\n",
       "    <tr>\n",
       "      <th>45</th>\n",
       "      <td>1465</td>\n",
       "      <td>No wearing a mask to guard against spreading t...</td>\n",
       "      <td>0</td>\n",
       "      <td>2249.0</td>\n",
       "      <td>[No, Ġwearing, Ġa, Ġmask, Ġto, Ġguard, Ġagains...</td>\n",
       "      <td>@cyborgnot @yayitsrob @ScottGottliebMD We're g...</td>\n",
       "      <td>1</td>\n",
       "      <td>[@, cy, borg, not, Ġ@, y, ay, its, rob, Ġ@, Sc...</td>\n",
       "      <td>[Ġthe, ., Ġa]</td>\n",
       "    </tr>\n",
       "    <tr>\n",
       "      <th>46</th>\n",
       "      <td>1718</td>\n",
       "      <td>New fears for Boris mental health as he claims...</td>\n",
       "      <td>0</td>\n",
       "      <td>2249.0</td>\n",
       "      <td>[New, Ġfears, Ġfor, ĠBoris, Ġmental, Ġhealth, ...</td>\n",
       "      <td>@cyborgnot @yayitsrob @ScottGottliebMD We're g...</td>\n",
       "      <td>1</td>\n",
       "      <td>[@, cy, borg, not, Ġ@, y, ay, its, rob, Ġ@, Sc...</td>\n",
       "      <td>[Ġa, .]</td>\n",
       "    </tr>\n",
       "    <tr>\n",
       "      <th>47</th>\n",
       "      <td>1980</td>\n",
       "      <td>Unions like @GoIUPAT are supporting their work...</td>\n",
       "      <td>0</td>\n",
       "      <td>2249.0</td>\n",
       "      <td>[Un, ions, Ġlike, Ġ@, Go, I, UP, AT, Ġare, Ġsu...</td>\n",
       "      <td>@cyborgnot @yayitsrob @ScottGottliebMD We're g...</td>\n",
       "      <td>1</td>\n",
       "      <td>[@, cy, borg, not, Ġ@, y, ay, its, rob, Ġ@, Sc...</td>\n",
       "      <td>[Ġmore, ., Ġ@, b, Ġthe, Ġa]</td>\n",
       "    </tr>\n",
       "    <tr>\n",
       "      <th>48</th>\n",
       "      <td>1313</td>\n",
       "      <td>Sources confirm COVID 19 Vaccine Needs at leas...</td>\n",
       "      <td>0</td>\n",
       "      <td>802.0</td>\n",
       "      <td>[Sources, Ġconfirm, ĠCO, VID, Ġ19, ĠVacc, ine,...</td>\n",
       "      <td>As at 11:10pm 20th April breakdown of cases by...</td>\n",
       "      <td>1</td>\n",
       "      <td>[As, Ġat, Ġ11, :, 10, pm, Ġ20, th, ĠApril, Ġbr...</td>\n",
       "      <td>[o, Ġat, 7, 4]</td>\n",
       "    </tr>\n",
       "    <tr>\n",
       "      <th>49</th>\n",
       "      <td>1938</td>\n",
       "      <td>Professor Chris Whitty reminds the public the ...</td>\n",
       "      <td>0</td>\n",
       "      <td>802.0</td>\n",
       "      <td>[Professor, ĠChris, ĠWh, itty, Ġreminds, Ġthe,...</td>\n",
       "      <td>As at 11:10pm 20th April breakdown of cases by...</td>\n",
       "      <td>1</td>\n",
       "      <td>[As, Ġat, Ġ11, :, 10, pm, Ġ20, th, ĠApril, Ġbr...</td>\n",
       "      <td>[o, Ġof]</td>\n",
       "    </tr>\n",
       "    <tr>\n",
       "      <th>50</th>\n",
       "      <td>1626</td>\n",
       "      <td>Canadians' average working commute 4 m #COVID1...</td>\n",
       "      <td>0</td>\n",
       "      <td>2002.0</td>\n",
       "      <td>[Can, ad, ians, ', Ġaverage, Ġworking, Ġcommut...</td>\n",
       "      <td>@seanmdav Breaking: #TrumpLiedAmericansDied @r...</td>\n",
       "      <td>0</td>\n",
       "      <td>[@, se, an, md, av, ĠBreaking, :, Ġ#, Trump, L...</td>\n",
       "      <td>[Ġ#, 19, CO, VID]</td>\n",
       "    </tr>\n",
       "    <tr>\n",
       "      <th>51</th>\n",
       "      <td>1963</td>\n",
       "      <td>WHO expands coronavirus guidance after pressur...</td>\n",
       "      <td>0</td>\n",
       "      <td>287.0</td>\n",
       "      <td>[WHO, Ġexpands, Ġcoron, av, irus, Ġguidance, Ġ...</td>\n",
       "      <td>“For the World Health Organization the interna...</td>\n",
       "      <td>0</td>\n",
       "      <td>[âĢ, ľ, For, Ġthe, ĠWorld, ĠHealth, ĠOrganizat...</td>\n",
       "      <td>[.]</td>\n",
       "    </tr>\n",
       "    <tr>\n",
       "      <th>52</th>\n",
       "      <td>2139</td>\n",
       "      <td>Birx says COVID-19 outbreak not under control ...</td>\n",
       "      <td>0</td>\n",
       "      <td>287.0</td>\n",
       "      <td>[Bir, x, Ġsays, ĠCO, VID, -, 19, Ġoutbreak, Ġn...</td>\n",
       "      <td>“For the World Health Organization the interna...</td>\n",
       "      <td>0</td>\n",
       "      <td>[âĢ, ľ, For, Ġthe, ĠWorld, ĠHealth, ĠOrganizat...</td>\n",
       "      <td>[Ġthe, âĢ, .]</td>\n",
       "    </tr>\n",
       "  </tbody>\n",
       "</table>\n",
       "</div>"
      ],
      "text/plain": [
       "      id                                              tweet  label     tid  \\\n",
       "0     14  Tomorrow April 6 we will pass 10000 coronaviru...      1   638.0   \n",
       "1     50  A coronavirus vaccine: Where does it stand? Ex...      0   638.0   \n",
       "2   1433  More and more as Coronavirus 19 was created by...      0   638.0   \n",
       "3   1508  PM @ScottMorrisonMP recently said a #COVID19 v...      0   638.0   \n",
       "4   1587  A @Target spokesperson said the company plans ...      0   638.0   \n",
       "5   1766  A list of medical exports is causing a lot of ...      0   638.0   \n",
       "6   2087  In a presser @VP Pence just gave two important...      1   638.0   \n",
       "7    146  There is no evidence that children have died b...      0  3152.0   \n",
       "8    231  No one should have to pay for coronavirus trea...      0  3152.0   \n",
       "9    306  The Canadian government has not enacted a law ...      0  3152.0   \n",
       "10  1062  #ZuckOff #TakeItFromADoctor and a video with f...      1  3152.0   \n",
       "11  1219  The U.S. has surpassed over 1 million confirme...      1  3152.0   \n",
       "12  1441  Children do contract the coronavirus but curre...      0  3152.0   \n",
       "13  1554  India conducts one million COVID-19 tests in t...      1  3152.0   \n",
       "14  1666  TTC adequate for first time in 40 years #coron...      0  3152.0   \n",
       "15  1736  Commonly used drugs hydroxychloroquine and chl...      0  3152.0   \n",
       "16  1800  The number of deaths from respiratory illnesse...      0  3152.0   \n",
       "17  1931  If you maintain social distancing indoors ther...      0  3152.0   \n",
       "18  2052  All Missouri businesses can open Monday May 4 ...      0  3152.0   \n",
       "19   439  The N95 respirator offers the most protection ...      0  5345.0   \n",
       "20   497  In objection to WA's border closures @CliveFPa...      0  6168.0   \n",
       "21   610  How deadly is the coronavirus #COVID19? Scient...      1  2507.0   \n",
       "22   658  Martin stared at his reflection delighting in ...      0   344.0   \n",
       "23   719  Man shouts at ducks for flouting lockdown rule...      0  1970.0   \n",
       "24  1182  Says if you're refused service at a store for ...      0  1970.0   \n",
       "25  1299  List of Medicine Shops where Favipiravir table...      0  1970.0   \n",
       "26  1339  “If we stopped testing right now we'd have ver...      0  1970.0   \n",
       "27  1592  At this Critical Scenario We need full fledged...      0  1970.0   \n",
       "28  1909  While uncomfortable there no evidence that get...      0  1970.0   \n",
       "29   735  Health officials caution against the use of ch...      0   444.0   \n",
       "30   922  RT @dpfunke: A data table from the World Bank ...      0   444.0   \n",
       "31   947  #Coronavirus Update: Continuous screening of p...      0   444.0   \n",
       "32   966  We're still a long way away from herd immunity...      0   444.0   \n",
       "33  1606  I would do press events in May, I would never ...      1   444.0   \n",
       "34  1914  BREAKING: Coleen Rooney confirms she has launc...      0   444.0   \n",
       "35  2108  ICYMI: Deborah Birx 3/8/20 White House Briefin...      1   444.0   \n",
       "36   816  @JohnRentoul The virus is out there, world wid...      0  3129.0   \n",
       "37   887  if we test aggressively test through RT PCR, T...      0  3129.0   \n",
       "38  2000  BREAKING: Ronan Keating announces he’s banning...      0  3129.0   \n",
       "39  2062  “Per order from @GovWhitmer people in Michigan...      0  3129.0   \n",
       "40   839  #VitaminD is now in focus to prevent #Coronavi...      0  2249.0   \n",
       "41   979  Navigating immunosuppression during the pandem...      0  2249.0   \n",
       "42  1100  #Covaxin, India's indigenous #Covid19 vaccine ...      0  2249.0   \n",
       "43  1105  Axel Kicillof (Governor of the Province of Bue...      0  2249.0   \n",
       "44  1186  The Bossle family circus has been hit especial...      1  2249.0   \n",
       "45  1465  No wearing a mask to guard against spreading t...      0  2249.0   \n",
       "46  1718  New fears for Boris mental health as he claims...      0  2249.0   \n",
       "47  1980  Unions like @GoIUPAT are supporting their work...      0  2249.0   \n",
       "48  1313  Sources confirm COVID 19 Vaccine Needs at leas...      0   802.0   \n",
       "49  1938  Professor Chris Whitty reminds the public the ...      0   802.0   \n",
       "50  1626  Canadians' average working commute 4 m #COVID1...      0  2002.0   \n",
       "51  1963  WHO expands coronavirus guidance after pressur...      0   287.0   \n",
       "52  2139  Birx says COVID-19 outbreak not under control ...      0   287.0   \n",
       "\n",
       "                                              s_tweet  \\\n",
       "0   [Tomorrow, ĠApril, Ġ6, Ġwe, Ġwill, Ġpass, Ġ100...   \n",
       "1   [A, Ġcoron, av, irus, Ġvaccine, :, ĠWhere, Ġdo...   \n",
       "2   [More, Ġand, Ġmore, Ġas, ĠCor, on, av, irus, Ġ...   \n",
       "3   [PM, Ġ@, Scott, Mor, rison, MP, Ġrecently, Ġsa...   \n",
       "4   [A, Ġ@, Target, Ġspokesperson, Ġsaid, Ġthe, Ġc...   \n",
       "5   [A, Ġlist, Ġof, Ġmedical, Ġexports, Ġis, Ġcaus...   \n",
       "6   [In, Ġa, Ġpress, er, Ġ@, VP, ĠPence, Ġjust, Ġg...   \n",
       "7   [There, Ġis, Ġno, Ġevidence, Ġthat, Ġchildren,...   \n",
       "8   [No, Ġone, Ġshould, Ġhave, Ġto, Ġpay, Ġfor, Ġc...   \n",
       "9   [The, ĠCanadian, Ġgovernment, Ġhas, Ġnot, Ġena...   \n",
       "10  [#, Z, uck, Off, Ġ#, Take, It, From, AD, o, ct...   \n",
       "11  [The, ĠU, ., S, ., Ġhas, Ġsurpassed, Ġover, Ġ1...   \n",
       "12  [Children, Ġdo, Ġcontract, Ġthe, Ġcoron, av, i...   \n",
       "13  [India, Ġconducts, Ġone, Ġmillion, ĠCO, VID, -...   \n",
       "14  [T, TC, Ġadequate, Ġfor, Ġfirst, Ġtime, Ġin, Ġ...   \n",
       "15  [Comm, only, Ġused, Ġdrugs, Ġhydro, xy, chlor,...   \n",
       "16  [The, Ġnumber, Ġof, Ġdeaths, Ġfrom, Ġrespirato...   \n",
       "17  [If, Ġyou, Ġmaintain, Ġsocial, Ġdist, ancing, ...   \n",
       "18  [All, ĠMissouri, Ġbusinesses, Ġcan, Ġopen, ĠMo...   \n",
       "19  [The, ĠN, 95, Ġrespir, ator, Ġoffers, Ġthe, Ġm...   \n",
       "20  [In, Ġobjection, Ġto, ĠWA, 's, Ġborder, Ġclosu...   \n",
       "21  [How, Ġdeadly, Ġis, Ġthe, Ġcoron, av, irus, Ġ#...   \n",
       "22  [Martin, Ġstared, Ġat, Ġhis, Ġreflection, Ġdel...   \n",
       "23  [Man, Ġshouts, Ġat, Ġducks, Ġfor, Ġfl, outing,...   \n",
       "24  [S, ays, Ġif, Ġyou, 're, Ġrefused, Ġservice, Ġ...   \n",
       "25  [List, Ġof, ĠMedicine, ĠSh, ops, Ġwhere, ĠFav,...   \n",
       "26  [âĢ, ľ, If, Ġwe, Ġstopped, Ġtesting, Ġright, Ġ...   \n",
       "27  [At, Ġthis, ĠCritical, ĠSc, enario, ĠWe, Ġneed...   \n",
       "28  [While, Ġuncomfortable, Ġthere, Ġno, Ġevidence...   \n",
       "29  [Health, Ġofficials, Ġcaution, Ġagainst, Ġthe,...   \n",
       "30  [RT, Ġ@, dp, fun, ke, :, ĠA, Ġdata, Ġtable, Ġf...   \n",
       "31  [#, Cor, on, av, irus, ĠUpdate, :, ĠContinuous...   \n",
       "32  [We, 're, Ġstill, Ġa, Ġlong, Ġway, Ġaway, Ġfro...   \n",
       "33  [I, Ġwould, Ġdo, Ġpress, Ġevents, Ġin, ĠMay, ,...   \n",
       "34  [BRE, AKING, :, ĠCole, en, ĠRooney, Ġconfirms,...   \n",
       "35  [IC, Y, MI, :, ĠDeborah, ĠBir, x, Ġ3, /, 8, /,...   \n",
       "36  [@, John, R, ent, oul, ĠThe, Ġvirus, Ġis, Ġout...   \n",
       "37  [if, Ġwe, Ġtest, Ġaggressively, Ġtest, Ġthroug...   \n",
       "38  [BRE, AKING, :, ĠRon, an, ĠKe, ating, Ġannounc...   \n",
       "39  [âĢ, ľ, Per, Ġorder, Ġfrom, Ġ@, Gov, Whit, mer...   \n",
       "40  [#, V, itamin, D, Ġis, Ġnow, Ġin, Ġfocus, Ġto,...   \n",
       "41  [Nav, igating, Ġimmun, os, upp, ression, Ġduri...   \n",
       "42  [#, C, ov, ax, in, ,, ĠIndia, 's, Ġindigenous,...   \n",
       "43  [Ax, el, ĠK, ic, ill, of, Ġ(, Govern, or, Ġof,...   \n",
       "44  [The, ĠBoss, le, Ġfamily, Ġcircus, Ġhas, Ġbeen...   \n",
       "45  [No, Ġwearing, Ġa, Ġmask, Ġto, Ġguard, Ġagains...   \n",
       "46  [New, Ġfears, Ġfor, ĠBoris, Ġmental, Ġhealth, ...   \n",
       "47  [Un, ions, Ġlike, Ġ@, Go, I, UP, AT, Ġare, Ġsu...   \n",
       "48  [Sources, Ġconfirm, ĠCO, VID, Ġ19, ĠVacc, ine,...   \n",
       "49  [Professor, ĠChris, ĠWh, itty, Ġreminds, Ġthe,...   \n",
       "50  [Can, ad, ians, ', Ġaverage, Ġworking, Ġcommut...   \n",
       "51  [WHO, Ġexpands, Ġcoron, av, irus, Ġguidance, Ġ...   \n",
       "52  [Bir, x, Ġsays, ĠCO, VID, -, 19, Ġoutbreak, Ġn...   \n",
       "\n",
       "                                              t_tweet  t_label  \\\n",
       "0   Our total number of confirmed cases is now 116...        1   \n",
       "1   Our total number of confirmed cases is now 116...        1   \n",
       "2   Our total number of confirmed cases is now 116...        1   \n",
       "3   Our total number of confirmed cases is now 116...        1   \n",
       "4   Our total number of confirmed cases is now 116...        1   \n",
       "5   Our total number of confirmed cases is now 116...        1   \n",
       "6   Our total number of confirmed cases is now 116...        1   \n",
       "7   Snap analysis of this: it is a relief that Cal...        1   \n",
       "8   Snap analysis of this: it is a relief that Cal...        1   \n",
       "9   Snap analysis of this: it is a relief that Cal...        1   \n",
       "10  Snap analysis of this: it is a relief that Cal...        1   \n",
       "11  Snap analysis of this: it is a relief that Cal...        1   \n",
       "12  Snap analysis of this: it is a relief that Cal...        1   \n",
       "13  Snap analysis of this: it is a relief that Cal...        1   \n",
       "14  Snap analysis of this: it is a relief that Cal...        1   \n",
       "15  Snap analysis of this: it is a relief that Cal...        1   \n",
       "16  Snap analysis of this: it is a relief that Cal...        1   \n",
       "17  Snap analysis of this: it is a relief that Cal...        1   \n",
       "18  Snap analysis of this: it is a relief that Cal...        1   \n",
       "19  For a breakdown of cases by states in real tim...        1   \n",
       "20  170 new cases of #COVID19; 39-Lagos 29-Kano 24...        1   \n",
       "21  Latest recommendations for the use of remdesiv...        1   \n",
       "22  Texas reported 4k new confirmed cases yesterda...        1   \n",
       "23  #HCPs: Learn about #COVID19 associated VTE ris...        1   \n",
       "24  #HCPs: Learn about #COVID19 associated VTE ris...        1   \n",
       "25  #HCPs: Learn about #COVID19 associated VTE ris...        1   \n",
       "26  #HCPs: Learn about #COVID19 associated VTE ris...        1   \n",
       "27  #HCPs: Learn about #COVID19 associated VTE ris...        1   \n",
       "28  #HCPs: Learn about #COVID19 associated VTE ris...        1   \n",
       "29  API users beware: there is a major caveat in t...        1   \n",
       "30  API users beware: there is a major caveat in t...        1   \n",
       "31  API users beware: there is a major caveat in t...        1   \n",
       "32  API users beware: there is a major caveat in t...        1   \n",
       "33  API users beware: there is a major caveat in t...        1   \n",
       "34  API users beware: there is a major caveat in t...        1   \n",
       "35  API users beware: there is a major caveat in t...        1   \n",
       "36  A whole floor of the main Peruvian hospital is...        0   \n",
       "37  A whole floor of the main Peruvian hospital is...        0   \n",
       "38  A whole floor of the main Peruvian hospital is...        0   \n",
       "39  A whole floor of the main Peruvian hospital is...        0   \n",
       "40  @cyborgnot @yayitsrob @ScottGottliebMD We're g...        1   \n",
       "41  @cyborgnot @yayitsrob @ScottGottliebMD We're g...        1   \n",
       "42  @cyborgnot @yayitsrob @ScottGottliebMD We're g...        1   \n",
       "43  @cyborgnot @yayitsrob @ScottGottliebMD We're g...        1   \n",
       "44  @cyborgnot @yayitsrob @ScottGottliebMD We're g...        1   \n",
       "45  @cyborgnot @yayitsrob @ScottGottliebMD We're g...        1   \n",
       "46  @cyborgnot @yayitsrob @ScottGottliebMD We're g...        1   \n",
       "47  @cyborgnot @yayitsrob @ScottGottliebMD We're g...        1   \n",
       "48  As at 11:10pm 20th April breakdown of cases by...        1   \n",
       "49  As at 11:10pm 20th April breakdown of cases by...        1   \n",
       "50  @seanmdav Breaking: #TrumpLiedAmericansDied @r...        0   \n",
       "51  “For the World Health Organization the interna...        0   \n",
       "52  “For the World Health Organization the interna...        0   \n",
       "\n",
       "                                             ts_tweet  \\\n",
       "0   [Our, Ġtotal, Ġnumber, Ġof, Ġconfirmed, Ġcases...   \n",
       "1   [Our, Ġtotal, Ġnumber, Ġof, Ġconfirmed, Ġcases...   \n",
       "2   [Our, Ġtotal, Ġnumber, Ġof, Ġconfirmed, Ġcases...   \n",
       "3   [Our, Ġtotal, Ġnumber, Ġof, Ġconfirmed, Ġcases...   \n",
       "4   [Our, Ġtotal, Ġnumber, Ġof, Ġconfirmed, Ġcases...   \n",
       "5   [Our, Ġtotal, Ġnumber, Ġof, Ġconfirmed, Ġcases...   \n",
       "6   [Our, Ġtotal, Ġnumber, Ġof, Ġconfirmed, Ġcases...   \n",
       "7   [Snap, Ġanalysis, Ġof, Ġthis, :, Ġit, Ġis, Ġa,...   \n",
       "8   [Snap, Ġanalysis, Ġof, Ġthis, :, Ġit, Ġis, Ġa,...   \n",
       "9   [Snap, Ġanalysis, Ġof, Ġthis, :, Ġit, Ġis, Ġa,...   \n",
       "10  [Snap, Ġanalysis, Ġof, Ġthis, :, Ġit, Ġis, Ġa,...   \n",
       "11  [Snap, Ġanalysis, Ġof, Ġthis, :, Ġit, Ġis, Ġa,...   \n",
       "12  [Snap, Ġanalysis, Ġof, Ġthis, :, Ġit, Ġis, Ġa,...   \n",
       "13  [Snap, Ġanalysis, Ġof, Ġthis, :, Ġit, Ġis, Ġa,...   \n",
       "14  [Snap, Ġanalysis, Ġof, Ġthis, :, Ġit, Ġis, Ġa,...   \n",
       "15  [Snap, Ġanalysis, Ġof, Ġthis, :, Ġit, Ġis, Ġa,...   \n",
       "16  [Snap, Ġanalysis, Ġof, Ġthis, :, Ġit, Ġis, Ġa,...   \n",
       "17  [Snap, Ġanalysis, Ġof, Ġthis, :, Ġit, Ġis, Ġa,...   \n",
       "18  [Snap, Ġanalysis, Ġof, Ġthis, :, Ġit, Ġis, Ġa,...   \n",
       "19  [For, Ġa, Ġbreakdown, Ġof, Ġcases, Ġby, Ġstate...   \n",
       "20  [170, Ġnew, Ġcases, Ġof, Ġ#, CO, VID, 19, ;, Ġ...   \n",
       "21  [Latest, Ġrecommendations, Ġfor, Ġthe, Ġuse, Ġ...   \n",
       "22  [Texas, Ġreported, Ġ4, k, Ġnew, Ġconfirmed, Ġc...   \n",
       "23  [#, H, CP, s, :, ĠLearn, Ġabout, Ġ#, CO, VID, ...   \n",
       "24  [#, H, CP, s, :, ĠLearn, Ġabout, Ġ#, CO, VID, ...   \n",
       "25  [#, H, CP, s, :, ĠLearn, Ġabout, Ġ#, CO, VID, ...   \n",
       "26  [#, H, CP, s, :, ĠLearn, Ġabout, Ġ#, CO, VID, ...   \n",
       "27  [#, H, CP, s, :, ĠLearn, Ġabout, Ġ#, CO, VID, ...   \n",
       "28  [#, H, CP, s, :, ĠLearn, Ġabout, Ġ#, CO, VID, ...   \n",
       "29  [API, Ġusers, Ġbeware, :, Ġthere, Ġis, Ġa, Ġma...   \n",
       "30  [API, Ġusers, Ġbeware, :, Ġthere, Ġis, Ġa, Ġma...   \n",
       "31  [API, Ġusers, Ġbeware, :, Ġthere, Ġis, Ġa, Ġma...   \n",
       "32  [API, Ġusers, Ġbeware, :, Ġthere, Ġis, Ġa, Ġma...   \n",
       "33  [API, Ġusers, Ġbeware, :, Ġthere, Ġis, Ġa, Ġma...   \n",
       "34  [API, Ġusers, Ġbeware, :, Ġthere, Ġis, Ġa, Ġma...   \n",
       "35  [API, Ġusers, Ġbeware, :, Ġthere, Ġis, Ġa, Ġma...   \n",
       "36  [A, Ġwhole, Ġfloor, Ġof, Ġthe, Ġmain, ĠPer, uv...   \n",
       "37  [A, Ġwhole, Ġfloor, Ġof, Ġthe, Ġmain, ĠPer, uv...   \n",
       "38  [A, Ġwhole, Ġfloor, Ġof, Ġthe, Ġmain, ĠPer, uv...   \n",
       "39  [A, Ġwhole, Ġfloor, Ġof, Ġthe, Ġmain, ĠPer, uv...   \n",
       "40  [@, cy, borg, not, Ġ@, y, ay, its, rob, Ġ@, Sc...   \n",
       "41  [@, cy, borg, not, Ġ@, y, ay, its, rob, Ġ@, Sc...   \n",
       "42  [@, cy, borg, not, Ġ@, y, ay, its, rob, Ġ@, Sc...   \n",
       "43  [@, cy, borg, not, Ġ@, y, ay, its, rob, Ġ@, Sc...   \n",
       "44  [@, cy, borg, not, Ġ@, y, ay, its, rob, Ġ@, Sc...   \n",
       "45  [@, cy, borg, not, Ġ@, y, ay, its, rob, Ġ@, Sc...   \n",
       "46  [@, cy, borg, not, Ġ@, y, ay, its, rob, Ġ@, Sc...   \n",
       "47  [@, cy, borg, not, Ġ@, y, ay, its, rob, Ġ@, Sc...   \n",
       "48  [As, Ġat, Ġ11, :, 10, pm, Ġ20, th, ĠApril, Ġbr...   \n",
       "49  [As, Ġat, Ġ11, :, 10, pm, Ġ20, th, ĠApril, Ġbr...   \n",
       "50  [@, se, an, md, av, ĠBreaking, :, Ġ#, Trump, L...   \n",
       "51  [âĢ, ľ, For, Ġthe, ĠWorld, ĠHealth, ĠOrganizat...   \n",
       "52  [âĢ, ľ, For, Ġthe, ĠWorld, ĠHealth, ĠOrganizat...   \n",
       "\n",
       "                                     matched_subwords  \n",
       "0                                        [Ġdeaths, .]  \n",
       "1                                            [., Ġof]  \n",
       "2                                      [Ġand, Ġis, .]  \n",
       "3                                            [Ġto, .]  \n",
       "4                                [ĠThe, Ġto, ., Ġare]  \n",
       "5                                       [Ġis, ., Ġof]  \n",
       "6          [., Ġof, Ġto, Ġnow, Ġtotal, Ġnumber, Ġare]  \n",
       "7                      [., Ġof, Ġa, Ġis, Ġhas, Ġthat]  \n",
       "8                                                 [.]  \n",
       "9                   [., Ġof, Ġa, Ġthose, Ġhas, Ġthat]  \n",
       "10                                 [Ġon, Ġand, ., Ġa]  \n",
       "11                                     [Ġhas, ., Ġof]  \n",
       "12                     [a, ., Ġthan, 4, Ġit, Ġa, Ġis]  \n",
       "13                                     [Ġtests, ., 4]  \n",
       "14                                                [.]  \n",
       "15             [Ġmore, ., 4, :, Ġbe, Ġand, Ġhas, Ġan]  \n",
       "16  [Ġmore, Ġof, Ġthan, Ġprevious, Ġthis, Ġbe, Ġis...  \n",
       "17                      [Ġon, ., Ġof, 's, Ġan, Ġthat]  \n",
       "18                                          [., Ġare]  \n",
       "19   [co, -, ., VID, t, Ġof, Ġin, /, ://, 19, Ġhttps]  \n",
       "20  [Ġ#, co, ., VID, t, Ġof, Ġin, /, Q, 19, :, Ġht...  \n",
       "21  [av, co, ., t, Ġcoron, /, Ġthe, X, ://, Ġhttps...  \n",
       "22                   [co, ., t, /, Ġthe, ://, Ġhttps]  \n",
       "23             [co, 0, ., t, /, 4, ://, Ġhttps, Ġfor]  \n",
       "24                                 [S, Ġand, Ġfor, .]  \n",
       "25  [Ġ#, co, ., VID, t, Ġin, /, ://, 19, Ġhttps, d...  \n",
       "26                                          [Ġnow, .]  \n",
       "27       [co, 2, VID, t, ., Ġ2, /, ://, Ġhttps, Y, s]  \n",
       "28             [co, -, ., VID, t, /, ://, 19, Ġhttps]  \n",
       "29                   [co, ., t, /, Ġthe, ://, Ġhttps]  \n",
       "30      [Ġfrom, ., Ġdata, Ġthe, Ġa, :, Ġis, Ġtesting]  \n",
       "31                                 [Ġis, :, Ġfrom, .]  \n",
       "32  [co, Ġfrom, ., t, Ġin, /, k, Ġthe, ://, Ġa, Ġh...  \n",
       "33  [co, x, Ġfrom, ., t, Ġin, /, Ġthe, X, :, ://, ...  \n",
       "34                [co, ., t, /, Ġthe, :, ://, Ġhttps]  \n",
       "35  [co, x, Ġfrom, ., t, /, Ġthe, :, ://, Ġhttps, ...  \n",
       "36                                      [Ġis, ., Ġof]  \n",
       "37                                   [VID, ĠCO, ., A]  \n",
       "38                                           [Ġto, .]  \n",
       "39                                                [.]  \n",
       "40                                           [., Ġof]  \n",
       "41                                     [Ġthe, ., Ġof]  \n",
       "42                                            [., Ġ@]  \n",
       "43                                     [Ġthe, ., Ġof]  \n",
       "44                                 [Ġthe, Ġof, ., Ġ@]  \n",
       "45                                      [Ġthe, ., Ġa]  \n",
       "46                                            [Ġa, .]  \n",
       "47                        [Ġmore, ., Ġ@, b, Ġthe, Ġa]  \n",
       "48                                     [o, Ġat, 7, 4]  \n",
       "49                                           [o, Ġof]  \n",
       "50                                  [Ġ#, 19, CO, VID]  \n",
       "51                                                [.]  \n",
       "52                                      [Ġthe, âĢ, .]  "
      ]
     },
     "execution_count": 101,
     "metadata": {},
     "output_type": "execute_result"
    }
   ],
   "source": [
    "merged_df"
   ]
  },
  {
   "cell_type": "markdown",
   "metadata": {},
   "source": [
    "# Analyse influence"
   ]
  },
  {
   "cell_type": "code",
   "execution_count": 103,
   "metadata": {},
   "outputs": [
    {
     "data": {
      "image/png": "[encoded data removed]",
      "text/plain": [
       "<Figure size 1440x720 with 1 Axes>"
      ]
     },
     "metadata": {
      "needs_background": "light"
     },
     "output_type": "display_data"
    },
    {
     "name": "stdout",
     "output_type": "stream",
     "text": [
      "CPU times: user 3min 34s, sys: 2.31 s, total: 3min 36s\n",
      "Wall time: 3min 36s\n"
     ]
    }
   ],
   "source": [
    "%%time\n",
    "plt.figure(figsize=(20,10))\n",
    "ax = plt.gca()\n",
    "for i in range(influence_matrix.shape[1]):\n",
    "    sns.distplot(influence_matrix[:,i], ax=ax)\n",
    "    if i == 1000:\n",
    "        break\n",
    "plt.savefig('influence_dist_all.png')\n",
    "plt.show()"
   ]
  },
  {
   "cell_type": "code",
   "execution_count": 104,
   "metadata": {},
   "outputs": [
    {
     "data": {
      "image/png": "[encoded data removed]",
      "text/plain": [
       "<Figure size 1440x720 with 2 Axes>"
      ]
     },
     "metadata": {
      "needs_background": "light"
     },
     "output_type": "display_data"
    },
    {
     "name": "stdout",
     "output_type": "stream",
     "text": [
      "CPU times: user 20.1 s, sys: 474 ms, total: 20.6 s\n",
      "Wall time: 20.6 s\n"
     ]
    }
   ],
   "source": [
    "%%time\n",
    "plt.figure(figsize=(20,10))\n",
    "plt.contourf(influence_matrix, cmap='autumn')\n",
    "plt.colorbar()\n",
    "plt.xlabel('train_sample')\n",
    "plt.ylabel('test_sample')\n",
    "plt.savefig('influence_all.png')\n",
    "plt.show()"
   ]
  },
  {
   "cell_type": "code",
   "execution_count": 105,
   "metadata": {},
   "outputs": [
    {
     "data": {
      "image/png": "[encoded data removed]",
      "text/plain": [
       "<Figure size 1440x720 with 2 Axes>"
      ]
     },
     "metadata": {
      "needs_background": "light"
     },
     "output_type": "display_data"
    },
    {
     "name": "stdout",
     "output_type": "stream",
     "text": [
      "CPU times: user 37.4 s, sys: 769 ms, total: 38.2 s\n",
      "Wall time: 38.2 s\n"
     ]
    }
   ],
   "source": [
    "%%time\n",
    "plt.figure(figsize=(20,10))\n",
    "mat = influence_matrix\n",
    "mat = (mat - mat.mean(axis=-1, keepdims=True)) / mat.std(axis=-1, keepdims=True)\n",
    "plt.contourf(mat, cmap='autumn')\n",
    "plt.colorbar()\n",
    "plt.xlabel('train_sample')\n",
    "plt.ylabel('test_sample')\n",
    "plt.savefig('influence_norm_all.png')\n",
    "plt.show()"
   ]
  },
  {
   "cell_type": "markdown",
   "metadata": {},
   "source": [
    "# Data cleansing"
   ]
  },
  {
   "cell_type": "code",
   "execution_count": 107,
   "metadata": {},
   "outputs": [],
   "source": [
    "values, indices = torch.FloatTensor(influence_matrix.sum(axis=0)).sort()"
   ]
  },
  {
   "cell_type": "code",
   "execution_count": 108,
   "metadata": {},
   "outputs": [],
   "source": [
    "n_elmt = indices.shape[0]\n",
    "percentages = np.arange(0, 1, 0.01) + 0.01\n",
    "index_percent_list = {f'{np.round(p, 2):.2f}' : indices[:int(n_elmt / (1 / p))] for p in percentages}"
   ]
  },
  {
   "cell_type": "code",
   "execution_count": 109,
   "metadata": {},
   "outputs": [],
   "source": [
    "pickle.dump(index_percent_list, open('./tmp/index_percent_list_all.pkl','wb'))"
   ]
  },
  {
   "cell_type": "markdown",
   "metadata": {},
   "source": [
    "# Retraining per percentage"
   ]
  },
  {
   "cell_type": "code",
   "execution_count": 111,
   "metadata": {},
   "outputs": [],
   "source": [
    "index_percent_list = pickle.load(open('./tmp/index_percent_list_all.pkl','rb'))"
   ]
  },
  {
   "cell_type": "code",
   "execution_count": 112,
   "metadata": {},
   "outputs": [
    {
     "data": {
      "text/plain": [
       "[('0.01', 62),\n",
       " ('0.02', 125),\n",
       " ('0.03', 188),\n",
       " ('0.04', 251),\n",
       " ('0.05', 314),\n",
       " ('0.06', 377),\n",
       " ('0.07', 440),\n",
       " ('0.08', 503),\n",
       " ('0.09', 566),\n",
       " ('0.10', 629),\n",
       " ('0.11', 692),\n",
       " ('0.12', 755),\n",
       " ('0.13', 818),\n",
       " ('0.14', 881),\n",
       " ('0.15', 944),\n",
       " ('0.16', 1007),\n",
       " ('0.17', 1070),\n",
       " ('0.18', 1133),\n",
       " ('0.19', 1196),\n",
       " ('0.20', 1259)]"
      ]
     },
     "execution_count": 112,
     "metadata": {},
     "output_type": "execute_result"
    }
   ],
   "source": [
    "[(k, len(v)) for k,v in index_percent_list.items()][:20]"
   ]
  },
  {
   "cell_type": "code",
   "execution_count": 113,
   "metadata": {},
   "outputs": [],
   "source": [
    "train_dataset = FakeNewsDataset(dataset_path=train_dataset_path, tokenizer=tokenizer, lowercase=False)\n",
    "valid_dataset = FakeNewsDataset(dataset_path=valid_dataset_path, tokenizer=tokenizer, lowercase=False)\n",
    "\n",
    "train_loader = FakeNewsDataLoader(dataset=train_dataset, max_seq_len=512, batch_size=8, num_workers=8, shuffle=True)  \n",
    "valid_loader = FakeNewsDataLoader(dataset=valid_dataset, max_seq_len=512, batch_size=8, num_workers=8, shuffle=False)"
   ]
  },
  {
   "cell_type": "code",
   "execution_count": null,
   "metadata": {
    "collapsed": true,
    "jupyter": {
     "outputs_hidden": true
    }
   },
   "outputs": [
    {
     "name": "stdout",
     "output_type": "stream",
     "text": [
      "== Retraining with 1.0% cleansing (remove 62 samples) ==\n"
     ]
    },
    {
     "name": "stderr",
     "output_type": "stream",
     "text": [
      "Some weights of the model checkpoint at roberta-base were not used when initializing RobertaForSequenceClassification: ['lm_head.bias', 'lm_head.dense.weight', 'lm_head.dense.bias', 'lm_head.layer_norm.weight', 'lm_head.layer_norm.bias', 'lm_head.decoder.weight', 'roberta.pooler.dense.weight', 'roberta.pooler.dense.bias']\n",
      "- This IS expected if you are initializing RobertaForSequenceClassification from the checkpoint of a model trained on another task or with another architecture (e.g. initializing a BertForSequenceClassification model from a BertForPretraining model).\n",
      "- This IS NOT expected if you are initializing RobertaForSequenceClassification from the checkpoint of a model that you expect to be exactly identical (initializing a BertForSequenceClassification model from a BertForSequenceClassification model).\n",
      "Some weights of RobertaForSequenceClassification were not initialized from the model checkpoint at roberta-base and are newly initialized: ['classifier.dense.weight', 'classifier.dense.bias', 'classifier.out_proj.weight', 'classifier.out_proj.bias']\n",
      "You should probably TRAIN this model on a down-stream task to be able to use it for predictions and inference.\n",
      "(Epoch 1) TRAIN LOSS:0.2110 LR:0.00001000: 100%|██████████| 780/780 [01:54<00:00,  6.82it/s] \n",
      "  0%|          | 0/268 [00:00<?, ?it/s]"
     ]
    },
    {
     "name": "stdout",
     "output_type": "stream",
     "text": [
      "(Epoch 1) TRAIN LOSS:0.2110 ACC:0.9050 F1:0.9045 REC:0.9035 PRE:0.9066 LR:0.00001000\n"
     ]
    },
    {
     "name": "stderr",
     "output_type": "stream",
     "text": [
      "VALID LOSS:0.1023 ACC:0.9631 F1:0.9629 REC:0.9622 PRE:0.9642: 100%|██████████| 268/268 [00:45<00:00,  5.94it/s]\n",
      "  0%|          | 0/780 [00:00<?, ?it/s]"
     ]
    },
    {
     "name": "stdout",
     "output_type": "stream",
     "text": [
      "(Epoch 1) VALID LOSS:0.1023 ACC:0.9631 F1:0.9629 REC:0.9622 PRE:0.9642\n"
     ]
    },
    {
     "name": "stderr",
     "output_type": "stream",
     "text": [
      "(Epoch 2) TRAIN LOSS:0.0652 LR:0.00001000: 100%|██████████| 780/780 [01:53<00:00,  6.85it/s]\n",
      "  0%|          | 0/268 [00:00<?, ?it/s]"
     ]
    },
    {
     "name": "stdout",
     "output_type": "stream",
     "text": [
      "(Epoch 2) TRAIN LOSS:0.0652 ACC:0.9766 F1:0.9765 REC:0.9765 PRE:0.9766 LR:0.00001000\n"
     ]
    },
    {
     "name": "stderr",
     "output_type": "stream",
     "text": [
      "VALID LOSS:0.1163 ACC:0.9617 F1:0.9614 REC:0.9602 PRE:0.9645: 100%|██████████| 268/268 [00:43<00:00,  6.10it/s]\n",
      "  0%|          | 0/780 [00:00<?, ?it/s]"
     ]
    },
    {
     "name": "stdout",
     "output_type": "stream",
     "text": [
      "(Epoch 2) VALID LOSS:0.1163 ACC:0.9617 F1:0.9614 REC:0.9602 PRE:0.9645\n"
     ]
    },
    {
     "name": "stderr",
     "output_type": "stream",
     "text": [
      "(Epoch 3) TRAIN LOSS:0.0212 LR:0.00001000: 100%|██████████| 780/780 [01:54<00:00,  6.82it/s]\n",
      "  0%|          | 0/268 [00:00<?, ?it/s]"
     ]
    },
    {
     "name": "stdout",
     "output_type": "stream",
     "text": [
      "(Epoch 3) TRAIN LOSS:0.0212 ACC:0.9936 F1:0.9936 REC:0.9936 PRE:0.9936 LR:0.00001000\n"
     ]
    },
    {
     "name": "stderr",
     "output_type": "stream",
     "text": [
      "VALID LOSS:0.0829 ACC:0.9771 F1:0.9770 REC:0.9772 PRE:0.9769: 100%|██████████| 268/268 [00:45<00:00,  5.91it/s]\n",
      "  0%|          | 0/780 [00:00<?, ?it/s]"
     ]
    },
    {
     "name": "stdout",
     "output_type": "stream",
     "text": [
      "(Epoch 3) VALID LOSS:0.0829 ACC:0.9771 F1:0.9770 REC:0.9772 PRE:0.9769\n"
     ]
    },
    {
     "name": "stderr",
     "output_type": "stream",
     "text": [
      "(Epoch 4) TRAIN LOSS:0.0085 LR:0.00001000: 100%|██████████| 780/780 [01:54<00:00,  6.81it/s]\n",
      "  0%|          | 0/268 [00:00<?, ?it/s]"
     ]
    },
    {
     "name": "stdout",
     "output_type": "stream",
     "text": [
      "(Epoch 4) TRAIN LOSS:0.0085 ACC:0.9979 F1:0.9979 REC:0.9979 PRE:0.9979 LR:0.00001000\n"
     ]
    },
    {
     "name": "stderr",
     "output_type": "stream",
     "text": [
      "VALID LOSS:0.3117 ACC:0.9233 F1:0.9233 REC:0.9267 PRE:0.9303: 100%|██████████| 268/268 [00:44<00:00,  6.07it/s]\n",
      "  0%|          | 0/780 [00:00<?, ?it/s]"
     ]
    },
    {
     "name": "stdout",
     "output_type": "stream",
     "text": [
      "(Epoch 4) VALID LOSS:0.3117 ACC:0.9233 F1:0.9233 REC:0.9267 PRE:0.9303\n"
     ]
    },
    {
     "name": "stderr",
     "output_type": "stream",
     "text": [
      "(Epoch 5) TRAIN LOSS:0.0130 LR:0.00001000: 100%|██████████| 780/780 [01:54<00:00,  6.80it/s]\n",
      "  0%|          | 0/268 [00:00<?, ?it/s]"
     ]
    },
    {
     "name": "stdout",
     "output_type": "stream",
     "text": [
      "(Epoch 5) TRAIN LOSS:0.0130 ACC:0.9962 F1:0.9961 REC:0.9961 PRE:0.9962 LR:0.00001000\n"
     ]
    },
    {
     "name": "stderr",
     "output_type": "stream",
     "text": [
      "VALID LOSS:0.0850 ACC:0.9771 F1:0.9770 REC:0.9768 PRE:0.9773: 100%|██████████| 268/268 [00:45<00:00,  5.95it/s]\n",
      "  0%|          | 0/780 [00:00<?, ?it/s]"
     ]
    },
    {
     "name": "stdout",
     "output_type": "stream",
     "text": [
      "(Epoch 5) VALID LOSS:0.0850 ACC:0.9771 F1:0.9770 REC:0.9768 PRE:0.9773\n"
     ]
    },
    {
     "name": "stderr",
     "output_type": "stream",
     "text": [
      "(Epoch 6) TRAIN LOSS:0.0021 LR:0.00001000: 100%|██████████| 780/780 [01:54<00:00,  6.83it/s]\n",
      "  0%|          | 0/268 [00:00<?, ?it/s]"
     ]
    },
    {
     "name": "stdout",
     "output_type": "stream",
     "text": [
      "(Epoch 6) TRAIN LOSS:0.0021 ACC:0.9995 F1:0.9995 REC:0.9995 PRE:0.9995 LR:0.00001000\n"
     ]
    },
    {
     "name": "stderr",
     "output_type": "stream",
     "text": [
      "VALID LOSS:0.1274 ACC:0.9780 F1:0.9780 REC:0.9775 PRE:0.9786: 100%|██████████| 268/268 [00:44<00:00,  5.96it/s]\n",
      "  0%|          | 0/780 [00:00<?, ?it/s]"
     ]
    },
    {
     "name": "stdout",
     "output_type": "stream",
     "text": [
      "(Epoch 6) VALID LOSS:0.1274 ACC:0.9780 F1:0.9780 REC:0.9775 PRE:0.9786\n"
     ]
    },
    {
     "name": "stderr",
     "output_type": "stream",
     "text": [
      "(Epoch 7) TRAIN LOSS:0.0066 LR:0.00001000: 100%|██████████| 780/780 [01:54<00:00,  6.78it/s]\n",
      "  0%|          | 0/268 [00:00<?, ?it/s]"
     ]
    },
    {
     "name": "stdout",
     "output_type": "stream",
     "text": [
      "(Epoch 7) TRAIN LOSS:0.0066 ACC:0.9987 F1:0.9987 REC:0.9987 PRE:0.9987 LR:0.00001000\n"
     ]
    },
    {
     "name": "stderr",
     "output_type": "stream",
     "text": [
      "VALID LOSS:0.1037 ACC:0.9794 F1:0.9794 REC:0.9792 PRE:0.9796: 100%|██████████| 268/268 [00:45<00:00,  5.89it/s]\n",
      "  0%|          | 0/780 [00:00<?, ?it/s]"
     ]
    },
    {
     "name": "stdout",
     "output_type": "stream",
     "text": [
      "(Epoch 7) VALID LOSS:0.1037 ACC:0.9794 F1:0.9794 REC:0.9792 PRE:0.9796\n"
     ]
    },
    {
     "name": "stderr",
     "output_type": "stream",
     "text": [
      "(Epoch 8) TRAIN LOSS:0.0148 LR:0.00001000: 100%|██████████| 780/780 [01:53<00:00,  6.85it/s]\n",
      "  0%|          | 0/268 [00:00<?, ?it/s]"
     ]
    },
    {
     "name": "stdout",
     "output_type": "stream",
     "text": [
      "(Epoch 8) TRAIN LOSS:0.0148 ACC:0.9958 F1:0.9958 REC:0.9958 PRE:0.9958 LR:0.00001000\n"
     ]
    },
    {
     "name": "stderr",
     "output_type": "stream",
     "text": [
      "VALID LOSS:0.1011 ACC:0.9752 F1:0.9751 REC:0.9747 PRE:0.9758: 100%|██████████| 268/268 [00:45<00:00,  5.93it/s]\n",
      "  0%|          | 0/780 [00:00<?, ?it/s]"
     ]
    },
    {
     "name": "stdout",
     "output_type": "stream",
     "text": [
      "(Epoch 8) VALID LOSS:0.1011 ACC:0.9752 F1:0.9751 REC:0.9747 PRE:0.9758\n"
     ]
    },
    {
     "name": "stderr",
     "output_type": "stream",
     "text": [
      "(Epoch 9) TRAIN LOSS:0.0100 LR:0.00001000: 100%|██████████| 780/780 [01:54<00:00,  6.80it/s]\n",
      "  0%|          | 0/268 [00:00<?, ?it/s]"
     ]
    },
    {
     "name": "stdout",
     "output_type": "stream",
     "text": [
      "(Epoch 9) TRAIN LOSS:0.0100 ACC:0.9973 F1:0.9973 REC:0.9973 PRE:0.9973 LR:0.00001000\n"
     ]
    },
    {
     "name": "stderr",
     "output_type": "stream",
     "text": [
      "VALID LOSS:0.1074 ACC:0.9785 F1:0.9784 REC:0.9782 PRE:0.9787: 100%|██████████| 268/268 [00:44<00:00,  5.97it/s]\n",
      "  0%|          | 0/780 [00:00<?, ?it/s]"
     ]
    },
    {
     "name": "stdout",
     "output_type": "stream",
     "text": [
      "(Epoch 9) VALID LOSS:0.1074 ACC:0.9785 F1:0.9784 REC:0.9782 PRE:0.9787\n"
     ]
    },
    {
     "name": "stderr",
     "output_type": "stream",
     "text": [
      "(Epoch 10) TRAIN LOSS:0.0029 LR:0.00001000: 100%|██████████| 780/780 [01:54<00:00,  6.82it/s]\n",
      "  0%|          | 0/268 [00:00<?, ?it/s]"
     ]
    },
    {
     "name": "stdout",
     "output_type": "stream",
     "text": [
      "(Epoch 10) TRAIN LOSS:0.0029 ACC:0.9994 F1:0.9994 REC:0.9994 PRE:0.9994 LR:0.00001000\n"
     ]
    },
    {
     "name": "stderr",
     "output_type": "stream",
     "text": [
      "VALID LOSS:0.1260 ACC:0.9799 F1:0.9798 REC:0.9794 PRE:0.9804: 100%|██████████| 268/268 [00:44<00:00,  6.04it/s]\n"
     ]
    },
    {
     "name": "stdout",
     "output_type": "stream",
     "text": [
      "(Epoch 10) VALID LOSS:0.1260 ACC:0.9799 F1:0.9798 REC:0.9794 PRE:0.9804\n",
      "Evaluation with 1.0% cleansing (remove 62 samples) ACC:0.9799 F1:0.9798 REC:0.9794 PRE:0.9804\n",
      "== Retraining with 2.0% cleansing (remove 125 samples) ==\n"
     ]
    },
    {
     "name": "stderr",
     "output_type": "stream",
     "text": [
      "Some weights of the model checkpoint at roberta-base were not used when initializing RobertaForSequenceClassification: ['lm_head.bias', 'lm_head.dense.weight', 'lm_head.dense.bias', 'lm_head.layer_norm.weight', 'lm_head.layer_norm.bias', 'lm_head.decoder.weight', 'roberta.pooler.dense.weight', 'roberta.pooler.dense.bias']\n",
      "- This IS expected if you are initializing RobertaForSequenceClassification from the checkpoint of a model trained on another task or with another architecture (e.g. initializing a BertForSequenceClassification model from a BertForPretraining model).\n",
      "- This IS NOT expected if you are initializing RobertaForSequenceClassification from the checkpoint of a model that you expect to be exactly identical (initializing a BertForSequenceClassification model from a BertForSequenceClassification model).\n",
      "Some weights of RobertaForSequenceClassification were not initialized from the model checkpoint at roberta-base and are newly initialized: ['classifier.dense.weight', 'classifier.dense.bias', 'classifier.out_proj.weight', 'classifier.out_proj.bias']\n",
      "You should probably TRAIN this model on a down-stream task to be able to use it for predictions and inference.\n",
      "(Epoch 1) TRAIN LOSS:0.2129 LR:0.00001000: 100%|██████████| 773/773 [01:54<00:00,  6.77it/s]\n",
      "  0%|          | 0/268 [00:00<?, ?it/s]"
     ]
    },
    {
     "name": "stdout",
     "output_type": "stream",
     "text": [
      "(Epoch 1) TRAIN LOSS:0.2129 ACC:0.9050 F1:0.9045 REC:0.9037 PRE:0.9063 LR:0.00001000\n"
     ]
    },
    {
     "name": "stderr",
     "output_type": "stream",
     "text": [
      "VALID LOSS:0.0861 ACC:0.9673 F1:0.9672 REC:0.9667 PRE:0.9678: 100%|██████████| 268/268 [00:44<00:00,  6.04it/s]\n",
      "  0%|          | 0/773 [00:00<?, ?it/s]"
     ]
    },
    {
     "name": "stdout",
     "output_type": "stream",
     "text": [
      "(Epoch 1) VALID LOSS:0.0861 ACC:0.9673 F1:0.9672 REC:0.9667 PRE:0.9678\n"
     ]
    },
    {
     "name": "stderr",
     "output_type": "stream",
     "text": [
      "(Epoch 2) TRAIN LOSS:0.0671 LR:0.00001000: 100%|██████████| 773/773 [01:53<00:00,  6.80it/s] \n",
      "  0%|          | 0/268 [00:00<?, ?it/s]"
     ]
    },
    {
     "name": "stdout",
     "output_type": "stream",
     "text": [
      "(Epoch 2) TRAIN LOSS:0.0671 ACC:0.9760 F1:0.9760 REC:0.9759 PRE:0.9761 LR:0.00001000\n"
     ]
    },
    {
     "name": "stderr",
     "output_type": "stream",
     "text": [
      "VALID LOSS:0.0712 ACC:0.9799 F1:0.9798 REC:0.9795 PRE:0.9803: 100%|██████████| 268/268 [00:45<00:00,  5.93it/s]\n",
      "  0%|          | 0/773 [00:00<?, ?it/s]"
     ]
    },
    {
     "name": "stdout",
     "output_type": "stream",
     "text": [
      "(Epoch 2) VALID LOSS:0.0712 ACC:0.9799 F1:0.9798 REC:0.9795 PRE:0.9803\n"
     ]
    },
    {
     "name": "stderr",
     "output_type": "stream",
     "text": [
      "(Epoch 3) TRAIN LOSS:0.0198 LR:0.00001000: 100%|██████████| 773/773 [01:53<00:00,  6.80it/s] \n",
      "  0%|          | 0/268 [00:00<?, ?it/s]"
     ]
    },
    {
     "name": "stdout",
     "output_type": "stream",
     "text": [
      "(Epoch 3) TRAIN LOSS:0.0198 ACC:0.9935 F1:0.9935 REC:0.9935 PRE:0.9936 LR:0.00001000\n"
     ]
    },
    {
     "name": "stderr",
     "output_type": "stream",
     "text": [
      "VALID LOSS:0.0969 ACC:0.9743 F1:0.9742 REC:0.9738 PRE:0.9748: 100%|██████████| 268/268 [00:45<00:00,  5.86it/s]\n",
      "  0%|          | 0/773 [00:00<?, ?it/s]"
     ]
    },
    {
     "name": "stdout",
     "output_type": "stream",
     "text": [
      "(Epoch 3) VALID LOSS:0.0969 ACC:0.9743 F1:0.9742 REC:0.9738 PRE:0.9748\n"
     ]
    },
    {
     "name": "stderr",
     "output_type": "stream",
     "text": [
      "(Epoch 4) TRAIN LOSS:0.0131 LR:0.00001000: 100%|██████████| 773/773 [01:53<00:00,  6.81it/s] \n",
      "  0%|          | 0/268 [00:00<?, ?it/s]"
     ]
    },
    {
     "name": "stdout",
     "output_type": "stream",
     "text": [
      "(Epoch 4) TRAIN LOSS:0.0131 ACC:0.9953 F1:0.9953 REC:0.9953 PRE:0.9953 LR:0.00001000\n"
     ]
    },
    {
     "name": "stderr",
     "output_type": "stream",
     "text": [
      "VALID LOSS:0.0869 ACC:0.9762 F1:0.9761 REC:0.9756 PRE:0.9769: 100%|██████████| 268/268 [00:44<00:00,  6.00it/s]\n",
      "  0%|          | 0/773 [00:00<?, ?it/s]"
     ]
    },
    {
     "name": "stdout",
     "output_type": "stream",
     "text": [
      "(Epoch 4) VALID LOSS:0.0869 ACC:0.9762 F1:0.9761 REC:0.9756 PRE:0.9769\n"
     ]
    },
    {
     "name": "stderr",
     "output_type": "stream",
     "text": [
      "(Epoch 5) TRAIN LOSS:0.0106 LR:0.00001000: 100%|██████████| 773/773 [01:53<00:00,  6.79it/s] \n",
      "  0%|          | 0/268 [00:00<?, ?it/s]"
     ]
    },
    {
     "name": "stdout",
     "output_type": "stream",
     "text": [
      "(Epoch 5) TRAIN LOSS:0.0106 ACC:0.9972 F1:0.9972 REC:0.9972 PRE:0.9973 LR:0.00001000\n"
     ]
    },
    {
     "name": "stderr",
     "output_type": "stream",
     "text": [
      "VALID LOSS:0.0933 ACC:0.9771 F1:0.9770 REC:0.9768 PRE:0.9774: 100%|██████████| 268/268 [00:44<00:00,  5.97it/s]\n"
     ]
    },
    {
     "name": "stdout",
     "output_type": "stream",
     "text": [
      "(Epoch 5) VALID LOSS:0.0933 ACC:0.9771 F1:0.9770 REC:0.9768 PRE:0.9774\n",
      "Evaluation with 2.0% cleansing (remove 125 samples) ACC:0.9799 F1:0.9798 REC:0.9795 PRE:0.9803\n",
      "== Retraining with 5.0% cleansing (remove 314 samples) ==\n"
     ]
    },
    {
     "name": "stderr",
     "output_type": "stream",
     "text": [
      "Some weights of the model checkpoint at roberta-base were not used when initializing RobertaForSequenceClassification: ['lm_head.bias', 'lm_head.dense.weight', 'lm_head.dense.bias', 'lm_head.layer_norm.weight', 'lm_head.layer_norm.bias', 'lm_head.decoder.weight', 'roberta.pooler.dense.weight', 'roberta.pooler.dense.bias']\n",
      "- This IS expected if you are initializing RobertaForSequenceClassification from the checkpoint of a model trained on another task or with another architecture (e.g. initializing a BertForSequenceClassification model from a BertForPretraining model).\n",
      "- This IS NOT expected if you are initializing RobertaForSequenceClassification from the checkpoint of a model that you expect to be exactly identical (initializing a BertForSequenceClassification model from a BertForSequenceClassification model).\n",
      "Some weights of RobertaForSequenceClassification were not initialized from the model checkpoint at roberta-base and are newly initialized: ['classifier.dense.weight', 'classifier.dense.bias', 'classifier.out_proj.weight', 'classifier.out_proj.bias']\n",
      "You should probably TRAIN this model on a down-stream task to be able to use it for predictions and inference.\n",
      "(Epoch 1) TRAIN LOSS:0.2103 LR:0.00001000: 100%|██████████| 749/749 [01:51<00:00,  6.73it/s]\n",
      "  0%|          | 0/268 [00:00<?, ?it/s]"
     ]
    },
    {
     "name": "stdout",
     "output_type": "stream",
     "text": [
      "(Epoch 1) TRAIN LOSS:0.2103 ACC:0.9097 F1:0.9093 REC:0.9088 PRE:0.9103 LR:0.00001000\n"
     ]
    },
    {
     "name": "stderr",
     "output_type": "stream",
     "text": [
      "VALID LOSS:0.0933 ACC:0.9673 F1:0.9671 REC:0.9661 PRE:0.9693: 100%|██████████| 268/268 [00:44<00:00,  5.97it/s]\n",
      "  0%|          | 0/749 [00:00<?, ?it/s]"
     ]
    },
    {
     "name": "stdout",
     "output_type": "stream",
     "text": [
      "(Epoch 1) VALID LOSS:0.0933 ACC:0.9673 F1:0.9671 REC:0.9661 PRE:0.9693\n"
     ]
    },
    {
     "name": "stderr",
     "output_type": "stream",
     "text": [
      "(Epoch 2) TRAIN LOSS:0.0635 LR:0.00001000: 100%|██████████| 749/749 [01:51<00:00,  6.71it/s] \n",
      "  0%|          | 0/268 [00:00<?, ?it/s]"
     ]
    },
    {
     "name": "stdout",
     "output_type": "stream",
     "text": [
      "(Epoch 2) TRAIN LOSS:0.0635 ACC:0.9783 F1:0.9782 REC:0.9782 PRE:0.9783 LR:0.00001000\n"
     ]
    },
    {
     "name": "stderr",
     "output_type": "stream",
     "text": [
      "VALID LOSS:0.0983 ACC:0.9677 F1:0.9676 REC:0.9664 PRE:0.9703: 100%|██████████| 268/268 [00:44<00:00,  5.97it/s]\n",
      "  0%|          | 0/749 [00:00<?, ?it/s]"
     ]
    },
    {
     "name": "stdout",
     "output_type": "stream",
     "text": [
      "(Epoch 2) VALID LOSS:0.0983 ACC:0.9677 F1:0.9676 REC:0.9664 PRE:0.9703\n"
     ]
    },
    {
     "name": "stderr",
     "output_type": "stream",
     "text": [
      "(Epoch 3) TRAIN LOSS:0.0224 LR:0.00001000: 100%|██████████| 749/749 [01:52<00:00,  6.65it/s]\n",
      "  0%|          | 0/268 [00:00<?, ?it/s]"
     ]
    },
    {
     "name": "stdout",
     "output_type": "stream",
     "text": [
      "(Epoch 3) TRAIN LOSS:0.0224 ACC:0.9918 F1:0.9918 REC:0.9918 PRE:0.9918 LR:0.00001000\n"
     ]
    },
    {
     "name": "stderr",
     "output_type": "stream",
     "text": [
      "VALID LOSS:0.1090 ACC:0.9719 F1:0.9719 REC:0.9715 PRE:0.9723: 100%|██████████| 268/268 [00:44<00:00,  5.99it/s]\n",
      "  0%|          | 0/749 [00:00<?, ?it/s]"
     ]
    },
    {
     "name": "stdout",
     "output_type": "stream",
     "text": [
      "(Epoch 3) VALID LOSS:0.1090 ACC:0.9719 F1:0.9719 REC:0.9715 PRE:0.9723\n"
     ]
    },
    {
     "name": "stderr",
     "output_type": "stream",
     "text": [
      "(Epoch 4) TRAIN LOSS:0.0157 LR:0.00001000: 100%|██████████| 749/749 [01:51<00:00,  6.70it/s]\n",
      "  0%|          | 0/268 [00:00<?, ?it/s]"
     ]
    },
    {
     "name": "stdout",
     "output_type": "stream",
     "text": [
      "(Epoch 4) TRAIN LOSS:0.0157 ACC:0.9947 F1:0.9946 REC:0.9946 PRE:0.9946 LR:0.00001000\n"
     ]
    },
    {
     "name": "stderr",
     "output_type": "stream",
     "text": [
      "VALID LOSS:0.0808 ACC:0.9766 F1:0.9766 REC:0.9768 PRE:0.9764: 100%|██████████| 268/268 [00:44<00:00,  6.08it/s]\n",
      "  0%|          | 0/749 [00:00<?, ?it/s]"
     ]
    },
    {
     "name": "stdout",
     "output_type": "stream",
     "text": [
      "(Epoch 4) VALID LOSS:0.0808 ACC:0.9766 F1:0.9766 REC:0.9768 PRE:0.9764\n"
     ]
    },
    {
     "name": "stderr",
     "output_type": "stream",
     "text": [
      "(Epoch 5) TRAIN LOSS:0.0045 LR:0.00001000: 100%|██████████| 749/749 [01:51<00:00,  6.69it/s]\n",
      "  0%|          | 0/268 [00:00<?, ?it/s]"
     ]
    },
    {
     "name": "stdout",
     "output_type": "stream",
     "text": [
      "(Epoch 5) TRAIN LOSS:0.0045 ACC:0.9987 F1:0.9987 REC:0.9987 PRE:0.9987 LR:0.00001000\n"
     ]
    },
    {
     "name": "stderr",
     "output_type": "stream",
     "text": [
      "VALID LOSS:0.1108 ACC:0.9780 F1:0.9780 REC:0.9775 PRE:0.9787: 100%|██████████| 268/268 [00:44<00:00,  6.09it/s]\n",
      "  0%|          | 0/749 [00:00<?, ?it/s]"
     ]
    },
    {
     "name": "stdout",
     "output_type": "stream",
     "text": [
      "(Epoch 5) VALID LOSS:0.1108 ACC:0.9780 F1:0.9780 REC:0.9775 PRE:0.9787\n"
     ]
    },
    {
     "name": "stderr",
     "output_type": "stream",
     "text": [
      "(Epoch 6) TRAIN LOSS:0.0004 LR:0.00001000: 100%|██████████| 749/749 [01:51<00:00,  6.71it/s]\n",
      "  0%|          | 0/268 [00:00<?, ?it/s]"
     ]
    },
    {
     "name": "stdout",
     "output_type": "stream",
     "text": [
      "(Epoch 6) TRAIN LOSS:0.0004 ACC:1.0000 F1:1.0000 REC:1.0000 PRE:1.0000 LR:0.00001000\n"
     ]
    },
    {
     "name": "stderr",
     "output_type": "stream",
     "text": [
      "VALID LOSS:0.1363 ACC:0.9785 F1:0.9784 REC:0.9779 PRE:0.9793: 100%|██████████| 268/268 [00:44<00:00,  6.00it/s]\n",
      "  0%|          | 0/749 [00:00<?, ?it/s]"
     ]
    },
    {
     "name": "stdout",
     "output_type": "stream",
     "text": [
      "(Epoch 6) VALID LOSS:0.1363 ACC:0.9785 F1:0.9784 REC:0.9779 PRE:0.9793\n"
     ]
    },
    {
     "name": "stderr",
     "output_type": "stream",
     "text": [
      "(Epoch 7) TRAIN LOSS:0.0001 LR:0.00001000: 100%|██████████| 749/749 [01:51<00:00,  6.74it/s]\n",
      "  0%|          | 0/268 [00:00<?, ?it/s]"
     ]
    },
    {
     "name": "stdout",
     "output_type": "stream",
     "text": [
      "(Epoch 7) TRAIN LOSS:0.0001 ACC:1.0000 F1:1.0000 REC:1.0000 PRE:1.0000 LR:0.00001000\n"
     ]
    },
    {
     "name": "stderr",
     "output_type": "stream",
     "text": [
      "VALID LOSS:0.1449 ACC:0.9790 F1:0.9789 REC:0.9784 PRE:0.9796: 100%|██████████| 268/268 [00:44<00:00,  6.01it/s]\n",
      "  0%|          | 0/749 [00:00<?, ?it/s]"
     ]
    },
    {
     "name": "stdout",
     "output_type": "stream",
     "text": [
      "(Epoch 7) VALID LOSS:0.1449 ACC:0.9790 F1:0.9789 REC:0.9784 PRE:0.9796\n"
     ]
    },
    {
     "name": "stderr",
     "output_type": "stream",
     "text": [
      "(Epoch 8) TRAIN LOSS:0.0000 LR:0.00001000: 100%|██████████| 749/749 [01:51<00:00,  6.69it/s]\n",
      "  0%|          | 0/268 [00:00<?, ?it/s]"
     ]
    },
    {
     "name": "stdout",
     "output_type": "stream",
     "text": [
      "(Epoch 8) TRAIN LOSS:0.0000 ACC:1.0000 F1:1.0000 REC:1.0000 PRE:1.0000 LR:0.00001000\n"
     ]
    },
    {
     "name": "stderr",
     "output_type": "stream",
     "text": [
      "VALID LOSS:0.1543 ACC:0.9785 F1:0.9784 REC:0.9779 PRE:0.9792: 100%|██████████| 268/268 [00:44<00:00,  6.02it/s]\n",
      "  0%|          | 0/749 [00:00<?, ?it/s]"
     ]
    },
    {
     "name": "stdout",
     "output_type": "stream",
     "text": [
      "(Epoch 8) VALID LOSS:0.1543 ACC:0.9785 F1:0.9784 REC:0.9779 PRE:0.9792\n"
     ]
    },
    {
     "name": "stderr",
     "output_type": "stream",
     "text": [
      "(Epoch 9) TRAIN LOSS:0.0000 LR:0.00001000: 100%|██████████| 749/749 [01:51<00:00,  6.73it/s]\n",
      "  0%|          | 0/268 [00:00<?, ?it/s]"
     ]
    },
    {
     "name": "stdout",
     "output_type": "stream",
     "text": [
      "(Epoch 9) TRAIN LOSS:0.0000 ACC:1.0000 F1:1.0000 REC:1.0000 PRE:1.0000 LR:0.00001000\n"
     ]
    },
    {
     "name": "stderr",
     "output_type": "stream",
     "text": [
      "VALID LOSS:0.1628 ACC:0.9776 F1:0.9775 REC:0.9769 PRE:0.9783: 100%|██████████| 268/268 [00:44<00:00,  5.99it/s]\n",
      "  0%|          | 0/749 [00:00<?, ?it/s]"
     ]
    },
    {
     "name": "stdout",
     "output_type": "stream",
     "text": [
      "(Epoch 9) VALID LOSS:0.1628 ACC:0.9776 F1:0.9775 REC:0.9769 PRE:0.9783\n"
     ]
    },
    {
     "name": "stderr",
     "output_type": "stream",
     "text": [
      "(Epoch 10) TRAIN LOSS:0.0000 LR:0.00001000: 100%|██████████| 749/749 [01:50<00:00,  6.75it/s]\n",
      "  0%|          | 0/268 [00:00<?, ?it/s]"
     ]
    },
    {
     "name": "stdout",
     "output_type": "stream",
     "text": [
      "(Epoch 10) TRAIN LOSS:0.0000 ACC:1.0000 F1:1.0000 REC:1.0000 PRE:1.0000 LR:0.00001000\n"
     ]
    },
    {
     "name": "stderr",
     "output_type": "stream",
     "text": [
      "VALID LOSS:0.1710 ACC:0.9780 F1:0.9779 REC:0.9774 PRE:0.9788: 100%|██████████| 268/268 [00:44<00:00,  6.03it/s]\n"
     ]
    },
    {
     "name": "stdout",
     "output_type": "stream",
     "text": [
      "(Epoch 10) VALID LOSS:0.1710 ACC:0.9780 F1:0.9779 REC:0.9774 PRE:0.9788\n",
      "Evaluation with 5.0% cleansing (remove 314 samples) ACC:0.9790 F1:0.9789 REC:0.9784 PRE:0.9796\n",
      "== Retraining with 10.0% cleansing (remove 629 samples) ==\n"
     ]
    },
    {
     "name": "stderr",
     "output_type": "stream",
     "text": [
      "Some weights of the model checkpoint at roberta-base were not used when initializing RobertaForSequenceClassification: ['lm_head.bias', 'lm_head.dense.weight', 'lm_head.dense.bias', 'lm_head.layer_norm.weight', 'lm_head.layer_norm.bias', 'lm_head.decoder.weight', 'roberta.pooler.dense.weight', 'roberta.pooler.dense.bias']\n",
      "- This IS expected if you are initializing RobertaForSequenceClassification from the checkpoint of a model trained on another task or with another architecture (e.g. initializing a BertForSequenceClassification model from a BertForPretraining model).\n",
      "- This IS NOT expected if you are initializing RobertaForSequenceClassification from the checkpoint of a model that you expect to be exactly identical (initializing a BertForSequenceClassification model from a BertForSequenceClassification model).\n",
      "Some weights of RobertaForSequenceClassification were not initialized from the model checkpoint at roberta-base and are newly initialized: ['classifier.dense.weight', 'classifier.dense.bias', 'classifier.out_proj.weight', 'classifier.out_proj.bias']\n",
      "You should probably TRAIN this model on a down-stream task to be able to use it for predictions and inference.\n",
      "(Epoch 1) TRAIN LOSS:0.2071 LR:0.00001000: 100%|██████████| 710/710 [01:46<00:00,  6.67it/s]\n",
      "  0%|          | 0/268 [00:00<?, ?it/s]"
     ]
    },
    {
     "name": "stdout",
     "output_type": "stream",
     "text": [
      "(Epoch 1) TRAIN LOSS:0.2071 ACC:0.9089 F1:0.9085 REC:0.9077 PRE:0.9101 LR:0.00001000\n"
     ]
    },
    {
     "name": "stderr",
     "output_type": "stream",
     "text": [
      "VALID LOSS:0.0879 ACC:0.9673 F1:0.9672 REC:0.9673 PRE:0.9671: 100%|██████████| 268/268 [00:44<00:00,  6.02it/s]\n",
      "  0%|          | 0/710 [00:00<?, ?it/s]"
     ]
    },
    {
     "name": "stdout",
     "output_type": "stream",
     "text": [
      "(Epoch 1) VALID LOSS:0.0879 ACC:0.9673 F1:0.9672 REC:0.9673 PRE:0.9671\n"
     ]
    },
    {
     "name": "stderr",
     "output_type": "stream",
     "text": [
      "(Epoch 2) TRAIN LOSS:0.0569 LR:0.00001000: 100%|██████████| 710/710 [01:46<00:00,  6.64it/s]\n",
      "  0%|          | 0/268 [00:00<?, ?it/s]"
     ]
    },
    {
     "name": "stdout",
     "output_type": "stream",
     "text": [
      "(Epoch 2) TRAIN LOSS:0.0569 ACC:0.9820 F1:0.9820 REC:0.9820 PRE:0.9820 LR:0.00001000\n"
     ]
    },
    {
     "name": "stderr",
     "output_type": "stream",
     "text": [
      "VALID LOSS:0.0685 ACC:0.9734 F1:0.9732 REC:0.9725 PRE:0.9746: 100%|██████████| 268/268 [00:44<00:00,  5.97it/s]\n",
      "  0%|          | 0/710 [00:00<?, ?it/s]"
     ]
    },
    {
     "name": "stdout",
     "output_type": "stream",
     "text": [
      "(Epoch 2) VALID LOSS:0.0685 ACC:0.9734 F1:0.9732 REC:0.9725 PRE:0.9746\n"
     ]
    },
    {
     "name": "stderr",
     "output_type": "stream",
     "text": [
      "(Epoch 3) TRAIN LOSS:0.0177 LR:0.00001000: 100%|██████████| 710/710 [01:47<00:00,  6.59it/s]\n",
      "  0%|          | 0/268 [00:00<?, ?it/s]"
     ]
    },
    {
     "name": "stdout",
     "output_type": "stream",
     "text": [
      "(Epoch 3) TRAIN LOSS:0.0177 ACC:0.9938 F1:0.9938 REC:0.9938 PRE:0.9939 LR:0.00001000\n"
     ]
    },
    {
     "name": "stderr",
     "output_type": "stream",
     "text": [
      "VALID LOSS:0.0826 ACC:0.9757 F1:0.9756 REC:0.9759 PRE:0.9754: 100%|██████████| 268/268 [00:44<00:00,  6.07it/s]\n",
      "  0%|          | 0/710 [00:00<?, ?it/s]"
     ]
    },
    {
     "name": "stdout",
     "output_type": "stream",
     "text": [
      "(Epoch 3) VALID LOSS:0.0826 ACC:0.9757 F1:0.9756 REC:0.9759 PRE:0.9754\n"
     ]
    },
    {
     "name": "stderr",
     "output_type": "stream",
     "text": [
      "(Epoch 4) TRAIN LOSS:0.0085 LR:0.00001000: 100%|██████████| 710/710 [01:46<00:00,  6.65it/s]\n",
      "  0%|          | 0/268 [00:00<?, ?it/s]"
     ]
    },
    {
     "name": "stdout",
     "output_type": "stream",
     "text": [
      "(Epoch 4) TRAIN LOSS:0.0085 ACC:0.9972 F1:0.9972 REC:0.9972 PRE:0.9972 LR:0.00001000\n"
     ]
    },
    {
     "name": "stderr",
     "output_type": "stream",
     "text": [
      "VALID LOSS:0.0920 ACC:0.9687 F1:0.9686 REC:0.9689 PRE:0.9684: 100%|██████████| 268/268 [00:44<00:00,  6.06it/s]\n",
      "  0%|          | 0/710 [00:00<?, ?it/s]"
     ]
    },
    {
     "name": "stdout",
     "output_type": "stream",
     "text": [
      "(Epoch 4) VALID LOSS:0.0920 ACC:0.9687 F1:0.9686 REC:0.9689 PRE:0.9684\n"
     ]
    },
    {
     "name": "stderr",
     "output_type": "stream",
     "text": [
      "(Epoch 5) TRAIN LOSS:0.0086 LR:0.00001000: 100%|██████████| 710/710 [01:47<00:00,  6.62it/s]\n",
      "  0%|          | 0/268 [00:00<?, ?it/s]"
     ]
    },
    {
     "name": "stdout",
     "output_type": "stream",
     "text": [
      "(Epoch 5) TRAIN LOSS:0.0086 ACC:0.9977 F1:0.9977 REC:0.9976 PRE:0.9978 LR:0.00001000\n"
     ]
    },
    {
     "name": "stderr",
     "output_type": "stream",
     "text": [
      "VALID LOSS:0.1048 ACC:0.9743 F1:0.9742 REC:0.9746 PRE:0.9740: 100%|██████████| 268/268 [00:44<00:00,  6.07it/s]\n",
      "  0%|          | 0/710 [00:00<?, ?it/s]"
     ]
    },
    {
     "name": "stdout",
     "output_type": "stream",
     "text": [
      "(Epoch 5) VALID LOSS:0.1048 ACC:0.9743 F1:0.9742 REC:0.9746 PRE:0.9740\n"
     ]
    },
    {
     "name": "stderr",
     "output_type": "stream",
     "text": [
      "(Epoch 6) TRAIN LOSS:0.0086 LR:0.00001000: 100%|██████████| 710/710 [01:46<00:00,  6.64it/s]\n",
      "  0%|          | 0/268 [00:00<?, ?it/s]"
     ]
    },
    {
     "name": "stdout",
     "output_type": "stream",
     "text": [
      "(Epoch 6) TRAIN LOSS:0.0086 ACC:0.9977 F1:0.9977 REC:0.9977 PRE:0.9977 LR:0.00001000\n"
     ]
    },
    {
     "name": "stderr",
     "output_type": "stream",
     "text": [
      "VALID LOSS:0.1056 ACC:0.9785 F1:0.9784 REC:0.9780 PRE:0.9790: 100%|██████████| 268/268 [00:44<00:00,  6.03it/s]\n",
      "  0%|          | 0/710 [00:00<?, ?it/s]"
     ]
    },
    {
     "name": "stdout",
     "output_type": "stream",
     "text": [
      "(Epoch 6) VALID LOSS:0.1056 ACC:0.9785 F1:0.9784 REC:0.9780 PRE:0.9790\n"
     ]
    },
    {
     "name": "stderr",
     "output_type": "stream",
     "text": [
      "(Epoch 7) TRAIN LOSS:0.0120 LR:0.00001000: 100%|██████████| 710/710 [01:46<00:00,  6.64it/s]\n",
      "  0%|          | 0/268 [00:00<?, ?it/s]"
     ]
    },
    {
     "name": "stdout",
     "output_type": "stream",
     "text": [
      "(Epoch 7) TRAIN LOSS:0.0120 ACC:0.9967 F1:0.9966 REC:0.9967 PRE:0.9966 LR:0.00001000\n"
     ]
    },
    {
     "name": "stderr",
     "output_type": "stream",
     "text": [
      "VALID LOSS:0.1092 ACC:0.9738 F1:0.9737 REC:0.9733 PRE:0.9744: 100%|██████████| 268/268 [00:43<00:00,  6.11it/s]\n",
      "  0%|          | 0/710 [00:00<?, ?it/s]"
     ]
    },
    {
     "name": "stdout",
     "output_type": "stream",
     "text": [
      "(Epoch 7) VALID LOSS:0.1092 ACC:0.9738 F1:0.9737 REC:0.9733 PRE:0.9744\n"
     ]
    },
    {
     "name": "stderr",
     "output_type": "stream",
     "text": [
      "(Epoch 8) TRAIN LOSS:0.0070 LR:0.00001000: 100%|██████████| 710/710 [01:46<00:00,  6.65it/s]\n",
      "  0%|          | 0/268 [00:00<?, ?it/s]"
     ]
    },
    {
     "name": "stdout",
     "output_type": "stream",
     "text": [
      "(Epoch 8) TRAIN LOSS:0.0070 ACC:0.9977 F1:0.9977 REC:0.9977 PRE:0.9977 LR:0.00001000\n"
     ]
    },
    {
     "name": "stderr",
     "output_type": "stream",
     "text": [
      "VALID LOSS:0.1567 ACC:0.9719 F1:0.9718 REC:0.9711 PRE:0.9731: 100%|██████████| 268/268 [00:44<00:00,  6.03it/s]\n",
      "  0%|          | 0/710 [00:00<?, ?it/s]"
     ]
    },
    {
     "name": "stdout",
     "output_type": "stream",
     "text": [
      "(Epoch 8) VALID LOSS:0.1567 ACC:0.9719 F1:0.9718 REC:0.9711 PRE:0.9731\n"
     ]
    },
    {
     "name": "stderr",
     "output_type": "stream",
     "text": [
      "(Epoch 9) TRAIN LOSS:0.0042 LR:0.00001000: 100%|██████████| 710/710 [01:46<00:00,  6.66it/s]\n",
      "  0%|          | 0/268 [00:00<?, ?it/s]"
     ]
    },
    {
     "name": "stdout",
     "output_type": "stream",
     "text": [
      "(Epoch 9) TRAIN LOSS:0.0042 ACC:0.9988 F1:0.9988 REC:0.9988 PRE:0.9988 LR:0.00001000\n"
     ]
    },
    {
     "name": "stderr",
     "output_type": "stream",
     "text": [
      "VALID LOSS:0.1158 ACC:0.9776 F1:0.9775 REC:0.9773 PRE:0.9777: 100%|██████████| 268/268 [00:45<00:00,  5.89it/s]\n"
     ]
    },
    {
     "name": "stdout",
     "output_type": "stream",
     "text": [
      "(Epoch 9) VALID LOSS:0.1158 ACC:0.9776 F1:0.9775 REC:0.9773 PRE:0.9777\n",
      "Evaluation with 10.0% cleansing (remove 629 samples) ACC:0.9785 F1:0.9784 REC:0.9780 PRE:0.9790\n",
      "== Retraining with 25.0% cleansing (remove 1574 samples) ==\n"
     ]
    },
    {
     "name": "stderr",
     "output_type": "stream",
     "text": [
      "Some weights of the model checkpoint at roberta-base were not used when initializing RobertaForSequenceClassification: ['lm_head.bias', 'lm_head.dense.weight', 'lm_head.dense.bias', 'lm_head.layer_norm.weight', 'lm_head.layer_norm.bias', 'lm_head.decoder.weight', 'roberta.pooler.dense.weight', 'roberta.pooler.dense.bias']\n",
      "- This IS expected if you are initializing RobertaForSequenceClassification from the checkpoint of a model trained on another task or with another architecture (e.g. initializing a BertForSequenceClassification model from a BertForPretraining model).\n",
      "- This IS NOT expected if you are initializing RobertaForSequenceClassification from the checkpoint of a model that you expect to be exactly identical (initializing a BertForSequenceClassification model from a BertForSequenceClassification model).\n",
      "Some weights of RobertaForSequenceClassification were not initialized from the model checkpoint at roberta-base and are newly initialized: ['classifier.dense.weight', 'classifier.dense.bias', 'classifier.out_proj.weight', 'classifier.out_proj.bias']\n",
      "You should probably TRAIN this model on a down-stream task to be able to use it for predictions and inference.\n",
      "(Epoch 1) TRAIN LOSS:0.2457 LR:0.00001000: 100%|██████████| 594/594 [01:35<00:00,  6.21it/s]\n",
      "  0%|          | 0/268 [00:00<?, ?it/s]"
     ]
    },
    {
     "name": "stdout",
     "output_type": "stream",
     "text": [
      "(Epoch 1) TRAIN LOSS:0.2457 ACC:0.8905 F1:0.8898 REC:0.8888 PRE:0.8927 LR:0.00001000\n"
     ]
    },
    {
     "name": "stderr",
     "output_type": "stream",
     "text": [
      "VALID LOSS:0.1126 ACC:0.9575 F1:0.9574 REC:0.9582 PRE:0.9573: 100%|██████████| 268/268 [00:44<00:00,  6.01it/s]\n",
      "  0%|          | 0/594 [00:00<?, ?it/s]"
     ]
    },
    {
     "name": "stdout",
     "output_type": "stream",
     "text": [
      "(Epoch 1) VALID LOSS:0.1126 ACC:0.9575 F1:0.9574 REC:0.9582 PRE:0.9573\n"
     ]
    },
    {
     "name": "stderr",
     "output_type": "stream",
     "text": [
      "(Epoch 2) TRAIN LOSS:0.0700 LR:0.00001000: 100%|██████████| 594/594 [01:34<00:00,  6.26it/s]\n",
      "  0%|          | 0/268 [00:00<?, ?it/s]"
     ]
    },
    {
     "name": "stdout",
     "output_type": "stream",
     "text": [
      "(Epoch 2) TRAIN LOSS:0.0700 ACC:0.9783 F1:0.9783 REC:0.9782 PRE:0.9783 LR:0.00001000\n"
     ]
    },
    {
     "name": "stderr",
     "output_type": "stream",
     "text": [
      "VALID LOSS:0.2876 ACC:0.9299 F1:0.9289 REC:0.9265 PRE:0.9404: 100%|██████████| 268/268 [00:44<00:00,  6.00it/s]\n",
      "  0%|          | 0/594 [00:00<?, ?it/s]"
     ]
    },
    {
     "name": "stdout",
     "output_type": "stream",
     "text": [
      "(Epoch 2) VALID LOSS:0.2876 ACC:0.9299 F1:0.9289 REC:0.9265 PRE:0.9404\n"
     ]
    },
    {
     "name": "stderr",
     "output_type": "stream",
     "text": [
      "(Epoch 3) TRAIN LOSS:0.0189 LR:0.00001000: 100%|██████████| 594/594 [01:34<00:00,  6.27it/s]\n",
      "  0%|          | 0/268 [00:00<?, ?it/s]"
     ]
    },
    {
     "name": "stdout",
     "output_type": "stream",
     "text": [
      "(Epoch 3) TRAIN LOSS:0.0189 ACC:0.9952 F1:0.9951 REC:0.9951 PRE:0.9952 LR:0.00001000\n"
     ]
    },
    {
     "name": "stderr",
     "output_type": "stream",
     "text": [
      "VALID LOSS:0.1004 ACC:0.9719 F1:0.9719 REC:0.9723 PRE:0.9717: 100%|██████████| 268/268 [00:44<00:00,  6.04it/s]\n",
      "  0%|          | 0/594 [00:00<?, ?it/s]"
     ]
    },
    {
     "name": "stdout",
     "output_type": "stream",
     "text": [
      "(Epoch 3) VALID LOSS:0.1004 ACC:0.9719 F1:0.9719 REC:0.9723 PRE:0.9717\n"
     ]
    },
    {
     "name": "stderr",
     "output_type": "stream",
     "text": [
      "(Epoch 4) TRAIN LOSS:0.0137 LR:0.00001000: 100%|██████████| 594/594 [01:34<00:00,  6.27it/s]\n",
      "  0%|          | 0/268 [00:00<?, ?it/s]"
     ]
    },
    {
     "name": "stdout",
     "output_type": "stream",
     "text": [
      "(Epoch 4) TRAIN LOSS:0.0137 ACC:0.9945 F1:0.9945 REC:0.9945 PRE:0.9945 LR:0.00001000\n"
     ]
    },
    {
     "name": "stderr",
     "output_type": "stream",
     "text": [
      "VALID LOSS:0.1029 ACC:0.9729 F1:0.9728 REC:0.9726 PRE:0.9731: 100%|██████████| 268/268 [00:44<00:00,  6.03it/s]\n",
      "  0%|          | 0/594 [00:00<?, ?it/s]"
     ]
    },
    {
     "name": "stdout",
     "output_type": "stream",
     "text": [
      "(Epoch 4) VALID LOSS:0.1029 ACC:0.9729 F1:0.9728 REC:0.9726 PRE:0.9731\n"
     ]
    },
    {
     "name": "stderr",
     "output_type": "stream",
     "text": [
      "(Epoch 5) TRAIN LOSS:0.0042 LR:0.00001000: 100%|██████████| 594/594 [01:34<00:00,  6.27it/s]\n",
      "  0%|          | 0/268 [00:00<?, ?it/s]"
     ]
    },
    {
     "name": "stdout",
     "output_type": "stream",
     "text": [
      "(Epoch 5) TRAIN LOSS:0.0042 ACC:0.9992 F1:0.9992 REC:0.9992 PRE:0.9992 LR:0.00001000\n"
     ]
    },
    {
     "name": "stderr",
     "output_type": "stream",
     "text": [
      "VALID LOSS:0.1281 ACC:0.9748 F1:0.9747 REC:0.9743 PRE:0.9751: 100%|██████████| 268/268 [00:44<00:00,  6.02it/s]\n",
      "  0%|          | 0/594 [00:00<?, ?it/s]"
     ]
    },
    {
     "name": "stdout",
     "output_type": "stream",
     "text": [
      "(Epoch 5) VALID LOSS:0.1281 ACC:0.9748 F1:0.9747 REC:0.9743 PRE:0.9751\n"
     ]
    },
    {
     "name": "stderr",
     "output_type": "stream",
     "text": [
      "(Epoch 6) TRAIN LOSS:0.0141 LR:0.00001000: 100%|██████████| 594/594 [01:34<00:00,  6.25it/s]\n",
      "  0%|          | 0/268 [00:00<?, ?it/s]"
     ]
    },
    {
     "name": "stdout",
     "output_type": "stream",
     "text": [
      "(Epoch 6) TRAIN LOSS:0.0141 ACC:0.9960 F1:0.9960 REC:0.9960 PRE:0.9960 LR:0.00001000\n"
     ]
    },
    {
     "name": "stderr",
     "output_type": "stream",
     "text": [
      "VALID LOSS:0.1096 ACC:0.9762 F1:0.9761 REC:0.9760 PRE:0.9762: 100%|██████████| 268/268 [00:44<00:00,  5.97it/s]\n",
      "  0%|          | 0/594 [00:00<?, ?it/s]"
     ]
    },
    {
     "name": "stdout",
     "output_type": "stream",
     "text": [
      "(Epoch 6) VALID LOSS:0.1096 ACC:0.9762 F1:0.9761 REC:0.9760 PRE:0.9762\n"
     ]
    },
    {
     "name": "stderr",
     "output_type": "stream",
     "text": [
      "(Epoch 7) TRAIN LOSS:0.0051 LR:0.00001000: 100%|██████████| 594/594 [01:35<00:00,  6.23it/s]\n",
      "  0%|          | 0/268 [00:00<?, ?it/s]"
     ]
    },
    {
     "name": "stdout",
     "output_type": "stream",
     "text": [
      "(Epoch 7) TRAIN LOSS:0.0051 ACC:0.9983 F1:0.9983 REC:0.9983 PRE:0.9983 LR:0.00001000\n"
     ]
    },
    {
     "name": "stderr",
     "output_type": "stream",
     "text": [
      "VALID LOSS:0.1085 ACC:0.9771 F1:0.9770 REC:0.9767 PRE:0.9775: 100%|██████████| 268/268 [00:43<00:00,  6.12it/s]\n",
      "  0%|          | 0/594 [00:00<?, ?it/s]"
     ]
    },
    {
     "name": "stdout",
     "output_type": "stream",
     "text": [
      "(Epoch 7) VALID LOSS:0.1085 ACC:0.9771 F1:0.9770 REC:0.9767 PRE:0.9775\n"
     ]
    },
    {
     "name": "stderr",
     "output_type": "stream",
     "text": [
      "(Epoch 8) TRAIN LOSS:0.0002 LR:0.00001000: 100%|██████████| 594/594 [01:34<00:00,  6.30it/s]\n",
      "  0%|          | 0/268 [00:00<?, ?it/s]"
     ]
    },
    {
     "name": "stdout",
     "output_type": "stream",
     "text": [
      "(Epoch 8) TRAIN LOSS:0.0002 ACC:1.0000 F1:1.0000 REC:1.0000 PRE:1.0000 LR:0.00001000\n"
     ]
    },
    {
     "name": "stderr",
     "output_type": "stream",
     "text": [
      "VALID LOSS:0.1474 ACC:0.9762 F1:0.9761 REC:0.9754 PRE:0.9772: 100%|██████████| 268/268 [00:43<00:00,  6.20it/s]\n",
      "  0%|          | 0/594 [00:00<?, ?it/s]"
     ]
    },
    {
     "name": "stdout",
     "output_type": "stream",
     "text": [
      "(Epoch 8) VALID LOSS:0.1474 ACC:0.9762 F1:0.9761 REC:0.9754 PRE:0.9772\n"
     ]
    },
    {
     "name": "stderr",
     "output_type": "stream",
     "text": [
      "(Epoch 9) TRAIN LOSS:0.0001 LR:0.00001000: 100%|██████████| 594/594 [01:34<00:00,  6.31it/s]\n",
      "  0%|          | 0/268 [00:00<?, ?it/s]"
     ]
    },
    {
     "name": "stdout",
     "output_type": "stream",
     "text": [
      "(Epoch 9) TRAIN LOSS:0.0001 ACC:1.0000 F1:1.0000 REC:1.0000 PRE:1.0000 LR:0.00001000\n"
     ]
    },
    {
     "name": "stderr",
     "output_type": "stream",
     "text": [
      "VALID LOSS:0.1505 ACC:0.9776 F1:0.9775 REC:0.9769 PRE:0.9784: 100%|██████████| 268/268 [00:43<00:00,  6.19it/s]\n",
      "  0%|          | 0/594 [00:00<?, ?it/s]"
     ]
    },
    {
     "name": "stdout",
     "output_type": "stream",
     "text": [
      "(Epoch 9) VALID LOSS:0.1505 ACC:0.9776 F1:0.9775 REC:0.9769 PRE:0.9784\n"
     ]
    },
    {
     "name": "stderr",
     "output_type": "stream",
     "text": [
      "(Epoch 10) TRAIN LOSS:0.0000 LR:0.00001000: 100%|██████████| 594/594 [01:33<00:00,  6.34it/s]\n",
      "  0%|          | 0/268 [00:00<?, ?it/s]"
     ]
    },
    {
     "name": "stdout",
     "output_type": "stream",
     "text": [
      "(Epoch 10) TRAIN LOSS:0.0000 ACC:1.0000 F1:1.0000 REC:1.0000 PRE:1.0000 LR:0.00001000\n"
     ]
    },
    {
     "name": "stderr",
     "output_type": "stream",
     "text": [
      "VALID LOSS:0.1559 ACC:0.9776 F1:0.9775 REC:0.9769 PRE:0.9784: 100%|██████████| 268/268 [00:42<00:00,  6.35it/s]\n"
     ]
    },
    {
     "name": "stdout",
     "output_type": "stream",
     "text": [
      "(Epoch 10) VALID LOSS:0.1559 ACC:0.9776 F1:0.9775 REC:0.9769 PRE:0.9784\n",
      "Evaluation with 25.0% cleansing (remove 1574 samples) ACC:0.9776 F1:0.9775 REC:0.9769 PRE:0.9784\n",
      "== Retraining with 50.0% cleansing (remove 3149 samples) ==\n"
     ]
    },
    {
     "name": "stderr",
     "output_type": "stream",
     "text": [
      "Some weights of the model checkpoint at roberta-base were not used when initializing RobertaForSequenceClassification: ['lm_head.bias', 'lm_head.dense.weight', 'lm_head.dense.bias', 'lm_head.layer_norm.weight', 'lm_head.layer_norm.bias', 'lm_head.decoder.weight', 'roberta.pooler.dense.weight', 'roberta.pooler.dense.bias']\n",
      "- This IS expected if you are initializing RobertaForSequenceClassification from the checkpoint of a model trained on another task or with another architecture (e.g. initializing a BertForSequenceClassification model from a BertForPretraining model).\n",
      "- This IS NOT expected if you are initializing RobertaForSequenceClassification from the checkpoint of a model that you expect to be exactly identical (initializing a BertForSequenceClassification model from a BertForSequenceClassification model).\n",
      "Some weights of RobertaForSequenceClassification were not initialized from the model checkpoint at roberta-base and are newly initialized: ['classifier.dense.weight', 'classifier.dense.bias', 'classifier.out_proj.weight', 'classifier.out_proj.bias']\n",
      "You should probably TRAIN this model on a down-stream task to be able to use it for predictions and inference.\n",
      "(Epoch 1) TRAIN LOSS:0.6236 LR:0.00001000:  21%|██        | 83/402 [00:39<00:31, 10.08it/s] "
     ]
    }
   ],
   "source": [
    "stat_results = {}\n",
    "for percentage in [0.01, 0.02, 0.05, 0.10, 0.25, 0.50, 0.75, 0.90, 0.95, 0.98, 0.99]:\n",
    "    filt_indices = index_percent_list[f'{percentage:.2f}']\n",
    "    print(f'== Retraining with {percentage * 100}% cleansing (remove {len(filt_indices)} samples) ==')\n",
    "    \n",
    "    # Set random seed\n",
    "    set_seed(26092020)\n",
    "    \n",
    "    # Load Tokenizer and Config\n",
    "    tokenizer = AutoTokenizer.from_pretrained('roberta-base')\n",
    "    config = AutoConfig.from_pretrained('roberta-base')\n",
    "    config.num_labels = FakeNewsDataset.NUM_LABELS\n",
    "\n",
    "    # Instantiate model\n",
    "    model = AutoModelForSequenceClassification.from_pretrained('roberta-base', config=config)\n",
    "    \n",
    "    # Data Loader\n",
    "    filt_train_loader = get_filtered_dataloader(train_loader, filt_indices, inclusive=False, batch_size=8, shuffle=True)\n",
    "    \n",
    "    # Prepare for training\n",
    "    optimizer = optim.Adam(model.parameters(), lr=1e-5)\n",
    "    model = model.cuda()\n",
    "    \n",
    "    # Train\n",
    "    n_epochs = 10\n",
    "    best_val_metric, best_metrics, best_state_dict = 0, None, None\n",
    "    early_stop, count_stop = 3, 0\n",
    "    for epoch in range(n_epochs):\n",
    "        model.train()\n",
    "        torch.set_grad_enabled(True)\n",
    "\n",
    "        total_train_loss = 0\n",
    "        list_hyp, list_label = [], []\n",
    "\n",
    "        train_pbar = tqdm(filt_train_loader, leave=True, total=len(filt_train_loader))\n",
    "        for i, batch_data in enumerate(train_pbar):\n",
    "            # Forward model\n",
    "            outputs = forward_mask_sequence_classification(model, batch_data[:-1], i2w=i2w, apply_mask=True, device='cuda')\n",
    "            loss, batch_hyp, batch_label, logits, label_batch = outputs\n",
    "\n",
    "            # Update model\n",
    "            optimizer.zero_grad()\n",
    "            loss.backward()\n",
    "            optimizer.step()\n",
    "\n",
    "            tr_loss = loss.item()\n",
    "            total_train_loss = total_train_loss + tr_loss\n",
    "\n",
    "            # Calculate metrics\n",
    "            list_hyp += batch_hyp\n",
    "            list_label += batch_label\n",
    "\n",
    "            train_pbar.set_description(\"(Epoch {}) TRAIN LOSS:{:.4f} LR:{:.8f}\".format((epoch+1),\n",
    "                total_train_loss/(i+1), get_lr(optimizer)))\n",
    "\n",
    "        # Calculate train metric\n",
    "        metrics = classification_metrics_fn(list_hyp, list_label)\n",
    "        print(\"(Epoch {}) TRAIN LOSS:{:.4f} {} LR:{:.8f}\".format((epoch+1),\n",
    "            total_train_loss/(i+1), metrics_to_string(metrics), get_lr(optimizer)))\n",
    "        \n",
    "        # Evaluate on validation\n",
    "        model.eval()\n",
    "        torch.set_grad_enabled(False)\n",
    "\n",
    "        total_loss, total_correct, total_labels = 0, 0, 0\n",
    "        list_hyp, list_label = [], []\n",
    "\n",
    "        pbar = tqdm(valid_loader, leave=True, total=len(valid_loader))\n",
    "        for i, batch_data in enumerate(pbar):\n",
    "            batch_seq = batch_data[-1]        \n",
    "            outputs = forward_mask_sequence_classification(model, batch_data[:-1], i2w=i2w, apply_mask=True, device='cuda')\n",
    "            loss, batch_hyp, batch_label, logits, label_batch = outputs\n",
    "\n",
    "            # Calculate total loss\n",
    "            valid_loss = loss.item()\n",
    "            total_loss = total_loss + valid_loss\n",
    "\n",
    "            # Calculate evaluation metrics\n",
    "            list_hyp += batch_hyp\n",
    "            list_label += batch_label\n",
    "            metrics = classification_metrics_fn(list_hyp, list_label)\n",
    "\n",
    "            pbar.set_description(\"VALID LOSS:{:.4f} {}\".format(total_loss/(i+1), metrics_to_string(metrics)))\n",
    "\n",
    "        metrics = classification_metrics_fn(list_hyp, list_label)\n",
    "        print(\"(Epoch {}) VALID LOSS:{:.4f} {}\".format((epoch+1),\n",
    "            total_loss/(i+1), metrics_to_string(metrics)))\n",
    "\n",
    "        # Early stopping\n",
    "        val_metric = metrics['F1']\n",
    "        if best_val_metric <= val_metric:\n",
    "            best_state_dict = model.state_dict().copy()\n",
    "            best_val_metric = val_metric\n",
    "            best_metrics = metrics\n",
    "            count_stop = 0\n",
    "        else:\n",
    "            count_stop += 1\n",
    "            if count_stop == early_stop:\n",
    "                break\n",
    "    # Store best result\n",
    "    print(f'Evaluation with {percentage * 100}% cleansing (remove {len(filt_indices)} samples) {metrics_to_string(best_metrics)}')\n",
    "    stat_results[percentage] = best_metrics\n",
    "                \n",
    "    # Save best model\n",
    "    for k, v in best_state_dict.items():\n",
    "        best_state_dict[k] = v.cpu()\n",
    "    torch.save(best_state_dict, f'./tmp/model_weight_c{percentage}.pt')\n",
    "\n",
    "for p, metrics in stat_result.item():\n",
    "    print(f'{p * 100}% cleansing (remove {len(filt_indices)} samples) | {metrics_to_string(best_metrics)}')"
   ]
  },
  {
   "cell_type": "code",
   "execution_count": 18,
   "metadata": {},
   "outputs": [
    {
     "name": "stdout",
     "output_type": "stream",
     "text": [
      "== Retraining with 1.0% cleansing (remove 62 samples) ==\n"
     ]
    },
    {
     "name": "stderr",
     "output_type": "stream",
     "text": [
      "Some weights of the model checkpoint at roberta-base were not used when initializing RobertaForSequenceClassification: ['lm_head.bias', 'lm_head.dense.weight', 'lm_head.dense.bias', 'lm_head.layer_norm.weight', 'lm_head.layer_norm.bias', 'lm_head.decoder.weight', 'roberta.pooler.dense.weight', 'roberta.pooler.dense.bias']\n",
      "- This IS expected if you are initializing RobertaForSequenceClassification from the checkpoint of a model trained on another task or with another architecture (e.g. initializing a BertForSequenceClassification model from a BertForPretraining model).\n",
      "- This IS NOT expected if you are initializing RobertaForSequenceClassification from the checkpoint of a model that you expect to be exactly identical (initializing a BertForSequenceClassification model from a BertForSequenceClassification model).\n",
      "Some weights of RobertaForSequenceClassification were not initialized from the model checkpoint at roberta-base and are newly initialized: ['classifier.dense.weight', 'classifier.dense.bias', 'classifier.out_proj.weight', 'classifier.out_proj.bias']\n",
      "You should probably TRAIN this model on a down-stream task to be able to use it for predictions and inference.\n",
      "(Epoch 1) TRAIN LOSS:0.2110 LR:0.00001000: 100%|██████████| 780/780 [01:54<00:00,  6.82it/s] \n",
      "  0%|          | 0/268 [00:00<?, ?it/s]"
     ]
    },
    {
     "name": "stdout",
     "output_type": "stream",
     "text": [
      "(Epoch 1) TRAIN LOSS:0.2110 ACC:0.9050 F1:0.9045 REC:0.9035 PRE:0.9066 LR:0.00001000\n"
     ]
    },
    {
     "name": "stderr",
     "output_type": "stream",
     "text": [
      "VALID LOSS:0.1023 ACC:0.9631 F1:0.9629 REC:0.9622 PRE:0.9642: 100%|██████████| 268/268 [00:45<00:00,  5.94it/s]\n",
      "  0%|          | 0/780 [00:00<?, ?it/s]"
     ]
    },
    {
     "name": "stdout",
     "output_type": "stream",
     "text": [
      "(Epoch 1) VALID LOSS:0.1023 ACC:0.9631 F1:0.9629 REC:0.9622 PRE:0.9642\n"
     ]
    },
    {
     "name": "stderr",
     "output_type": "stream",
     "text": [
      "(Epoch 2) TRAIN LOSS:0.0652 LR:0.00001000: 100%|██████████| 780/780 [01:53<00:00,  6.85it/s]\n",
      "  0%|          | 0/268 [00:00<?, ?it/s]"
     ]
    },
    {
     "name": "stdout",
     "output_type": "stream",
     "text": [
      "(Epoch 2) TRAIN LOSS:0.0652 ACC:0.9766 F1:0.9765 REC:0.9765 PRE:0.9766 LR:0.00001000\n"
     ]
    },
    {
     "name": "stderr",
     "output_type": "stream",
     "text": [
      "VALID LOSS:0.1163 ACC:0.9617 F1:0.9614 REC:0.9602 PRE:0.9645: 100%|██████████| 268/268 [00:43<00:00,  6.10it/s]\n",
      "  0%|          | 0/780 [00:00<?, ?it/s]"
     ]
    },
    {
     "name": "stdout",
     "output_type": "stream",
     "text": [
      "(Epoch 2) VALID LOSS:0.1163 ACC:0.9617 F1:0.9614 REC:0.9602 PRE:0.9645\n"
     ]
    },
    {
     "name": "stderr",
     "output_type": "stream",
     "text": [
      "(Epoch 3) TRAIN LOSS:0.0212 LR:0.00001000: 100%|██████████| 780/780 [01:54<00:00,  6.82it/s]\n",
      "  0%|          | 0/268 [00:00<?, ?it/s]"
     ]
    },
    {
     "name": "stdout",
     "output_type": "stream",
     "text": [
      "(Epoch 3) TRAIN LOSS:0.0212 ACC:0.9936 F1:0.9936 REC:0.9936 PRE:0.9936 LR:0.00001000\n"
     ]
    },
    {
     "name": "stderr",
     "output_type": "stream",
     "text": [
      "VALID LOSS:0.0829 ACC:0.9771 F1:0.9770 REC:0.9772 PRE:0.9769: 100%|██████████| 268/268 [00:45<00:00,  5.91it/s]\n",
      "  0%|          | 0/780 [00:00<?, ?it/s]"
     ]
    },
    {
     "name": "stdout",
     "output_type": "stream",
     "text": [
      "(Epoch 3) VALID LOSS:0.0829 ACC:0.9771 F1:0.9770 REC:0.9772 PRE:0.9769\n"
     ]
    },
    {
     "name": "stderr",
     "output_type": "stream",
     "text": [
      "(Epoch 4) TRAIN LOSS:0.0085 LR:0.00001000: 100%|██████████| 780/780 [01:54<00:00,  6.81it/s]\n",
      "  0%|          | 0/268 [00:00<?, ?it/s]"
     ]
    },
    {
     "name": "stdout",
     "output_type": "stream",
     "text": [
      "(Epoch 4) TRAIN LOSS:0.0085 ACC:0.9979 F1:0.9979 REC:0.9979 PRE:0.9979 LR:0.00001000\n"
     ]
    },
    {
     "name": "stderr",
     "output_type": "stream",
     "text": [
      "VALID LOSS:0.3117 ACC:0.9233 F1:0.9233 REC:0.9267 PRE:0.9303: 100%|██████████| 268/268 [00:44<00:00,  6.07it/s]\n",
      "  0%|          | 0/780 [00:00<?, ?it/s]"
     ]
    },
    {
     "name": "stdout",
     "output_type": "stream",
     "text": [
      "(Epoch 4) VALID LOSS:0.3117 ACC:0.9233 F1:0.9233 REC:0.9267 PRE:0.9303\n"
     ]
    },
    {
     "name": "stderr",
     "output_type": "stream",
     "text": [
      "(Epoch 5) TRAIN LOSS:0.0130 LR:0.00001000: 100%|██████████| 780/780 [01:54<00:00,  6.80it/s]\n",
      "  0%|          | 0/268 [00:00<?, ?it/s]"
     ]
    },
    {
     "name": "stdout",
     "output_type": "stream",
     "text": [
      "(Epoch 5) TRAIN LOSS:0.0130 ACC:0.9962 F1:0.9961 REC:0.9961 PRE:0.9962 LR:0.00001000\n"
     ]
    },
    {
     "name": "stderr",
     "output_type": "stream",
     "text": [
      "VALID LOSS:0.0850 ACC:0.9771 F1:0.9770 REC:0.9768 PRE:0.9773: 100%|██████████| 268/268 [00:45<00:00,  5.95it/s]\n",
      "  0%|          | 0/780 [00:00<?, ?it/s]"
     ]
    },
    {
     "name": "stdout",
     "output_type": "stream",
     "text": [
      "(Epoch 5) VALID LOSS:0.0850 ACC:0.9771 F1:0.9770 REC:0.9768 PRE:0.9773\n"
     ]
    },
    {
     "name": "stderr",
     "output_type": "stream",
     "text": [
      "(Epoch 6) TRAIN LOSS:0.0021 LR:0.00001000: 100%|██████████| 780/780 [01:54<00:00,  6.83it/s]\n",
      "  0%|          | 0/268 [00:00<?, ?it/s]"
     ]
    },
    {
     "name": "stdout",
     "output_type": "stream",
     "text": [
      "(Epoch 6) TRAIN LOSS:0.0021 ACC:0.9995 F1:0.9995 REC:0.9995 PRE:0.9995 LR:0.00001000\n"
     ]
    },
    {
     "name": "stderr",
     "output_type": "stream",
     "text": [
      "VALID LOSS:0.1274 ACC:0.9780 F1:0.9780 REC:0.9775 PRE:0.9786: 100%|██████████| 268/268 [00:44<00:00,  5.96it/s]\n",
      "  0%|          | 0/780 [00:00<?, ?it/s]"
     ]
    },
    {
     "name": "stdout",
     "output_type": "stream",
     "text": [
      "(Epoch 6) VALID LOSS:0.1274 ACC:0.9780 F1:0.9780 REC:0.9775 PRE:0.9786\n"
     ]
    },
    {
     "name": "stderr",
     "output_type": "stream",
     "text": [
      "(Epoch 7) TRAIN LOSS:0.0066 LR:0.00001000: 100%|██████████| 780/780 [01:54<00:00,  6.78it/s]\n",
      "  0%|          | 0/268 [00:00<?, ?it/s]"
     ]
    },
    {
     "name": "stdout",
     "output_type": "stream",
     "text": [
      "(Epoch 7) TRAIN LOSS:0.0066 ACC:0.9987 F1:0.9987 REC:0.9987 PRE:0.9987 LR:0.00001000\n"
     ]
    },
    {
     "name": "stderr",
     "output_type": "stream",
     "text": [
      "VALID LOSS:0.1037 ACC:0.9794 F1:0.9794 REC:0.9792 PRE:0.9796: 100%|██████████| 268/268 [00:45<00:00,  5.89it/s]\n",
      "  0%|          | 0/780 [00:00<?, ?it/s]"
     ]
    },
    {
     "name": "stdout",
     "output_type": "stream",
     "text": [
      "(Epoch 7) VALID LOSS:0.1037 ACC:0.9794 F1:0.9794 REC:0.9792 PRE:0.9796\n"
     ]
    },
    {
     "name": "stderr",
     "output_type": "stream",
     "text": [
      "(Epoch 8) TRAIN LOSS:0.0148 LR:0.00001000: 100%|██████████| 780/780 [01:53<00:00,  6.85it/s]\n",
      "  0%|          | 0/268 [00:00<?, ?it/s]"
     ]
    },
    {
     "name": "stdout",
     "output_type": "stream",
     "text": [
      "(Epoch 8) TRAIN LOSS:0.0148 ACC:0.9958 F1:0.9958 REC:0.9958 PRE:0.9958 LR:0.00001000\n"
     ]
    },
    {
     "name": "stderr",
     "output_type": "stream",
     "text": [
      "VALID LOSS:0.1011 ACC:0.9752 F1:0.9751 REC:0.9747 PRE:0.9758: 100%|██████████| 268/268 [00:45<00:00,  5.93it/s]\n",
      "  0%|          | 0/780 [00:00<?, ?it/s]"
     ]
    },
    {
     "name": "stdout",
     "output_type": "stream",
     "text": [
      "(Epoch 8) VALID LOSS:0.1011 ACC:0.9752 F1:0.9751 REC:0.9747 PRE:0.9758\n"
     ]
    },
    {
     "name": "stderr",
     "output_type": "stream",
     "text": [
      "(Epoch 9) TRAIN LOSS:0.0100 LR:0.00001000: 100%|██████████| 780/780 [01:54<00:00,  6.80it/s]\n",
      "  0%|          | 0/268 [00:00<?, ?it/s]"
     ]
    },
    {
     "name": "stdout",
     "output_type": "stream",
     "text": [
      "(Epoch 9) TRAIN LOSS:0.0100 ACC:0.9973 F1:0.9973 REC:0.9973 PRE:0.9973 LR:0.00001000\n"
     ]
    },
    {
     "name": "stderr",
     "output_type": "stream",
     "text": [
      "VALID LOSS:0.1074 ACC:0.9785 F1:0.9784 REC:0.9782 PRE:0.9787: 100%|██████████| 268/268 [00:44<00:00,  5.97it/s]\n",
      "  0%|          | 0/780 [00:00<?, ?it/s]"
     ]
    },
    {
     "name": "stdout",
     "output_type": "stream",
     "text": [
      "(Epoch 9) VALID LOSS:0.1074 ACC:0.9785 F1:0.9784 REC:0.9782 PRE:0.9787\n"
     ]
    },
    {
     "name": "stderr",
     "output_type": "stream",
     "text": [
      "(Epoch 10) TRAIN LOSS:0.0029 LR:0.00001000: 100%|██████████| 780/780 [01:54<00:00,  6.82it/s]\n",
      "  0%|          | 0/268 [00:00<?, ?it/s]"
     ]
    },
    {
     "name": "stdout",
     "output_type": "stream",
     "text": [
      "(Epoch 10) TRAIN LOSS:0.0029 ACC:0.9994 F1:0.9994 REC:0.9994 PRE:0.9994 LR:0.00001000\n"
     ]
    },
    {
     "name": "stderr",
     "output_type": "stream",
     "text": [
      "VALID LOSS:0.1260 ACC:0.9799 F1:0.9798 REC:0.9794 PRE:0.9804: 100%|██████████| 268/268 [00:44<00:00,  6.04it/s]\n"
     ]
    },
    {
     "name": "stdout",
     "output_type": "stream",
     "text": [
      "(Epoch 10) VALID LOSS:0.1260 ACC:0.9799 F1:0.9798 REC:0.9794 PRE:0.9804\n",
      "Evaluation with 1.0% cleansing (remove 62 samples) ACC:0.9799 F1:0.9798 REC:0.9794 PRE:0.9804\n",
      "== Retraining with 2.0% cleansing (remove 125 samples) ==\n"
     ]
    },
    {
     "name": "stderr",
     "output_type": "stream",
     "text": [
      "Some weights of the model checkpoint at roberta-base were not used when initializing RobertaForSequenceClassification: ['lm_head.bias', 'lm_head.dense.weight', 'lm_head.dense.bias', 'lm_head.layer_norm.weight', 'lm_head.layer_norm.bias', 'lm_head.decoder.weight', 'roberta.pooler.dense.weight', 'roberta.pooler.dense.bias']\n",
      "- This IS expected if you are initializing RobertaForSequenceClassification from the checkpoint of a model trained on another task or with another architecture (e.g. initializing a BertForSequenceClassification model from a BertForPretraining model).\n",
      "- This IS NOT expected if you are initializing RobertaForSequenceClassification from the checkpoint of a model that you expect to be exactly identical (initializing a BertForSequenceClassification model from a BertForSequenceClassification model).\n",
      "Some weights of RobertaForSequenceClassification were not initialized from the model checkpoint at roberta-base and are newly initialized: ['classifier.dense.weight', 'classifier.dense.bias', 'classifier.out_proj.weight', 'classifier.out_proj.bias']\n",
      "You should probably TRAIN this model on a down-stream task to be able to use it for predictions and inference.\n",
      "(Epoch 1) TRAIN LOSS:0.2129 LR:0.00001000: 100%|██████████| 773/773 [01:54<00:00,  6.77it/s]\n",
      "  0%|          | 0/268 [00:00<?, ?it/s]"
     ]
    },
    {
     "name": "stdout",
     "output_type": "stream",
     "text": [
      "(Epoch 1) TRAIN LOSS:0.2129 ACC:0.9050 F1:0.9045 REC:0.9037 PRE:0.9063 LR:0.00001000\n"
     ]
    },
    {
     "name": "stderr",
     "output_type": "stream",
     "text": [
      "VALID LOSS:0.0861 ACC:0.9673 F1:0.9672 REC:0.9667 PRE:0.9678: 100%|██████████| 268/268 [00:44<00:00,  6.04it/s]\n",
      "  0%|          | 0/773 [00:00<?, ?it/s]"
     ]
    },
    {
     "name": "stdout",
     "output_type": "stream",
     "text": [
      "(Epoch 1) VALID LOSS:0.0861 ACC:0.9673 F1:0.9672 REC:0.9667 PRE:0.9678\n"
     ]
    },
    {
     "name": "stderr",
     "output_type": "stream",
     "text": [
      "(Epoch 2) TRAIN LOSS:0.0671 LR:0.00001000: 100%|██████████| 773/773 [01:53<00:00,  6.80it/s] \n",
      "  0%|          | 0/268 [00:00<?, ?it/s]"
     ]
    },
    {
     "name": "stdout",
     "output_type": "stream",
     "text": [
      "(Epoch 2) TRAIN LOSS:0.0671 ACC:0.9760 F1:0.9760 REC:0.9759 PRE:0.9761 LR:0.00001000\n"
     ]
    },
    {
     "name": "stderr",
     "output_type": "stream",
     "text": [
      "VALID LOSS:0.0712 ACC:0.9799 F1:0.9798 REC:0.9795 PRE:0.9803: 100%|██████████| 268/268 [00:45<00:00,  5.93it/s]\n",
      "  0%|          | 0/773 [00:00<?, ?it/s]"
     ]
    },
    {
     "name": "stdout",
     "output_type": "stream",
     "text": [
      "(Epoch 2) VALID LOSS:0.0712 ACC:0.9799 F1:0.9798 REC:0.9795 PRE:0.9803\n"
     ]
    },
    {
     "name": "stderr",
     "output_type": "stream",
     "text": [
      "(Epoch 3) TRAIN LOSS:0.0198 LR:0.00001000: 100%|██████████| 773/773 [01:53<00:00,  6.80it/s] \n",
      "  0%|          | 0/268 [00:00<?, ?it/s]"
     ]
    },
    {
     "name": "stdout",
     "output_type": "stream",
     "text": [
      "(Epoch 3) TRAIN LOSS:0.0198 ACC:0.9935 F1:0.9935 REC:0.9935 PRE:0.9936 LR:0.00001000\n"
     ]
    },
    {
     "name": "stderr",
     "output_type": "stream",
     "text": [
      "VALID LOSS:0.0969 ACC:0.9743 F1:0.9742 REC:0.9738 PRE:0.9748: 100%|██████████| 268/268 [00:45<00:00,  5.86it/s]\n",
      "  0%|          | 0/773 [00:00<?, ?it/s]"
     ]
    },
    {
     "name": "stdout",
     "output_type": "stream",
     "text": [
      "(Epoch 3) VALID LOSS:0.0969 ACC:0.9743 F1:0.9742 REC:0.9738 PRE:0.9748\n"
     ]
    },
    {
     "name": "stderr",
     "output_type": "stream",
     "text": [
      "(Epoch 4) TRAIN LOSS:0.0131 LR:0.00001000: 100%|██████████| 773/773 [01:53<00:00,  6.81it/s] \n",
      "  0%|          | 0/268 [00:00<?, ?it/s]"
     ]
    },
    {
     "name": "stdout",
     "output_type": "stream",
     "text": [
      "(Epoch 4) TRAIN LOSS:0.0131 ACC:0.9953 F1:0.9953 REC:0.9953 PRE:0.9953 LR:0.00001000\n"
     ]
    },
    {
     "name": "stderr",
     "output_type": "stream",
     "text": [
      "VALID LOSS:0.0869 ACC:0.9762 F1:0.9761 REC:0.9756 PRE:0.9769: 100%|██████████| 268/268 [00:44<00:00,  6.00it/s]\n",
      "  0%|          | 0/773 [00:00<?, ?it/s]"
     ]
    },
    {
     "name": "stdout",
     "output_type": "stream",
     "text": [
      "(Epoch 4) VALID LOSS:0.0869 ACC:0.9762 F1:0.9761 REC:0.9756 PRE:0.9769\n"
     ]
    },
    {
     "name": "stderr",
     "output_type": "stream",
     "text": [
      "(Epoch 5) TRAIN LOSS:0.0106 LR:0.00001000: 100%|██████████| 773/773 [01:53<00:00,  6.79it/s] \n",
      "  0%|          | 0/268 [00:00<?, ?it/s]"
     ]
    },
    {
     "name": "stdout",
     "output_type": "stream",
     "text": [
      "(Epoch 5) TRAIN LOSS:0.0106 ACC:0.9972 F1:0.9972 REC:0.9972 PRE:0.9973 LR:0.00001000\n"
     ]
    },
    {
     "name": "stderr",
     "output_type": "stream",
     "text": [
      "VALID LOSS:0.0933 ACC:0.9771 F1:0.9770 REC:0.9768 PRE:0.9774: 100%|██████████| 268/268 [00:44<00:00,  5.97it/s]\n"
     ]
    },
    {
     "name": "stdout",
     "output_type": "stream",
     "text": [
      "(Epoch 5) VALID LOSS:0.0933 ACC:0.9771 F1:0.9770 REC:0.9768 PRE:0.9774\n",
      "Evaluation with 2.0% cleansing (remove 125 samples) ACC:0.9799 F1:0.9798 REC:0.9795 PRE:0.9803\n",
      "== Retraining with 5.0% cleansing (remove 314 samples) ==\n"
     ]
    },
    {
     "name": "stderr",
     "output_type": "stream",
     "text": [
      "Some weights of the model checkpoint at roberta-base were not used when initializing RobertaForSequenceClassification: ['lm_head.bias', 'lm_head.dense.weight', 'lm_head.dense.bias', 'lm_head.layer_norm.weight', 'lm_head.layer_norm.bias', 'lm_head.decoder.weight', 'roberta.pooler.dense.weight', 'roberta.pooler.dense.bias']\n",
      "- This IS expected if you are initializing RobertaForSequenceClassification from the checkpoint of a model trained on another task or with another architecture (e.g. initializing a BertForSequenceClassification model from a BertForPretraining model).\n",
      "- This IS NOT expected if you are initializing RobertaForSequenceClassification from the checkpoint of a model that you expect to be exactly identical (initializing a BertForSequenceClassification model from a BertForSequenceClassification model).\n",
      "Some weights of RobertaForSequenceClassification were not initialized from the model checkpoint at roberta-base and are newly initialized: ['classifier.dense.weight', 'classifier.dense.bias', 'classifier.out_proj.weight', 'classifier.out_proj.bias']\n",
      "You should probably TRAIN this model on a down-stream task to be able to use it for predictions and inference.\n",
      "(Epoch 1) TRAIN LOSS:0.2103 LR:0.00001000: 100%|██████████| 749/749 [01:51<00:00,  6.73it/s]\n",
      "  0%|          | 0/268 [00:00<?, ?it/s]"
     ]
    },
    {
     "name": "stdout",
     "output_type": "stream",
     "text": [
      "(Epoch 1) TRAIN LOSS:0.2103 ACC:0.9097 F1:0.9093 REC:0.9088 PRE:0.9103 LR:0.00001000\n"
     ]
    },
    {
     "name": "stderr",
     "output_type": "stream",
     "text": [
      "VALID LOSS:0.0933 ACC:0.9673 F1:0.9671 REC:0.9661 PRE:0.9693: 100%|██████████| 268/268 [00:44<00:00,  5.97it/s]\n",
      "  0%|          | 0/749 [00:00<?, ?it/s]"
     ]
    },
    {
     "name": "stdout",
     "output_type": "stream",
     "text": [
      "(Epoch 1) VALID LOSS:0.0933 ACC:0.9673 F1:0.9671 REC:0.9661 PRE:0.9693\n"
     ]
    },
    {
     "name": "stderr",
     "output_type": "stream",
     "text": [
      "(Epoch 2) TRAIN LOSS:0.0635 LR:0.00001000: 100%|██████████| 749/749 [01:51<00:00,  6.71it/s] \n",
      "  0%|          | 0/268 [00:00<?, ?it/s]"
     ]
    },
    {
     "name": "stdout",
     "output_type": "stream",
     "text": [
      "(Epoch 2) TRAIN LOSS:0.0635 ACC:0.9783 F1:0.9782 REC:0.9782 PRE:0.9783 LR:0.00001000\n"
     ]
    },
    {
     "name": "stderr",
     "output_type": "stream",
     "text": [
      "VALID LOSS:0.0983 ACC:0.9677 F1:0.9676 REC:0.9664 PRE:0.9703: 100%|██████████| 268/268 [00:44<00:00,  5.97it/s]\n",
      "  0%|          | 0/749 [00:00<?, ?it/s]"
     ]
    },
    {
     "name": "stdout",
     "output_type": "stream",
     "text": [
      "(Epoch 2) VALID LOSS:0.0983 ACC:0.9677 F1:0.9676 REC:0.9664 PRE:0.9703\n"
     ]
    },
    {
     "name": "stderr",
     "output_type": "stream",
     "text": [
      "(Epoch 3) TRAIN LOSS:0.0224 LR:0.00001000: 100%|██████████| 749/749 [01:52<00:00,  6.65it/s]\n",
      "  0%|          | 0/268 [00:00<?, ?it/s]"
     ]
    },
    {
     "name": "stdout",
     "output_type": "stream",
     "text": [
      "(Epoch 3) TRAIN LOSS:0.0224 ACC:0.9918 F1:0.9918 REC:0.9918 PRE:0.9918 LR:0.00001000\n"
     ]
    },
    {
     "name": "stderr",
     "output_type": "stream",
     "text": [
      "VALID LOSS:0.1090 ACC:0.9719 F1:0.9719 REC:0.9715 PRE:0.9723: 100%|██████████| 268/268 [00:44<00:00,  5.99it/s]\n",
      "  0%|          | 0/749 [00:00<?, ?it/s]"
     ]
    },
    {
     "name": "stdout",
     "output_type": "stream",
     "text": [
      "(Epoch 3) VALID LOSS:0.1090 ACC:0.9719 F1:0.9719 REC:0.9715 PRE:0.9723\n"
     ]
    },
    {
     "name": "stderr",
     "output_type": "stream",
     "text": [
      "(Epoch 4) TRAIN LOSS:0.0157 LR:0.00001000: 100%|██████████| 749/749 [01:51<00:00,  6.70it/s]\n",
      "  0%|          | 0/268 [00:00<?, ?it/s]"
     ]
    },
    {
     "name": "stdout",
     "output_type": "stream",
     "text": [
      "(Epoch 4) TRAIN LOSS:0.0157 ACC:0.9947 F1:0.9946 REC:0.9946 PRE:0.9946 LR:0.00001000\n"
     ]
    },
    {
     "name": "stderr",
     "output_type": "stream",
     "text": [
      "VALID LOSS:0.0808 ACC:0.9766 F1:0.9766 REC:0.9768 PRE:0.9764: 100%|██████████| 268/268 [00:44<00:00,  6.08it/s]\n",
      "  0%|          | 0/749 [00:00<?, ?it/s]"
     ]
    },
    {
     "name": "stdout",
     "output_type": "stream",
     "text": [
      "(Epoch 4) VALID LOSS:0.0808 ACC:0.9766 F1:0.9766 REC:0.9768 PRE:0.9764\n"
     ]
    },
    {
     "name": "stderr",
     "output_type": "stream",
     "text": [
      "(Epoch 5) TRAIN LOSS:0.0045 LR:0.00001000: 100%|██████████| 749/749 [01:51<00:00,  6.69it/s]\n",
      "  0%|          | 0/268 [00:00<?, ?it/s]"
     ]
    },
    {
     "name": "stdout",
     "output_type": "stream",
     "text": [
      "(Epoch 5) TRAIN LOSS:0.0045 ACC:0.9987 F1:0.9987 REC:0.9987 PRE:0.9987 LR:0.00001000\n"
     ]
    },
    {
     "name": "stderr",
     "output_type": "stream",
     "text": [
      "VALID LOSS:0.1108 ACC:0.9780 F1:0.9780 REC:0.9775 PRE:0.9787: 100%|██████████| 268/268 [00:44<00:00,  6.09it/s]\n",
      "  0%|          | 0/749 [00:00<?, ?it/s]"
     ]
    },
    {
     "name": "stdout",
     "output_type": "stream",
     "text": [
      "(Epoch 5) VALID LOSS:0.1108 ACC:0.9780 F1:0.9780 REC:0.9775 PRE:0.9787\n"
     ]
    },
    {
     "name": "stderr",
     "output_type": "stream",
     "text": [
      "(Epoch 6) TRAIN LOSS:0.0004 LR:0.00001000: 100%|██████████| 749/749 [01:51<00:00,  6.71it/s]\n",
      "  0%|          | 0/268 [00:00<?, ?it/s]"
     ]
    },
    {
     "name": "stdout",
     "output_type": "stream",
     "text": [
      "(Epoch 6) TRAIN LOSS:0.0004 ACC:1.0000 F1:1.0000 REC:1.0000 PRE:1.0000 LR:0.00001000\n"
     ]
    },
    {
     "name": "stderr",
     "output_type": "stream",
     "text": [
      "VALID LOSS:0.1363 ACC:0.9785 F1:0.9784 REC:0.9779 PRE:0.9793: 100%|██████████| 268/268 [00:44<00:00,  6.00it/s]\n",
      "  0%|          | 0/749 [00:00<?, ?it/s]"
     ]
    },
    {
     "name": "stdout",
     "output_type": "stream",
     "text": [
      "(Epoch 6) VALID LOSS:0.1363 ACC:0.9785 F1:0.9784 REC:0.9779 PRE:0.9793\n"
     ]
    },
    {
     "name": "stderr",
     "output_type": "stream",
     "text": [
      "(Epoch 7) TRAIN LOSS:0.0001 LR:0.00001000: 100%|██████████| 749/749 [01:51<00:00,  6.74it/s]\n",
      "  0%|          | 0/268 [00:00<?, ?it/s]"
     ]
    },
    {
     "name": "stdout",
     "output_type": "stream",
     "text": [
      "(Epoch 7) TRAIN LOSS:0.0001 ACC:1.0000 F1:1.0000 REC:1.0000 PRE:1.0000 LR:0.00001000\n"
     ]
    },
    {
     "name": "stderr",
     "output_type": "stream",
     "text": [
      "VALID LOSS:0.1449 ACC:0.9790 F1:0.9789 REC:0.9784 PRE:0.9796: 100%|██████████| 268/268 [00:44<00:00,  6.01it/s]\n",
      "  0%|          | 0/749 [00:00<?, ?it/s]"
     ]
    },
    {
     "name": "stdout",
     "output_type": "stream",
     "text": [
      "(Epoch 7) VALID LOSS:0.1449 ACC:0.9790 F1:0.9789 REC:0.9784 PRE:0.9796\n"
     ]
    },
    {
     "name": "stderr",
     "output_type": "stream",
     "text": [
      "(Epoch 8) TRAIN LOSS:0.0000 LR:0.00001000: 100%|██████████| 749/749 [01:51<00:00,  6.69it/s]\n",
      "  0%|          | 0/268 [00:00<?, ?it/s]"
     ]
    },
    {
     "name": "stdout",
     "output_type": "stream",
     "text": [
      "(Epoch 8) TRAIN LOSS:0.0000 ACC:1.0000 F1:1.0000 REC:1.0000 PRE:1.0000 LR:0.00001000\n"
     ]
    },
    {
     "name": "stderr",
     "output_type": "stream",
     "text": [
      "VALID LOSS:0.1543 ACC:0.9785 F1:0.9784 REC:0.9779 PRE:0.9792: 100%|██████████| 268/268 [00:44<00:00,  6.02it/s]\n",
      "  0%|          | 0/749 [00:00<?, ?it/s]"
     ]
    },
    {
     "name": "stdout",
     "output_type": "stream",
     "text": [
      "(Epoch 8) VALID LOSS:0.1543 ACC:0.9785 F1:0.9784 REC:0.9779 PRE:0.9792\n"
     ]
    },
    {
     "name": "stderr",
     "output_type": "stream",
     "text": [
      "(Epoch 9) TRAIN LOSS:0.0000 LR:0.00001000: 100%|██████████| 749/749 [01:51<00:00,  6.73it/s]\n",
      "  0%|          | 0/268 [00:00<?, ?it/s]"
     ]
    },
    {
     "name": "stdout",
     "output_type": "stream",
     "text": [
      "(Epoch 9) TRAIN LOSS:0.0000 ACC:1.0000 F1:1.0000 REC:1.0000 PRE:1.0000 LR:0.00001000\n"
     ]
    },
    {
     "name": "stderr",
     "output_type": "stream",
     "text": [
      "VALID LOSS:0.1628 ACC:0.9776 F1:0.9775 REC:0.9769 PRE:0.9783: 100%|██████████| 268/268 [00:44<00:00,  5.99it/s]\n",
      "  0%|          | 0/749 [00:00<?, ?it/s]"
     ]
    },
    {
     "name": "stdout",
     "output_type": "stream",
     "text": [
      "(Epoch 9) VALID LOSS:0.1628 ACC:0.9776 F1:0.9775 REC:0.9769 PRE:0.9783\n"
     ]
    },
    {
     "name": "stderr",
     "output_type": "stream",
     "text": [
      "(Epoch 10) TRAIN LOSS:0.0000 LR:0.00001000: 100%|██████████| 749/749 [01:50<00:00,  6.75it/s]\n",
      "  0%|          | 0/268 [00:00<?, ?it/s]"
     ]
    },
    {
     "name": "stdout",
     "output_type": "stream",
     "text": [
      "(Epoch 10) TRAIN LOSS:0.0000 ACC:1.0000 F1:1.0000 REC:1.0000 PRE:1.0000 LR:0.00001000\n"
     ]
    },
    {
     "name": "stderr",
     "output_type": "stream",
     "text": [
      "VALID LOSS:0.1710 ACC:0.9780 F1:0.9779 REC:0.9774 PRE:0.9788: 100%|██████████| 268/268 [00:44<00:00,  6.03it/s]\n"
     ]
    },
    {
     "name": "stdout",
     "output_type": "stream",
     "text": [
      "(Epoch 10) VALID LOSS:0.1710 ACC:0.9780 F1:0.9779 REC:0.9774 PRE:0.9788\n",
      "Evaluation with 5.0% cleansing (remove 314 samples) ACC:0.9790 F1:0.9789 REC:0.9784 PRE:0.9796\n",
      "== Retraining with 10.0% cleansing (remove 629 samples) ==\n"
     ]
    },
    {
     "name": "stderr",
     "output_type": "stream",
     "text": [
      "Some weights of the model checkpoint at roberta-base were not used when initializing RobertaForSequenceClassification: ['lm_head.bias', 'lm_head.dense.weight', 'lm_head.dense.bias', 'lm_head.layer_norm.weight', 'lm_head.layer_norm.bias', 'lm_head.decoder.weight', 'roberta.pooler.dense.weight', 'roberta.pooler.dense.bias']\n",
      "- This IS expected if you are initializing RobertaForSequenceClassification from the checkpoint of a model trained on another task or with another architecture (e.g. initializing a BertForSequenceClassification model from a BertForPretraining model).\n",
      "- This IS NOT expected if you are initializing RobertaForSequenceClassification from the checkpoint of a model that you expect to be exactly identical (initializing a BertForSequenceClassification model from a BertForSequenceClassification model).\n",
      "Some weights of RobertaForSequenceClassification were not initialized from the model checkpoint at roberta-base and are newly initialized: ['classifier.dense.weight', 'classifier.dense.bias', 'classifier.out_proj.weight', 'classifier.out_proj.bias']\n",
      "You should probably TRAIN this model on a down-stream task to be able to use it for predictions and inference.\n",
      "(Epoch 1) TRAIN LOSS:0.2071 LR:0.00001000: 100%|██████████| 710/710 [01:46<00:00,  6.67it/s]\n",
      "  0%|          | 0/268 [00:00<?, ?it/s]"
     ]
    },
    {
     "name": "stdout",
     "output_type": "stream",
     "text": [
      "(Epoch 1) TRAIN LOSS:0.2071 ACC:0.9089 F1:0.9085 REC:0.9077 PRE:0.9101 LR:0.00001000\n"
     ]
    },
    {
     "name": "stderr",
     "output_type": "stream",
     "text": [
      "VALID LOSS:0.0879 ACC:0.9673 F1:0.9672 REC:0.9673 PRE:0.9671: 100%|██████████| 268/268 [00:44<00:00,  6.02it/s]\n",
      "  0%|          | 0/710 [00:00<?, ?it/s]"
     ]
    },
    {
     "name": "stdout",
     "output_type": "stream",
     "text": [
      "(Epoch 1) VALID LOSS:0.0879 ACC:0.9673 F1:0.9672 REC:0.9673 PRE:0.9671\n"
     ]
    },
    {
     "name": "stderr",
     "output_type": "stream",
     "text": [
      "(Epoch 2) TRAIN LOSS:0.0569 LR:0.00001000: 100%|██████████| 710/710 [01:46<00:00,  6.64it/s]\n",
      "  0%|          | 0/268 [00:00<?, ?it/s]"
     ]
    },
    {
     "name": "stdout",
     "output_type": "stream",
     "text": [
      "(Epoch 2) TRAIN LOSS:0.0569 ACC:0.9820 F1:0.9820 REC:0.9820 PRE:0.9820 LR:0.00001000\n"
     ]
    },
    {
     "name": "stderr",
     "output_type": "stream",
     "text": [
      "VALID LOSS:0.0685 ACC:0.9734 F1:0.9732 REC:0.9725 PRE:0.9746: 100%|██████████| 268/268 [00:44<00:00,  5.97it/s]\n",
      "  0%|          | 0/710 [00:00<?, ?it/s]"
     ]
    },
    {
     "name": "stdout",
     "output_type": "stream",
     "text": [
      "(Epoch 2) VALID LOSS:0.0685 ACC:0.9734 F1:0.9732 REC:0.9725 PRE:0.9746\n"
     ]
    },
    {
     "name": "stderr",
     "output_type": "stream",
     "text": [
      "(Epoch 3) TRAIN LOSS:0.0177 LR:0.00001000: 100%|██████████| 710/710 [01:47<00:00,  6.59it/s]\n",
      "  0%|          | 0/268 [00:00<?, ?it/s]"
     ]
    },
    {
     "name": "stdout",
     "output_type": "stream",
     "text": [
      "(Epoch 3) TRAIN LOSS:0.0177 ACC:0.9938 F1:0.9938 REC:0.9938 PRE:0.9939 LR:0.00001000\n"
     ]
    },
    {
     "name": "stderr",
     "output_type": "stream",
     "text": [
      "VALID LOSS:0.0826 ACC:0.9757 F1:0.9756 REC:0.9759 PRE:0.9754: 100%|██████████| 268/268 [00:44<00:00,  6.07it/s]\n",
      "  0%|          | 0/710 [00:00<?, ?it/s]"
     ]
    },
    {
     "name": "stdout",
     "output_type": "stream",
     "text": [
      "(Epoch 3) VALID LOSS:0.0826 ACC:0.9757 F1:0.9756 REC:0.9759 PRE:0.9754\n"
     ]
    },
    {
     "name": "stderr",
     "output_type": "stream",
     "text": [
      "(Epoch 4) TRAIN LOSS:0.0085 LR:0.00001000: 100%|██████████| 710/710 [01:46<00:00,  6.65it/s]\n",
      "  0%|          | 0/268 [00:00<?, ?it/s]"
     ]
    },
    {
     "name": "stdout",
     "output_type": "stream",
     "text": [
      "(Epoch 4) TRAIN LOSS:0.0085 ACC:0.9972 F1:0.9972 REC:0.9972 PRE:0.9972 LR:0.00001000\n"
     ]
    },
    {
     "name": "stderr",
     "output_type": "stream",
     "text": [
      "VALID LOSS:0.0920 ACC:0.9687 F1:0.9686 REC:0.9689 PRE:0.9684: 100%|██████████| 268/268 [00:44<00:00,  6.06it/s]\n",
      "  0%|          | 0/710 [00:00<?, ?it/s]"
     ]
    },
    {
     "name": "stdout",
     "output_type": "stream",
     "text": [
      "(Epoch 4) VALID LOSS:0.0920 ACC:0.9687 F1:0.9686 REC:0.9689 PRE:0.9684\n"
     ]
    },
    {
     "name": "stderr",
     "output_type": "stream",
     "text": [
      "(Epoch 5) TRAIN LOSS:0.0086 LR:0.00001000: 100%|██████████| 710/710 [01:47<00:00,  6.62it/s]\n",
      "  0%|          | 0/268 [00:00<?, ?it/s]"
     ]
    },
    {
     "name": "stdout",
     "output_type": "stream",
     "text": [
      "(Epoch 5) TRAIN LOSS:0.0086 ACC:0.9977 F1:0.9977 REC:0.9976 PRE:0.9978 LR:0.00001000\n"
     ]
    },
    {
     "name": "stderr",
     "output_type": "stream",
     "text": [
      "VALID LOSS:0.1048 ACC:0.9743 F1:0.9742 REC:0.9746 PRE:0.9740: 100%|██████████| 268/268 [00:44<00:00,  6.07it/s]\n",
      "  0%|          | 0/710 [00:00<?, ?it/s]"
     ]
    },
    {
     "name": "stdout",
     "output_type": "stream",
     "text": [
      "(Epoch 5) VALID LOSS:0.1048 ACC:0.9743 F1:0.9742 REC:0.9746 PRE:0.9740\n"
     ]
    },
    {
     "name": "stderr",
     "output_type": "stream",
     "text": [
      "(Epoch 6) TRAIN LOSS:0.0086 LR:0.00001000: 100%|██████████| 710/710 [01:46<00:00,  6.64it/s]\n",
      "  0%|          | 0/268 [00:00<?, ?it/s]"
     ]
    },
    {
     "name": "stdout",
     "output_type": "stream",
     "text": [
      "(Epoch 6) TRAIN LOSS:0.0086 ACC:0.9977 F1:0.9977 REC:0.9977 PRE:0.9977 LR:0.00001000\n"
     ]
    },
    {
     "name": "stderr",
     "output_type": "stream",
     "text": [
      "VALID LOSS:0.1056 ACC:0.9785 F1:0.9784 REC:0.9780 PRE:0.9790: 100%|██████████| 268/268 [00:44<00:00,  6.03it/s]\n",
      "  0%|          | 0/710 [00:00<?, ?it/s]"
     ]
    },
    {
     "name": "stdout",
     "output_type": "stream",
     "text": [
      "(Epoch 6) VALID LOSS:0.1056 ACC:0.9785 F1:0.9784 REC:0.9780 PRE:0.9790\n"
     ]
    },
    {
     "name": "stderr",
     "output_type": "stream",
     "text": [
      "(Epoch 7) TRAIN LOSS:0.0120 LR:0.00001000: 100%|██████████| 710/710 [01:46<00:00,  6.64it/s]\n",
      "  0%|          | 0/268 [00:00<?, ?it/s]"
     ]
    },
    {
     "name": "stdout",
     "output_type": "stream",
     "text": [
      "(Epoch 7) TRAIN LOSS:0.0120 ACC:0.9967 F1:0.9966 REC:0.9967 PRE:0.9966 LR:0.00001000\n"
     ]
    },
    {
     "name": "stderr",
     "output_type": "stream",
     "text": [
      "VALID LOSS:0.1092 ACC:0.9738 F1:0.9737 REC:0.9733 PRE:0.9744: 100%|██████████| 268/268 [00:43<00:00,  6.11it/s]\n",
      "  0%|          | 0/710 [00:00<?, ?it/s]"
     ]
    },
    {
     "name": "stdout",
     "output_type": "stream",
     "text": [
      "(Epoch 7) VALID LOSS:0.1092 ACC:0.9738 F1:0.9737 REC:0.9733 PRE:0.9744\n"
     ]
    },
    {
     "name": "stderr",
     "output_type": "stream",
     "text": [
      "(Epoch 8) TRAIN LOSS:0.0070 LR:0.00001000: 100%|██████████| 710/710 [01:46<00:00,  6.65it/s]\n",
      "  0%|          | 0/268 [00:00<?, ?it/s]"
     ]
    },
    {
     "name": "stdout",
     "output_type": "stream",
     "text": [
      "(Epoch 8) TRAIN LOSS:0.0070 ACC:0.9977 F1:0.9977 REC:0.9977 PRE:0.9977 LR:0.00001000\n"
     ]
    },
    {
     "name": "stderr",
     "output_type": "stream",
     "text": [
      "VALID LOSS:0.1567 ACC:0.9719 F1:0.9718 REC:0.9711 PRE:0.9731: 100%|██████████| 268/268 [00:44<00:00,  6.03it/s]\n",
      "  0%|          | 0/710 [00:00<?, ?it/s]"
     ]
    },
    {
     "name": "stdout",
     "output_type": "stream",
     "text": [
      "(Epoch 8) VALID LOSS:0.1567 ACC:0.9719 F1:0.9718 REC:0.9711 PRE:0.9731\n"
     ]
    },
    {
     "name": "stderr",
     "output_type": "stream",
     "text": [
      "(Epoch 9) TRAIN LOSS:0.0042 LR:0.00001000: 100%|██████████| 710/710 [01:46<00:00,  6.66it/s]\n",
      "  0%|          | 0/268 [00:00<?, ?it/s]"
     ]
    },
    {
     "name": "stdout",
     "output_type": "stream",
     "text": [
      "(Epoch 9) TRAIN LOSS:0.0042 ACC:0.9988 F1:0.9988 REC:0.9988 PRE:0.9988 LR:0.00001000\n"
     ]
    },
    {
     "name": "stderr",
     "output_type": "stream",
     "text": [
      "VALID LOSS:0.1158 ACC:0.9776 F1:0.9775 REC:0.9773 PRE:0.9777: 100%|██████████| 268/268 [00:45<00:00,  5.89it/s]\n"
     ]
    },
    {
     "name": "stdout",
     "output_type": "stream",
     "text": [
      "(Epoch 9) VALID LOSS:0.1158 ACC:0.9776 F1:0.9775 REC:0.9773 PRE:0.9777\n",
      "Evaluation with 10.0% cleansing (remove 629 samples) ACC:0.9785 F1:0.9784 REC:0.9780 PRE:0.9790\n",
      "== Retraining with 25.0% cleansing (remove 1574 samples) ==\n"
     ]
    },
    {
     "name": "stderr",
     "output_type": "stream",
     "text": [
      "Some weights of the model checkpoint at roberta-base were not used when initializing RobertaForSequenceClassification: ['lm_head.bias', 'lm_head.dense.weight', 'lm_head.dense.bias', 'lm_head.layer_norm.weight', 'lm_head.layer_norm.bias', 'lm_head.decoder.weight', 'roberta.pooler.dense.weight', 'roberta.pooler.dense.bias']\n",
      "- This IS expected if you are initializing RobertaForSequenceClassification from the checkpoint of a model trained on another task or with another architecture (e.g. initializing a BertForSequenceClassification model from a BertForPretraining model).\n",
      "- This IS NOT expected if you are initializing RobertaForSequenceClassification from the checkpoint of a model that you expect to be exactly identical (initializing a BertForSequenceClassification model from a BertForSequenceClassification model).\n",
      "Some weights of RobertaForSequenceClassification were not initialized from the model checkpoint at roberta-base and are newly initialized: ['classifier.dense.weight', 'classifier.dense.bias', 'classifier.out_proj.weight', 'classifier.out_proj.bias']\n",
      "You should probably TRAIN this model on a down-stream task to be able to use it for predictions and inference.\n",
      "(Epoch 1) TRAIN LOSS:0.2457 LR:0.00001000: 100%|██████████| 594/594 [01:35<00:00,  6.21it/s]\n",
      "  0%|          | 0/268 [00:00<?, ?it/s]"
     ]
    },
    {
     "name": "stdout",
     "output_type": "stream",
     "text": [
      "(Epoch 1) TRAIN LOSS:0.2457 ACC:0.8905 F1:0.8898 REC:0.8888 PRE:0.8927 LR:0.00001000\n"
     ]
    },
    {
     "name": "stderr",
     "output_type": "stream",
     "text": [
      "VALID LOSS:0.1126 ACC:0.9575 F1:0.9574 REC:0.9582 PRE:0.9573: 100%|██████████| 268/268 [00:44<00:00,  6.01it/s]\n",
      "  0%|          | 0/594 [00:00<?, ?it/s]"
     ]
    },
    {
     "name": "stdout",
     "output_type": "stream",
     "text": [
      "(Epoch 1) VALID LOSS:0.1126 ACC:0.9575 F1:0.9574 REC:0.9582 PRE:0.9573\n"
     ]
    },
    {
     "name": "stderr",
     "output_type": "stream",
     "text": [
      "(Epoch 2) TRAIN LOSS:0.0700 LR:0.00001000: 100%|██████████| 594/594 [01:34<00:00,  6.26it/s]\n",
      "  0%|          | 0/268 [00:00<?, ?it/s]"
     ]
    },
    {
     "name": "stdout",
     "output_type": "stream",
     "text": [
      "(Epoch 2) TRAIN LOSS:0.0700 ACC:0.9783 F1:0.9783 REC:0.9782 PRE:0.9783 LR:0.00001000\n"
     ]
    },
    {
     "name": "stderr",
     "output_type": "stream",
     "text": [
      "VALID LOSS:0.2876 ACC:0.9299 F1:0.9289 REC:0.9265 PRE:0.9404: 100%|██████████| 268/268 [00:44<00:00,  6.00it/s]\n",
      "  0%|          | 0/594 [00:00<?, ?it/s]"
     ]
    },
    {
     "name": "stdout",
     "output_type": "stream",
     "text": [
      "(Epoch 2) VALID LOSS:0.2876 ACC:0.9299 F1:0.9289 REC:0.9265 PRE:0.9404\n"
     ]
    },
    {
     "name": "stderr",
     "output_type": "stream",
     "text": [
      "(Epoch 3) TRAIN LOSS:0.0189 LR:0.00001000: 100%|██████████| 594/594 [01:34<00:00,  6.27it/s]\n",
      "  0%|          | 0/268 [00:00<?, ?it/s]"
     ]
    },
    {
     "name": "stdout",
     "output_type": "stream",
     "text": [
      "(Epoch 3) TRAIN LOSS:0.0189 ACC:0.9952 F1:0.9951 REC:0.9951 PRE:0.9952 LR:0.00001000\n"
     ]
    },
    {
     "name": "stderr",
     "output_type": "stream",
     "text": [
      "VALID LOSS:0.1004 ACC:0.9719 F1:0.9719 REC:0.9723 PRE:0.9717: 100%|██████████| 268/268 [00:44<00:00,  6.04it/s]\n",
      "  0%|          | 0/594 [00:00<?, ?it/s]"
     ]
    },
    {
     "name": "stdout",
     "output_type": "stream",
     "text": [
      "(Epoch 3) VALID LOSS:0.1004 ACC:0.9719 F1:0.9719 REC:0.9723 PRE:0.9717\n"
     ]
    },
    {
     "name": "stderr",
     "output_type": "stream",
     "text": [
      "(Epoch 4) TRAIN LOSS:0.0137 LR:0.00001000: 100%|██████████| 594/594 [01:34<00:00,  6.27it/s]\n",
      "  0%|          | 0/268 [00:00<?, ?it/s]"
     ]
    },
    {
     "name": "stdout",
     "output_type": "stream",
     "text": [
      "(Epoch 4) TRAIN LOSS:0.0137 ACC:0.9945 F1:0.9945 REC:0.9945 PRE:0.9945 LR:0.00001000\n"
     ]
    },
    {
     "name": "stderr",
     "output_type": "stream",
     "text": [
      "VALID LOSS:0.1029 ACC:0.9729 F1:0.9728 REC:0.9726 PRE:0.9731: 100%|██████████| 268/268 [00:44<00:00,  6.03it/s]\n",
      "  0%|          | 0/594 [00:00<?, ?it/s]"
     ]
    },
    {
     "name": "stdout",
     "output_type": "stream",
     "text": [
      "(Epoch 4) VALID LOSS:0.1029 ACC:0.9729 F1:0.9728 REC:0.9726 PRE:0.9731\n"
     ]
    },
    {
     "name": "stderr",
     "output_type": "stream",
     "text": [
      "(Epoch 5) TRAIN LOSS:0.0042 LR:0.00001000: 100%|██████████| 594/594 [01:34<00:00,  6.27it/s]\n",
      "  0%|          | 0/268 [00:00<?, ?it/s]"
     ]
    },
    {
     "name": "stdout",
     "output_type": "stream",
     "text": [
      "(Epoch 5) TRAIN LOSS:0.0042 ACC:0.9992 F1:0.9992 REC:0.9992 PRE:0.9992 LR:0.00001000\n"
     ]
    },
    {
     "name": "stderr",
     "output_type": "stream",
     "text": [
      "VALID LOSS:0.1281 ACC:0.9748 F1:0.9747 REC:0.9743 PRE:0.9751: 100%|██████████| 268/268 [00:44<00:00,  6.02it/s]\n",
      "  0%|          | 0/594 [00:00<?, ?it/s]"
     ]
    },
    {
     "name": "stdout",
     "output_type": "stream",
     "text": [
      "(Epoch 5) VALID LOSS:0.1281 ACC:0.9748 F1:0.9747 REC:0.9743 PRE:0.9751\n"
     ]
    },
    {
     "name": "stderr",
     "output_type": "stream",
     "text": [
      "(Epoch 6) TRAIN LOSS:0.0141 LR:0.00001000: 100%|██████████| 594/594 [01:34<00:00,  6.25it/s]\n",
      "  0%|          | 0/268 [00:00<?, ?it/s]"
     ]
    },
    {
     "name": "stdout",
     "output_type": "stream",
     "text": [
      "(Epoch 6) TRAIN LOSS:0.0141 ACC:0.9960 F1:0.9960 REC:0.9960 PRE:0.9960 LR:0.00001000\n"
     ]
    },
    {
     "name": "stderr",
     "output_type": "stream",
     "text": [
      "VALID LOSS:0.1096 ACC:0.9762 F1:0.9761 REC:0.9760 PRE:0.9762: 100%|██████████| 268/268 [00:44<00:00,  5.97it/s]\n",
      "  0%|          | 0/594 [00:00<?, ?it/s]"
     ]
    },
    {
     "name": "stdout",
     "output_type": "stream",
     "text": [
      "(Epoch 6) VALID LOSS:0.1096 ACC:0.9762 F1:0.9761 REC:0.9760 PRE:0.9762\n"
     ]
    },
    {
     "name": "stderr",
     "output_type": "stream",
     "text": [
      "(Epoch 7) TRAIN LOSS:0.0051 LR:0.00001000: 100%|██████████| 594/594 [01:35<00:00,  6.23it/s]\n",
      "  0%|          | 0/268 [00:00<?, ?it/s]"
     ]
    },
    {
     "name": "stdout",
     "output_type": "stream",
     "text": [
      "(Epoch 7) TRAIN LOSS:0.0051 ACC:0.9983 F1:0.9983 REC:0.9983 PRE:0.9983 LR:0.00001000\n"
     ]
    },
    {
     "name": "stderr",
     "output_type": "stream",
     "text": [
      "VALID LOSS:0.1085 ACC:0.9771 F1:0.9770 REC:0.9767 PRE:0.9775: 100%|██████████| 268/268 [00:43<00:00,  6.12it/s]\n",
      "  0%|          | 0/594 [00:00<?, ?it/s]"
     ]
    },
    {
     "name": "stdout",
     "output_type": "stream",
     "text": [
      "(Epoch 7) VALID LOSS:0.1085 ACC:0.9771 F1:0.9770 REC:0.9767 PRE:0.9775\n"
     ]
    },
    {
     "name": "stderr",
     "output_type": "stream",
     "text": [
      "(Epoch 8) TRAIN LOSS:0.0002 LR:0.00001000: 100%|██████████| 594/594 [01:34<00:00,  6.30it/s]\n",
      "  0%|          | 0/268 [00:00<?, ?it/s]"
     ]
    },
    {
     "name": "stdout",
     "output_type": "stream",
     "text": [
      "(Epoch 8) TRAIN LOSS:0.0002 ACC:1.0000 F1:1.0000 REC:1.0000 PRE:1.0000 LR:0.00001000\n"
     ]
    },
    {
     "name": "stderr",
     "output_type": "stream",
     "text": [
      "VALID LOSS:0.1474 ACC:0.9762 F1:0.9761 REC:0.9754 PRE:0.9772: 100%|██████████| 268/268 [00:43<00:00,  6.20it/s]\n",
      "  0%|          | 0/594 [00:00<?, ?it/s]"
     ]
    },
    {
     "name": "stdout",
     "output_type": "stream",
     "text": [
      "(Epoch 8) VALID LOSS:0.1474 ACC:0.9762 F1:0.9761 REC:0.9754 PRE:0.9772\n"
     ]
    },
    {
     "name": "stderr",
     "output_type": "stream",
     "text": [
      "(Epoch 9) TRAIN LOSS:0.0001 LR:0.00001000: 100%|██████████| 594/594 [01:34<00:00,  6.31it/s]\n",
      "  0%|          | 0/268 [00:00<?, ?it/s]"
     ]
    },
    {
     "name": "stdout",
     "output_type": "stream",
     "text": [
      "(Epoch 9) TRAIN LOSS:0.0001 ACC:1.0000 F1:1.0000 REC:1.0000 PRE:1.0000 LR:0.00001000\n"
     ]
    },
    {
     "name": "stderr",
     "output_type": "stream",
     "text": [
      "VALID LOSS:0.1505 ACC:0.9776 F1:0.9775 REC:0.9769 PRE:0.9784: 100%|██████████| 268/268 [00:43<00:00,  6.19it/s]\n",
      "  0%|          | 0/594 [00:00<?, ?it/s]"
     ]
    },
    {
     "name": "stdout",
     "output_type": "stream",
     "text": [
      "(Epoch 9) VALID LOSS:0.1505 ACC:0.9776 F1:0.9775 REC:0.9769 PRE:0.9784\n"
     ]
    },
    {
     "name": "stderr",
     "output_type": "stream",
     "text": [
      "(Epoch 10) TRAIN LOSS:0.0000 LR:0.00001000: 100%|██████████| 594/594 [01:33<00:00,  6.34it/s]\n",
      "  0%|          | 0/268 [00:00<?, ?it/s]"
     ]
    },
    {
     "name": "stdout",
     "output_type": "stream",
     "text": [
      "(Epoch 10) TRAIN LOSS:0.0000 ACC:1.0000 F1:1.0000 REC:1.0000 PRE:1.0000 LR:0.00001000\n"
     ]
    },
    {
     "name": "stderr",
     "output_type": "stream",
     "text": [
      "VALID LOSS:0.1559 ACC:0.9776 F1:0.9775 REC:0.9769 PRE:0.9784: 100%|██████████| 268/268 [00:42<00:00,  6.35it/s]\n"
     ]
    },
    {
     "name": "stdout",
     "output_type": "stream",
     "text": [
      "(Epoch 10) VALID LOSS:0.1559 ACC:0.9776 F1:0.9775 REC:0.9769 PRE:0.9784\n",
      "Evaluation with 25.0% cleansing (remove 1574 samples) ACC:0.9776 F1:0.9775 REC:0.9769 PRE:0.9784\n",
      "== Retraining with 50.0% cleansing (remove 3149 samples) ==\n"
     ]
    },
    {
     "name": "stderr",
     "output_type": "stream",
     "text": [
      "Some weights of the model checkpoint at roberta-base were not used when initializing RobertaForSequenceClassification: ['lm_head.bias', 'lm_head.dense.weight', 'lm_head.dense.bias', 'lm_head.layer_norm.weight', 'lm_head.layer_norm.bias', 'lm_head.decoder.weight', 'roberta.pooler.dense.weight', 'roberta.pooler.dense.bias']\n",
      "- This IS expected if you are initializing RobertaForSequenceClassification from the checkpoint of a model trained on another task or with another architecture (e.g. initializing a BertForSequenceClassification model from a BertForPretraining model).\n",
      "- This IS NOT expected if you are initializing RobertaForSequenceClassification from the checkpoint of a model that you expect to be exactly identical (initializing a BertForSequenceClassification model from a BertForSequenceClassification model).\n",
      "Some weights of RobertaForSequenceClassification were not initialized from the model checkpoint at roberta-base and are newly initialized: ['classifier.dense.weight', 'classifier.dense.bias', 'classifier.out_proj.weight', 'classifier.out_proj.bias']\n",
      "You should probably TRAIN this model on a down-stream task to be able to use it for predictions and inference.\n",
      "(Epoch 1) TRAIN LOSS:0.2910 LR:0.00001000: 100%|██████████| 402/402 [01:12<00:00,  5.54it/s]\n",
      "  0%|          | 0/268 [00:00<?, ?it/s]"
     ]
    },
    {
     "name": "stdout",
     "output_type": "stream",
     "text": [
      "(Epoch 1) TRAIN LOSS:0.2910 ACC:0.8630 F1:0.8625 REC:0.8621 PRE:0.8633 LR:0.00001000\n"
     ]
    },
    {
     "name": "stderr",
     "output_type": "stream",
     "text": [
      "VALID LOSS:0.1843 ACC:0.9336 F1:0.9328 REC:0.9306 PRE:0.9422: 100%|██████████| 268/268 [00:41<00:00,  6.50it/s]\n",
      "  0%|          | 0/402 [00:00<?, ?it/s]"
     ]
    },
    {
     "name": "stdout",
     "output_type": "stream",
     "text": [
      "(Epoch 1) VALID LOSS:0.1843 ACC:0.9336 F1:0.9328 REC:0.9306 PRE:0.9422\n"
     ]
    },
    {
     "name": "stderr",
     "output_type": "stream",
     "text": [
      "(Epoch 2) TRAIN LOSS:0.0942 LR:0.00001000: 100%|██████████| 402/402 [01:12<00:00,  5.57it/s]\n",
      "  0%|          | 0/268 [00:00<?, ?it/s]"
     ]
    },
    {
     "name": "stdout",
     "output_type": "stream",
     "text": [
      "(Epoch 2) TRAIN LOSS:0.0942 ACC:0.9654 F1:0.9654 REC:0.9652 PRE:0.9656 LR:0.00001000\n"
     ]
    },
    {
     "name": "stderr",
     "output_type": "stream",
     "text": [
      "VALID LOSS:0.0977 ACC:0.9631 F1:0.9630 REC:0.9627 PRE:0.9634: 100%|██████████| 268/268 [00:42<00:00,  6.34it/s]\n",
      "  0%|          | 0/402 [00:00<?, ?it/s]"
     ]
    },
    {
     "name": "stdout",
     "output_type": "stream",
     "text": [
      "(Epoch 2) VALID LOSS:0.0977 ACC:0.9631 F1:0.9630 REC:0.9627 PRE:0.9634\n"
     ]
    },
    {
     "name": "stderr",
     "output_type": "stream",
     "text": [
      "(Epoch 3) TRAIN LOSS:0.0230 LR:0.00001000: 100%|██████████| 402/402 [01:12<00:00,  5.54it/s]\n",
      "  0%|          | 0/268 [00:00<?, ?it/s]"
     ]
    },
    {
     "name": "stdout",
     "output_type": "stream",
     "text": [
      "(Epoch 3) TRAIN LOSS:0.0230 ACC:0.9928 F1:0.9928 REC:0.9928 PRE:0.9929 LR:0.00001000\n"
     ]
    },
    {
     "name": "stderr",
     "output_type": "stream",
     "text": [
      "VALID LOSS:0.1127 ACC:0.9673 F1:0.9671 REC:0.9662 PRE:0.9688: 100%|██████████| 268/268 [00:41<00:00,  6.50it/s]\n",
      "  0%|          | 0/402 [00:00<?, ?it/s]"
     ]
    },
    {
     "name": "stdout",
     "output_type": "stream",
     "text": [
      "(Epoch 3) VALID LOSS:0.1127 ACC:0.9673 F1:0.9671 REC:0.9662 PRE:0.9688\n"
     ]
    },
    {
     "name": "stderr",
     "output_type": "stream",
     "text": [
      "(Epoch 4) TRAIN LOSS:0.0174 LR:0.00001000: 100%|██████████| 402/402 [01:12<00:00,  5.57it/s]\n",
      "  0%|          | 0/268 [00:00<?, ?it/s]"
     ]
    },
    {
     "name": "stdout",
     "output_type": "stream",
     "text": [
      "(Epoch 4) TRAIN LOSS:0.0174 ACC:0.9956 F1:0.9956 REC:0.9956 PRE:0.9957 LR:0.00001000\n"
     ]
    },
    {
     "name": "stderr",
     "output_type": "stream",
     "text": [
      "VALID LOSS:0.1561 ACC:0.9635 F1:0.9633 REC:0.9622 PRE:0.9658: 100%|██████████| 268/268 [00:39<00:00,  6.81it/s]\n",
      "  0%|          | 0/402 [00:00<?, ?it/s]"
     ]
    },
    {
     "name": "stdout",
     "output_type": "stream",
     "text": [
      "(Epoch 4) VALID LOSS:0.1561 ACC:0.9635 F1:0.9633 REC:0.9622 PRE:0.9658\n"
     ]
    },
    {
     "name": "stderr",
     "output_type": "stream",
     "text": [
      "(Epoch 5) TRAIN LOSS:0.0023 LR:0.00001000: 100%|██████████| 402/402 [01:10<00:00,  5.72it/s]\n",
      "  0%|          | 0/268 [00:00<?, ?it/s]"
     ]
    },
    {
     "name": "stdout",
     "output_type": "stream",
     "text": [
      "(Epoch 5) TRAIN LOSS:0.0023 ACC:0.9997 F1:0.9997 REC:0.9997 PRE:0.9997 LR:0.00001000\n"
     ]
    },
    {
     "name": "stderr",
     "output_type": "stream",
     "text": [
      "VALID LOSS:0.1366 ACC:0.9705 F1:0.9704 REC:0.9699 PRE:0.9712: 100%|██████████| 268/268 [00:39<00:00,  6.72it/s]\n",
      "  0%|          | 0/402 [00:00<?, ?it/s]"
     ]
    },
    {
     "name": "stdout",
     "output_type": "stream",
     "text": [
      "(Epoch 5) VALID LOSS:0.1366 ACC:0.9705 F1:0.9704 REC:0.9699 PRE:0.9712\n"
     ]
    },
    {
     "name": "stderr",
     "output_type": "stream",
     "text": [
      "(Epoch 6) TRAIN LOSS:0.0007 LR:0.00001000: 100%|██████████| 402/402 [01:10<00:00,  5.70it/s]\n",
      "  0%|          | 0/268 [00:00<?, ?it/s]"
     ]
    },
    {
     "name": "stdout",
     "output_type": "stream",
     "text": [
      "(Epoch 6) TRAIN LOSS:0.0007 ACC:0.9997 F1:0.9997 REC:0.9997 PRE:0.9997 LR:0.00001000\n"
     ]
    },
    {
     "name": "stderr",
     "output_type": "stream",
     "text": [
      "VALID LOSS:0.1491 ACC:0.9710 F1:0.9709 REC:0.9704 PRE:0.9717: 100%|██████████| 268/268 [00:39<00:00,  6.85it/s]\n",
      "  0%|          | 0/402 [00:00<?, ?it/s]"
     ]
    },
    {
     "name": "stdout",
     "output_type": "stream",
     "text": [
      "(Epoch 6) VALID LOSS:0.1491 ACC:0.9710 F1:0.9709 REC:0.9704 PRE:0.9717\n"
     ]
    },
    {
     "name": "stderr",
     "output_type": "stream",
     "text": [
      "(Epoch 7) TRAIN LOSS:0.0003 LR:0.00001000: 100%|██████████| 402/402 [01:10<00:00,  5.66it/s]\n",
      "  0%|          | 0/268 [00:00<?, ?it/s]"
     ]
    },
    {
     "name": "stdout",
     "output_type": "stream",
     "text": [
      "(Epoch 7) TRAIN LOSS:0.0003 ACC:1.0000 F1:1.0000 REC:1.0000 PRE:1.0000 LR:0.00001000\n"
     ]
    },
    {
     "name": "stderr",
     "output_type": "stream",
     "text": [
      "VALID LOSS:0.1765 ACC:0.9691 F1:0.9690 REC:0.9682 PRE:0.9704: 100%|██████████| 268/268 [00:39<00:00,  6.81it/s]\n",
      "  0%|          | 0/402 [00:00<?, ?it/s]"
     ]
    },
    {
     "name": "stdout",
     "output_type": "stream",
     "text": [
      "(Epoch 7) VALID LOSS:0.1765 ACC:0.9691 F1:0.9690 REC:0.9682 PRE:0.9704\n"
     ]
    },
    {
     "name": "stderr",
     "output_type": "stream",
     "text": [
      "(Epoch 8) TRAIN LOSS:0.0001 LR:0.00001000: 100%|██████████| 402/402 [01:10<00:00,  5.72it/s]\n",
      "  0%|          | 0/268 [00:00<?, ?it/s]"
     ]
    },
    {
     "name": "stdout",
     "output_type": "stream",
     "text": [
      "(Epoch 8) TRAIN LOSS:0.0001 ACC:1.0000 F1:1.0000 REC:1.0000 PRE:1.0000 LR:0.00001000\n"
     ]
    },
    {
     "name": "stderr",
     "output_type": "stream",
     "text": [
      "VALID LOSS:0.1891 ACC:0.9691 F1:0.9690 REC:0.9682 PRE:0.9705: 100%|██████████| 268/268 [00:39<00:00,  6.77it/s]\n",
      "  0%|          | 0/402 [00:00<?, ?it/s]"
     ]
    },
    {
     "name": "stdout",
     "output_type": "stream",
     "text": [
      "(Epoch 8) VALID LOSS:0.1891 ACC:0.9691 F1:0.9690 REC:0.9682 PRE:0.9705\n"
     ]
    },
    {
     "name": "stderr",
     "output_type": "stream",
     "text": [
      "(Epoch 9) TRAIN LOSS:0.0001 LR:0.00001000: 100%|██████████| 402/402 [01:10<00:00,  5.70it/s]\n",
      "  0%|          | 0/268 [00:00<?, ?it/s]"
     ]
    },
    {
     "name": "stdout",
     "output_type": "stream",
     "text": [
      "(Epoch 9) TRAIN LOSS:0.0001 ACC:1.0000 F1:1.0000 REC:1.0000 PRE:1.0000 LR:0.00001000\n"
     ]
    },
    {
     "name": "stderr",
     "output_type": "stream",
     "text": [
      "VALID LOSS:0.1988 ACC:0.9687 F1:0.9685 REC:0.9677 PRE:0.9701: 100%|██████████| 268/268 [00:39<00:00,  6.79it/s]\n"
     ]
    },
    {
     "name": "stdout",
     "output_type": "stream",
     "text": [
      "(Epoch 9) VALID LOSS:0.1988 ACC:0.9687 F1:0.9685 REC:0.9677 PRE:0.9701\n",
      "Evaluation with 50.0% cleansing (remove 3149 samples) ACC:0.9710 F1:0.9709 REC:0.9704 PRE:0.9717\n"
     ]
    },
    {
     "ename": "NameError",
     "evalue": "name 'stat_result' is not defined",
     "output_type": "error",
     "traceback": [
      "\u001b[0;31m---------------------------------------------------------------------------\u001b[0m",
      "\u001b[0;31mNameError\u001b[0m                                 Traceback (most recent call last)",
      "\u001b[0;32m<ipython-input-18-cd391c237c29>\u001b[0m in \u001b[0;36m<module>\u001b[0;34m\u001b[0m\n\u001b[1;32m    107\u001b[0m     \u001b[0mtorch\u001b[0m\u001b[0;34m.\u001b[0m\u001b[0msave\u001b[0m\u001b[0;34m(\u001b[0m\u001b[0mbest_state_dict\u001b[0m\u001b[0;34m,\u001b[0m \u001b[0;34mf'./tmp/model_weight_c{percentage}.pt'\u001b[0m\u001b[0;34m)\u001b[0m\u001b[0;34m\u001b[0m\u001b[0;34m\u001b[0m\u001b[0m\n\u001b[1;32m    108\u001b[0m \u001b[0;34m\u001b[0m\u001b[0m\n\u001b[0;32m--> 109\u001b[0;31m \u001b[0;32mfor\u001b[0m \u001b[0mp\u001b[0m\u001b[0;34m,\u001b[0m \u001b[0mmetrics\u001b[0m \u001b[0;32min\u001b[0m \u001b[0mstat_result\u001b[0m\u001b[0;34m.\u001b[0m\u001b[0mitem\u001b[0m\u001b[0;34m(\u001b[0m\u001b[0;34m)\u001b[0m\u001b[0;34m:\u001b[0m\u001b[0;34m\u001b[0m\u001b[0;34m\u001b[0m\u001b[0m\n\u001b[0m\u001b[1;32m    110\u001b[0m     \u001b[0mprint\u001b[0m\u001b[0;34m(\u001b[0m\u001b[0;34mf'{p * 100}% cleansing (remove {len(filt_indices)} samples) | {metrics_to_string(best_metrics)}'\u001b[0m\u001b[0;34m)\u001b[0m\u001b[0;34m\u001b[0m\u001b[0;34m\u001b[0m\u001b[0m\n",
      "\u001b[0;31mNameError\u001b[0m: name 'stat_result' is not defined"
     ]
    }
   ],
   "source": [
    "# Old List\n",
    "stat_results = {}\n",
    "for percentage in [0.01, 0.02, 0.05, 0.10, 0.25, 0.50]:\n",
    "    filt_indices = index_percent_list[f'{percentage:.2f}']\n",
    "    print(f'== Retraining with {percentage * 100}% cleansing (remove {len(filt_indices)} samples) ==')\n",
    "    \n",
    "    # Set random seed\n",
    "    set_seed(26092020)\n",
    "    \n",
    "    # Load Tokenizer and Config\n",
    "    tokenizer = AutoTokenizer.from_pretrained('roberta-base')\n",
    "    config = AutoConfig.from_pretrained('roberta-base')\n",
    "    config.num_labels = FakeNewsDataset.NUM_LABELS\n",
    "\n",
    "    # Instantiate model\n",
    "    model = AutoModelForSequenceClassification.from_pretrained('roberta-base', config=config)\n",
    "    \n",
    "    # Data Loader\n",
    "    filt_train_loader = get_filtered_dataloader(train_loader, filt_indices, inclusive=False, batch_size=8, shuffle=True)\n",
    "    \n",
    "    # Prepare for training\n",
    "    optimizer = optim.Adam(model.parameters(), lr=1e-5)\n",
    "    model = model.cuda()\n",
    "    \n",
    "    # Train\n",
    "    n_epochs = 10\n",
    "    best_val_metric, best_metrics, best_state_dict = 0, None, None\n",
    "    early_stop, count_stop = 3, 0\n",
    "    for epoch in range(n_epochs):\n",
    "        model.train()\n",
    "        torch.set_grad_enabled(True)\n",
    "\n",
    "        total_train_loss = 0\n",
    "        list_hyp, list_label = [], []\n",
    "\n",
    "        train_pbar = tqdm(filt_train_loader, leave=True, total=len(filt_train_loader))\n",
    "        for i, batch_data in enumerate(train_pbar):\n",
    "            # Forward model\n",
    "            outputs = forward_mask_sequence_classification(model, batch_data[:-1], i2w=i2w, apply_mask=True, device='cuda')\n",
    "            loss, batch_hyp, batch_label, logits, label_batch = outputs\n",
    "\n",
    "            # Update model\n",
    "            optimizer.zero_grad()\n",
    "            loss.backward()\n",
    "            optimizer.step()\n",
    "\n",
    "            tr_loss = loss.item()\n",
    "            total_train_loss = total_train_loss + tr_loss\n",
    "\n",
    "            # Calculate metrics\n",
    "            list_hyp += batch_hyp\n",
    "            list_label += batch_label\n",
    "\n",
    "            train_pbar.set_description(\"(Epoch {}) TRAIN LOSS:{:.4f} LR:{:.8f}\".format((epoch+1),\n",
    "                total_train_loss/(i+1), get_lr(optimizer)))\n",
    "\n",
    "        # Calculate train metric\n",
    "        metrics = classification_metrics_fn(list_hyp, list_label)\n",
    "        print(\"(Epoch {}) TRAIN LOSS:{:.4f} {} LR:{:.8f}\".format((epoch+1),\n",
    "            total_train_loss/(i+1), metrics_to_string(metrics), get_lr(optimizer)))\n",
    "        \n",
    "        # Evaluate on validation\n",
    "        model.eval()\n",
    "        torch.set_grad_enabled(False)\n",
    "\n",
    "        total_loss, total_correct, total_labels = 0, 0, 0\n",
    "        list_hyp, list_label = [], []\n",
    "\n",
    "        pbar = tqdm(valid_loader, leave=True, total=len(valid_loader))\n",
    "        for i, batch_data in enumerate(pbar):\n",
    "            batch_seq = batch_data[-1]        \n",
    "            outputs = forward_mask_sequence_classification(model, batch_data[:-1], i2w=i2w, apply_mask=True, device='cuda')\n",
    "            loss, batch_hyp, batch_label, logits, label_batch = outputs\n",
    "\n",
    "            # Calculate total loss\n",
    "            valid_loss = loss.item()\n",
    "            total_loss = total_loss + valid_loss\n",
    "\n",
    "            # Calculate evaluation metrics\n",
    "            list_hyp += batch_hyp\n",
    "            list_label += batch_label\n",
    "            metrics = classification_metrics_fn(list_hyp, list_label)\n",
    "\n",
    "            pbar.set_description(\"VALID LOSS:{:.4f} {}\".format(total_loss/(i+1), metrics_to_string(metrics)))\n",
    "\n",
    "        metrics = classification_metrics_fn(list_hyp, list_label)\n",
    "        print(\"(Epoch {}) VALID LOSS:{:.4f} {}\".format((epoch+1),\n",
    "            total_loss/(i+1), metrics_to_string(metrics)))\n",
    "\n",
    "        # Early stopping\n",
    "        val_metric = metrics['F1']\n",
    "        if best_val_metric <= val_metric:\n",
    "            best_state_dict = model.state_dict().copy()\n",
    "            best_val_metric = val_metric\n",
    "            best_metrics = metrics\n",
    "            count_stop = 0\n",
    "        else:\n",
    "            count_stop += 1\n",
    "            if count_stop == early_stop:\n",
    "                break\n",
    "    # Store best result\n",
    "    print(f'Evaluation with {percentage * 100}% cleansing (remove {len(filt_indices)} samples) {metrics_to_string(best_metrics)}')\n",
    "    stat_results[percentage] = best_metrics\n",
    "                \n",
    "    # Save best model\n",
    "    for k, v in best_state_dict.items():\n",
    "        best_state_dict[k] = v.cpu()\n",
    "    torch.save(best_state_dict, f'./tmp/model_weight_c{percentage}.pt')\n",
    "\n",
    "for p, metrics in stat_results.item():\n",
    "    print(f'{p * 100}% cleansing (remove {len(filt_indices)} samples) | {metrics_to_string(best_metrics)}')"
   ]
  },
  {
   "cell_type": "code",
   "execution_count": 22,
   "metadata": {},
   "outputs": [
    {
     "name": "stdout",
     "output_type": "stream",
     "text": [
      "1.0% cleansing (remove 3149 samples) | ACC:0.9799 F1:0.9798 REC:0.9794 PRE:0.9804\n",
      "2.0% cleansing (remove 3149 samples) | ACC:0.9799 F1:0.9798 REC:0.9795 PRE:0.9803\n",
      "5.0% cleansing (remove 3149 samples) | ACC:0.9790 F1:0.9789 REC:0.9784 PRE:0.9796\n",
      "10.0% cleansing (remove 3149 samples) | ACC:0.9785 F1:0.9784 REC:0.9780 PRE:0.9790\n",
      "25.0% cleansing (remove 3149 samples) | ACC:0.9776 F1:0.9775 REC:0.9769 PRE:0.9784\n",
      "50.0% cleansing (remove 3149 samples) | ACC:0.9710 F1:0.9709 REC:0.9704 PRE:0.9717\n"
     ]
    }
   ],
   "source": [
    "for p, metrics in stat_results.items():\n",
    "    print(f'{p * 100}% cleansing (remove {len(filt_indices)} samples) | {metrics_to_string(metrics)}')"
   ]
  },
  {
   "cell_type": "code",
   "execution_count": null,
   "metadata": {},
   "outputs": [],
   "source": [
    "# All result new list\n",
    "# 0% Cleansing | 0 - ACC:0.9771 F1:0.9770 REC:0.9765 PRE:0.9777\n",
    "# 1% Cleansing | 62 - \n",
    "# 2% Cleansing | 125 - \n",
    "# 5% Cleansing | 314 - \n",
    "# 10% Cleansing | 629 - \n",
    "# 25% Cleansing | 1574 - \n",
    "# 50% Cleansing | 3144 - "
   ]
  },
  {
   "cell_type": "code",
   "execution_count": null,
   "metadata": {},
   "outputs": [],
   "source": [
    "# All result old list\n",
    "# 0% Cleansing | 0 - ACC:0.9771 F1:0.9770 REC:0.9765 PRE:0.9777\n",
    "# 1% Cleansing | 62 - ACC:0.9799 F1:0.9798 REC:0.9794 PRE:0.9804\n",
    "# 2% Cleansing | 125 - ACC:0.9799 F1:0.9798 REC:0.9795 PRE:0.9803\n",
    "# 5% Cleansing | 314 - ACC:0.9790 F1:0.9789 REC:0.9784 PRE:0.979\n",
    "# 10% Cleansing | 629 - ACC:0.9785 F1:0.9784 REC:0.9780 PRE:0.9790\n",
    "# 25% Cleansing | 1572 - ACC:0.9776 F1:0.9775 REC:0.9769 PRE:0.9784\n",
    "# 50% Cleansing | 3144 - ACC:0.9710 F1:0.9709 REC:0.9704 PRE:0.9717"
   ]
  },
  {
   "cell_type": "code",
   "execution_count": null,
   "metadata": {},
   "outputs": [],
   "source": [
    "# Misclassified result\n",
    "# 0% Cleansing | 0 - ACC:0.9593 F1:0.9592 REC:0.9585 PRE:0.9603\n",
    "# 1% Cleansing | 62 - ACC:0.9603 F1:0.9602 REC:0.9601 PRE:0.9603\n",
    "# 2% Cleansing | 125 - ACC:0.9598 F1:0.9596 REC:0.9589 PRE:0.9609\n",
    "# 5% Cleansing | 314 - ACC:0.9584 F1:0.9582 REC:0.9576 PRE:0.9593"
   ]
  },
  {
   "cell_type": "markdown",
   "metadata": {},
   "source": [
    "# Test fine-tuned model on sample sentences"
   ]
  },
  {
   "cell_type": "code",
   "execution_count": 105,
   "metadata": {},
   "outputs": [
    {
     "name": "stdout",
     "output_type": "stream",
     "text": [
      "Text: The CDC currently reports 99031 deaths. In general the discrepancies in death counts between different sources are small and explicable. The death toll stands at roughly 100000 people today. | Label : real (98.680%)\n"
     ]
    }
   ],
   "source": [
    "text = 'The CDC currently reports 99031 deaths. In general the discrepancies in death counts between different sources are small and explicable. The death toll stands at roughly 100000 people today.'\n",
    "subwords = tokenizer.encode(text)\n",
    "subwords = torch.LongTensor(subwords).view(1, -1).to(model.device)\n",
    "\n",
    "logits = model(subwords)[0]\n",
    "label = torch.topk(logits, k=1, dim=-1)[1].squeeze().item()\n",
    "\n",
    "print(f'Text: {text} | Label : {i2w[label]} ({F.softmax(logits, dim=-1).squeeze()[label] * 100:.3f}%)')"
   ]
  },
  {
   "cell_type": "code",
   "execution_count": 110,
   "metadata": {},
   "outputs": [
    {
     "name": "stdout",
     "output_type": "stream",
     "text": [
      "Text: Birx says COVID-19 outbreak not under control because ‘people are on the move’ https://t.co/YFqi6f7Rvj | Label : fake (54.258%)\n"
     ]
    }
   ],
   "source": [
    "text = 'Birx says COVID-19 outbreak not under control because ‘people are on the move’ https://t.co/YFqi6f7Rvj'\n",
    "subwords = tokenizer.encode(text)\n",
    "subwords = torch.LongTensor(subwords).view(1, -1).to(model.device)\n",
    "\n",
    "logits = model(subwords)[0]\n",
    "label = torch.topk(logits, k=1, dim=-1)[1].squeeze().item()\n",
    "\n",
    "print(f'Text: {text} | Label : {i2w[label]} ({F.softmax(logits, dim=-1).squeeze()[label] * 100:.3f}%)')"
   ]
  },
  {
   "cell_type": "code",
   "execution_count": 112,
   "metadata": {},
   "outputs": [
    {
     "name": "stdout",
     "output_type": "stream",
     "text": [
      "Text: Nothing screams “I am sat around doing fuck all during lockdown” quite like confident assumption that other people are sat around doing fuck all during lockdown https://t.co/Hs3rZAAl1h | Label : fake (98.743%)\n"
     ]
    }
   ],
   "source": [
    "text = 'Nothing screams “I am sat around doing fuck all during lockdown” quite like confident assumption that other people are sat around doing fuck all during lockdown https://t.co/Hs3rZAAl1h'\n",
    "subwords = tokenizer.encode(text)\n",
    "subwords = torch.LongTensor(subwords).view(1, -1).to(model.device)\n",
    "\n",
    "logits = model(subwords)[0]\n",
    "label = torch.topk(logits, k=1, dim=-1)[1].squeeze().item()\n",
    "\n",
    "print(f'Text: {text} | Label : {i2w[label]} ({F.softmax(logits, dim=-1).squeeze()[label] * 100:.3f}%)')"
   ]
  },
  {
   "cell_type": "code",
   "execution_count": 113,
   "metadata": {},
   "outputs": [
    {
     "name": "stdout",
     "output_type": "stream",
     "text": [
      "Text: Chinese converting to Islam after realising that no muslim was affected by #Coronavirus #COVD19 in the country | Label : fake (99.828%)\n"
     ]
    }
   ],
   "source": [
    "text = 'Chinese converting to Islam after realising that no muslim was affected by #Coronavirus #COVD19 in the country'\n",
    "subwords = tokenizer.encode(text)\n",
    "subwords = torch.LongTensor(subwords).view(1, -1).to(model.device)\n",
    "\n",
    "logits = model(subwords)[0]\n",
    "label = torch.topk(logits, k=1, dim=-1)[1].squeeze().item()\n",
    "\n",
    "print(f'Text: {text} | Label : {i2w[label]} ({F.softmax(logits, dim=-1).squeeze()[label] * 100:.3f}%)')"
   ]
  },
  {
   "cell_type": "code",
   "execution_count": null,
   "metadata": {},
   "outputs": [],
   "source": []
  }
 ],
 "metadata": {
  "kernelspec": {
   "display_name": "Python 3",
   "language": "python",
   "name": "python3"
  },
  "language_info": {
   "codemirror_mode": {
    "name": "ipython",
    "version": 3
   },
   "file_extension": ".py",
   "mimetype": "text/x-python",
   "name": "python",
   "nbconvert_exporter": "python",
   "pygments_lexer": "ipython3",
   "version": "3.7.4"
  }
 },
 "nbformat": 4,
 "nbformat_minor": 4
}
